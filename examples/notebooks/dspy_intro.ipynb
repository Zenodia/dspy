{
 "cells": [
  {
   "cell_type": "code",
   "execution_count": null,
   "id": "2aed9193",
   "metadata": {},
   "outputs": [],
   "source": []
  },
  {
   "cell_type": "code",
   "execution_count": 6,
   "id": "a7846875",
   "metadata": {},
   "outputs": [],
   "source": []
  },
  {
   "cell_type": "code",
   "execution_count": 7,
   "id": "5f6063ff",
   "metadata": {},
   "outputs": [],
   "source": [
    "from dotenv import load_dotenv\n",
    "load_dotenv()\n",
    "base_url = 'https://integrate.api.nvidia.com/v1'\n",
    "model = \"meta/llama-3.3-70b-instruct\"\n",
    "\n"
   ]
  },
  {
   "cell_type": "code",
   "execution_count": null,
   "id": "339016c9",
   "metadata": {},
   "outputs": [],
   "source": [
    "\n"
   ]
  },
  {
   "cell_type": "code",
   "execution_count": 14,
   "id": "8839cadd",
   "metadata": {},
   "outputs": [
    {
     "data": {
      "text/plain": [
       "<bound method Settings.configure of {'lm': <__main__.CustomLMClient object at 0x7f35022559c0>, 'adapter': <dspy.adapters.chat_adapter.ChatAdapter object at 0x7f34a8d418a0>, 'rm': None, 'branch_idx': 0, 'trace': [], 'bypass_assert': False, 'bypass_suggest': False, 'assert_failures': 0, 'suggest_failures': 0, 'experimental': False, 'backoff_time': 10, 'callbacks': [], 'async_max_workers': 8, 'send_stream': None}>"
      ]
     },
     "execution_count": 14,
     "metadata": {},
     "output_type": "execute_result"
    }
   ],
   "source": []
  },
  {
   "cell_type": "code",
   "execution_count": 16,
   "id": "bd69abb2",
   "metadata": {},
   "outputs": [
    {
     "data": {
      "text/plain": [
       "Prediction(\n",
       "    reasoning='To find the answer, we simply need to add 2 and 2 together, which is a basic arithmetic operation.',\n",
       "    answer='4'\n",
       ")"
      ]
     },
     "execution_count": 16,
     "metadata": {},
     "output_type": "execute_result"
    }
   ],
   "source": [
    "\n",
    "import dspy\n",
    "lm = dspy.LM(f'openai/{model}', api_key=os.environ[\"NVIDIA_API_KEY\"], api_base=base_url)\n",
    "dspy.configure(lm=lm)\n",
    "module = dspy.ChainOfThought('question -> answer')\n",
    "module(question=\"What is 2+2?\")\n"
   ]
  },
  {
   "cell_type": "code",
   "execution_count": 18,
   "id": "5ec9271b",
   "metadata": {},
   "outputs": [
    {
     "data": {
      "text/plain": [
       "dict_keys(['prompt', 'messages', 'kwargs', 'response', 'outputs', 'usage', 'cost', 'timestamp', 'uuid', 'model', 'response_model', 'model_type'])"
      ]
     },
     "execution_count": 18,
     "metadata": {},
     "output_type": "execute_result"
    }
   ],
   "source": [
    "len(lm.history)  # e.g., 3 calls to the LM \n",
    "lm.history[-1].keys()  # access the last call to the LM, with all metadata\n",
    "\n"
   ]
  },
  {
   "cell_type": "code",
   "execution_count": 20,
   "id": "882ec512",
   "metadata": {},
   "outputs": [
    {
     "data": {
      "text/plain": [
       "Prediction(\n",
       "    reasoning='To determine the verdicts for the given claims, we need to assess their accuracy based on historical and technical facts about Python. \\n[1] The claim \"Python was released in 1991\" can be verified by looking at the history of Python. Python was indeed first released in 1991 by Guido van Rossum.\\n[2] The claim \"Python is a compiled language\" needs to be evaluated based on how Python code is executed. Python is actually an interpreted language, not a compiled one. When you run Python code, it is first compiled into bytecode, which is then executed by the Python interpreter. This process happens on the fly, distinguishing it from compiled languages like C or C++, where the compilation into machine code happens before execution.',\n",
       "    verdicts=[True, False]\n",
       ")"
      ]
     },
     "execution_count": 20,
     "metadata": {},
     "output_type": "execute_result"
    }
   ],
   "source": [
    "fact_checking = dspy.ChainOfThought('claims -> verdicts: list[bool]')\n",
    "fact_checking(claims=[\"Python was released in 1991.\", \"Python is a compiled language.\"])\n"
   ]
  },
  {
   "cell_type": "code",
   "execution_count": 21,
   "id": "a7f41e51",
   "metadata": {},
   "outputs": [
    {
     "name": "stdout",
     "output_type": "stream",
     "text": [
      "\n",
      "\n",
      "\n",
      "\n",
      "\u001b[34m[2025-01-07T16:15:34.261128]\u001b[0m\n",
      "\n",
      "\u001b[31mSystem message:\u001b[0m\n",
      "\n",
      "Your input fields are:\n",
      "1. `claims` (str)\n",
      "\n",
      "Your output fields are:\n",
      "1. `reasoning` (str)\n",
      "2. `verdicts` (list[bool])\n",
      "\n",
      "All interactions will be structured in the following way, with the appropriate values filled in.\n",
      "\n",
      "[[ ## claims ## ]]\n",
      "{claims}\n",
      "\n",
      "[[ ## reasoning ## ]]\n",
      "{reasoning}\n",
      "\n",
      "[[ ## verdicts ## ]]\n",
      "{verdicts}        # note: the value you produce must be pareseable according to the following JSON schema: {\"type\": \"array\", \"items\": {\"type\": \"boolean\"}}\n",
      "\n",
      "[[ ## completed ## ]]\n",
      "\n",
      "In adhering to this structure, your objective is: \n",
      "        Given the fields `claims`, produce the fields `verdicts`.\n",
      "\n",
      "\n",
      "\u001b[31mUser message:\u001b[0m\n",
      "\n",
      "[[ ## claims ## ]]\n",
      "[1] «Python was released in 1991.»\n",
      "[2] «Python is a compiled language.»\n",
      "\n",
      "Respond with the corresponding output fields, starting with the field `[[ ## reasoning ## ]]`, then `[[ ## verdicts ## ]]` (must be formatted as a valid Python list[bool]), and then ending with the marker for `[[ ## completed ## ]]`.\n",
      "\n",
      "\n",
      "\u001b[31mResponse:\u001b[0m\n",
      "\n",
      "\u001b[32m[[ ## reasoning ## ]]\n",
      "To determine the verdicts for the given claims, we need to assess their accuracy based on historical and technical facts about Python. \n",
      "[1] The claim \"Python was released in 1991\" can be verified by looking at the history of Python. Python was indeed first released in 1991 by Guido van Rossum.\n",
      "[2] The claim \"Python is a compiled language\" needs to be evaluated based on how Python code is executed. Python is actually an interpreted language, not a compiled one. When you run Python code, it is first compiled into bytecode, which is then executed by the Python interpreter. This process happens on the fly, distinguishing it from compiled languages like C or C++, where the compilation into machine code happens before execution.\n",
      "\n",
      "[[ ## verdicts ## ]]\n",
      "[True, False]\n",
      "\n",
      "[[ ## completed ## ]]\u001b[0m\n",
      "\n",
      "\n",
      "\n",
      "\n",
      "\n"
     ]
    }
   ],
   "source": [
    "dspy.inspect_history()\n"
   ]
  },
  {
   "cell_type": "code",
   "execution_count": null,
   "id": "2256eead",
   "metadata": {},
   "outputs": [],
   "source": []
  }
 ],
 "metadata": {
  "kernelspec": {
   "display_name": "Python 3 (ipykernel)",
   "language": "python",
   "name": "python3"
  },
  "language_info": {
   "codemirror_mode": {
    "name": "ipython",
    "version": 3
   },
   "file_extension": ".py",
   "mimetype": "text/x-python",
   "name": "python",
   "nbconvert_exporter": "python",
   "pygments_lexer": "ipython3",
   "version": "3.10.12"
  }
 },
 "nbformat": 4,
 "nbformat_minor": 5
}
