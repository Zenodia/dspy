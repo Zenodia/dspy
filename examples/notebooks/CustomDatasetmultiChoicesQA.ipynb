{
 "cells": [
  {
   "cell_type": "markdown",
   "id": "af52cb97",
   "metadata": {},
   "source": [
    "---\n",
    "## Data prep steps : preprocess dataset into a list of  dspy.Example\n"
   ]
  },
  {
   "cell_type": "code",
   "execution_count": 1,
   "id": "0e7ec83a",
   "metadata": {},
   "outputs": [
    {
     "data": {
      "text/html": [
       "<div>\n",
       "<style scoped>\n",
       "    .dataframe tbody tr th:only-of-type {\n",
       "        vertical-align: middle;\n",
       "    }\n",
       "\n",
       "    .dataframe tbody tr th {\n",
       "        vertical-align: top;\n",
       "    }\n",
       "\n",
       "    .dataframe thead th {\n",
       "        text-align: right;\n",
       "    }\n",
       "</style>\n",
       "<table border=\"1\" class=\"dataframe\">\n",
       "  <thead>\n",
       "    <tr style=\"text-align: right;\">\n",
       "      <th></th>\n",
       "      <th>Unnamed: 0</th>\n",
       "      <th>startphrase</th>\n",
       "      <th>ending0</th>\n",
       "      <th>ending1</th>\n",
       "      <th>ending2</th>\n",
       "      <th>ending3</th>\n",
       "      <th>label</th>\n",
       "      <th>answer</th>\n",
       "    </tr>\n",
       "  </thead>\n",
       "  <tbody>\n",
       "    <tr>\n",
       "      <th>0</th>\n",
       "      <td>0</td>\n",
       "      <td>Which factor will most likely cause a person t...</td>\n",
       "      <td>a leg muscle relaxing after exercise</td>\n",
       "      <td>a bacterial population in the bloodstream</td>\n",
       "      <td>several viral particles on the skin</td>\n",
       "      <td>carbohydrates being digested in the stomach</td>\n",
       "      <td>1</td>\n",
       "      <td>a bacterial population in the bloodstream</td>\n",
       "    </tr>\n",
       "    <tr>\n",
       "      <th>1</th>\n",
       "      <td>1</td>\n",
       "      <td>Lichens are symbiotic organisms made of green ...</td>\n",
       "      <td>carbon dioxide</td>\n",
       "      <td>food</td>\n",
       "      <td>protection</td>\n",
       "      <td>water</td>\n",
       "      <td>1</td>\n",
       "      <td>food</td>\n",
       "    </tr>\n",
       "    <tr>\n",
       "      <th>2</th>\n",
       "      <td>2</td>\n",
       "      <td>When a switch is used in an electrical circuit...</td>\n",
       "      <td>cause the charge to build.</td>\n",
       "      <td>increase and decrease the voltage.</td>\n",
       "      <td>cause the current to change direction.</td>\n",
       "      <td>stop and start the flow of current.</td>\n",
       "      <td>3</td>\n",
       "      <td>stop and start the flow of current.</td>\n",
       "    </tr>\n",
       "    <tr>\n",
       "      <th>3</th>\n",
       "      <td>3</td>\n",
       "      <td>Which of the following is an example of an ass...</td>\n",
       "      <td>contact lens</td>\n",
       "      <td>motorcycle</td>\n",
       "      <td>raincoat</td>\n",
       "      <td>coffee pot</td>\n",
       "      <td>0</td>\n",
       "      <td>contact lens</td>\n",
       "    </tr>\n",
       "    <tr>\n",
       "      <th>4</th>\n",
       "      <td>4</td>\n",
       "      <td>Rocks are classified as igneous, metamorphic, ...</td>\n",
       "      <td>their color</td>\n",
       "      <td>their shape</td>\n",
       "      <td>how they formed</td>\n",
       "      <td>the minerals they contain</td>\n",
       "      <td>2</td>\n",
       "      <td>how they formed</td>\n",
       "    </tr>\n",
       "  </tbody>\n",
       "</table>\n",
       "</div>"
      ],
      "text/plain": [
       "   Unnamed: 0                                        startphrase  \\\n",
       "0           0  Which factor will most likely cause a person t...   \n",
       "1           1  Lichens are symbiotic organisms made of green ...   \n",
       "2           2  When a switch is used in an electrical circuit...   \n",
       "3           3  Which of the following is an example of an ass...   \n",
       "4           4  Rocks are classified as igneous, metamorphic, ...   \n",
       "\n",
       "                                  ending0  \\\n",
       "0   a leg muscle relaxing after exercise    \n",
       "1                         carbon dioxide    \n",
       "2             cause the charge to build.    \n",
       "3                           contact lens    \n",
       "4                            their color    \n",
       "\n",
       "                                       ending1  \\\n",
       "0   a bacterial population in the bloodstream    \n",
       "1                                        food    \n",
       "2          increase and decrease the voltage.    \n",
       "3                                  motorcycle    \n",
       "4                                 their shape    \n",
       "\n",
       "                                    ending2  \\\n",
       "0      several viral particles on the skin    \n",
       "1                               protection    \n",
       "2   cause the current to change direction.    \n",
       "3                                 raincoat    \n",
       "4                          how they formed    \n",
       "\n",
       "                                        ending3  label  \\\n",
       "0   carbohydrates being digested in the stomach      1   \n",
       "1                                         water      1   \n",
       "2           stop and start the flow of current.      3   \n",
       "3                                    coffee pot      0   \n",
       "4                     the minerals they contain      2   \n",
       "\n",
       "                                        answer  \n",
       "0   a bacterial population in the bloodstream   \n",
       "1                                        food   \n",
       "2          stop and start the flow of current.  \n",
       "3                                contact lens   \n",
       "4                             how they formed   "
      ]
     },
     "execution_count": 1,
     "metadata": {},
     "output_type": "execute_result"
    }
   ],
   "source": [
    "import pandas as pd\n",
    "#xls = pd.ExcelFile('/workspace/nvdata/Eval data set.xlsx')\n",
    "#df1 = pd.read_excel(xls, 'Single Bug Details')\n",
    "train=pd.read_csv('/workspace/nvdata/train.csv')\n",
    "n=len(train)\n",
    "num2answer=[]\n",
    "for i in range(n):\n",
    "    label=int(train.iloc[i,-1])+2\n",
    "    answer=train.iloc[i,label]\n",
    "    num2answer.append(answer)\n",
    "train[\"answer\"]=num2answer\n",
    "train.head()"
   ]
  },
  {
   "cell_type": "code",
   "execution_count": null,
   "id": "55f05bd4",
   "metadata": {},
   "outputs": [],
   "source": []
  },
  {
   "cell_type": "code",
   "execution_count": null,
   "id": "214eaec3",
   "metadata": {},
   "outputs": [],
   "source": []
  },
  {
   "cell_type": "code",
   "execution_count": 2,
   "id": "101ff42a",
   "metadata": {},
   "outputs": [
    {
     "data": {
      "text/html": [
       "<div>\n",
       "<style scoped>\n",
       "    .dataframe tbody tr th:only-of-type {\n",
       "        vertical-align: middle;\n",
       "    }\n",
       "\n",
       "    .dataframe tbody tr th {\n",
       "        vertical-align: top;\n",
       "    }\n",
       "\n",
       "    .dataframe thead th {\n",
       "        text-align: right;\n",
       "    }\n",
       "</style>\n",
       "<table border=\"1\" class=\"dataframe\">\n",
       "  <thead>\n",
       "    <tr style=\"text-align: right;\">\n",
       "      <th></th>\n",
       "      <th>Unnamed: 0</th>\n",
       "      <th>startphrase</th>\n",
       "      <th>ending0</th>\n",
       "      <th>ending1</th>\n",
       "      <th>ending2</th>\n",
       "      <th>ending3</th>\n",
       "      <th>label</th>\n",
       "      <th>answer</th>\n",
       "      <th>choices</th>\n",
       "    </tr>\n",
       "  </thead>\n",
       "  <tbody>\n",
       "    <tr>\n",
       "      <th>0</th>\n",
       "      <td>0</td>\n",
       "      <td>Which factor will most likely cause a person t...</td>\n",
       "      <td>a leg muscle relaxing after exercise</td>\n",
       "      <td>a bacterial population in the bloodstream</td>\n",
       "      <td>several viral particles on the skin</td>\n",
       "      <td>carbohydrates being digested in the stomach</td>\n",
       "      <td>1</td>\n",
       "      <td>a bacterial population in the bloodstream</td>\n",
       "      <td>[ a leg muscle relaxing after exercise ,  a ba...</td>\n",
       "    </tr>\n",
       "    <tr>\n",
       "      <th>1</th>\n",
       "      <td>1</td>\n",
       "      <td>Lichens are symbiotic organisms made of green ...</td>\n",
       "      <td>carbon dioxide</td>\n",
       "      <td>food</td>\n",
       "      <td>protection</td>\n",
       "      <td>water</td>\n",
       "      <td>1</td>\n",
       "      <td>food</td>\n",
       "      <td>[ carbon dioxide ,  food ,  protection ,  water]</td>\n",
       "    </tr>\n",
       "    <tr>\n",
       "      <th>2</th>\n",
       "      <td>2</td>\n",
       "      <td>When a switch is used in an electrical circuit...</td>\n",
       "      <td>cause the charge to build.</td>\n",
       "      <td>increase and decrease the voltage.</td>\n",
       "      <td>cause the current to change direction.</td>\n",
       "      <td>stop and start the flow of current.</td>\n",
       "      <td>3</td>\n",
       "      <td>stop and start the flow of current.</td>\n",
       "      <td>[ cause the charge to build. ,  increase and d...</td>\n",
       "    </tr>\n",
       "    <tr>\n",
       "      <th>3</th>\n",
       "      <td>3</td>\n",
       "      <td>Which of the following is an example of an ass...</td>\n",
       "      <td>contact lens</td>\n",
       "      <td>motorcycle</td>\n",
       "      <td>raincoat</td>\n",
       "      <td>coffee pot</td>\n",
       "      <td>0</td>\n",
       "      <td>contact lens</td>\n",
       "      <td>[ contact lens ,  motorcycle ,  raincoat ,  co...</td>\n",
       "    </tr>\n",
       "    <tr>\n",
       "      <th>4</th>\n",
       "      <td>4</td>\n",
       "      <td>Rocks are classified as igneous, metamorphic, ...</td>\n",
       "      <td>their color</td>\n",
       "      <td>their shape</td>\n",
       "      <td>how they formed</td>\n",
       "      <td>the minerals they contain</td>\n",
       "      <td>2</td>\n",
       "      <td>how they formed</td>\n",
       "      <td>[ their color ,  their shape ,  how they forme...</td>\n",
       "    </tr>\n",
       "  </tbody>\n",
       "</table>\n",
       "</div>"
      ],
      "text/plain": [
       "   Unnamed: 0                                        startphrase  \\\n",
       "0           0  Which factor will most likely cause a person t...   \n",
       "1           1  Lichens are symbiotic organisms made of green ...   \n",
       "2           2  When a switch is used in an electrical circuit...   \n",
       "3           3  Which of the following is an example of an ass...   \n",
       "4           4  Rocks are classified as igneous, metamorphic, ...   \n",
       "\n",
       "                                  ending0  \\\n",
       "0   a leg muscle relaxing after exercise    \n",
       "1                         carbon dioxide    \n",
       "2             cause the charge to build.    \n",
       "3                           contact lens    \n",
       "4                            their color    \n",
       "\n",
       "                                       ending1  \\\n",
       "0   a bacterial population in the bloodstream    \n",
       "1                                        food    \n",
       "2          increase and decrease the voltage.    \n",
       "3                                  motorcycle    \n",
       "4                                 their shape    \n",
       "\n",
       "                                    ending2  \\\n",
       "0      several viral particles on the skin    \n",
       "1                               protection    \n",
       "2   cause the current to change direction.    \n",
       "3                                 raincoat    \n",
       "4                          how they formed    \n",
       "\n",
       "                                        ending3  label  \\\n",
       "0   carbohydrates being digested in the stomach      1   \n",
       "1                                         water      1   \n",
       "2           stop and start the flow of current.      3   \n",
       "3                                    coffee pot      0   \n",
       "4                     the minerals they contain      2   \n",
       "\n",
       "                                        answer  \\\n",
       "0   a bacterial population in the bloodstream    \n",
       "1                                        food    \n",
       "2          stop and start the flow of current.   \n",
       "3                                contact lens    \n",
       "4                             how they formed    \n",
       "\n",
       "                                             choices  \n",
       "0  [ a leg muscle relaxing after exercise ,  a ba...  \n",
       "1   [ carbon dioxide ,  food ,  protection ,  water]  \n",
       "2  [ cause the charge to build. ,  increase and d...  \n",
       "3  [ contact lens ,  motorcycle ,  raincoat ,  co...  \n",
       "4  [ their color ,  their shape ,  how they forme...  "
      ]
     },
     "execution_count": 2,
     "metadata": {},
     "output_type": "execute_result"
    }
   ],
   "source": [
    "#df=train.iloc[:,[1,2,3,4,5,7]]\n",
    "def row_bind(row):\n",
    "    return [row['ending0'],row['ending1'],row['ending2'],row['ending3']]\n",
    "train['choices']=train.apply(row_bind, axis=1)\n",
    "train.head()\n"
   ]
  },
  {
   "cell_type": "code",
   "execution_count": 3,
   "id": "ec86ea65",
   "metadata": {},
   "outputs": [
    {
     "data": {
      "text/html": [
       "<div>\n",
       "<style scoped>\n",
       "    .dataframe tbody tr th:only-of-type {\n",
       "        vertical-align: middle;\n",
       "    }\n",
       "\n",
       "    .dataframe tbody tr th {\n",
       "        vertical-align: top;\n",
       "    }\n",
       "\n",
       "    .dataframe thead th {\n",
       "        text-align: right;\n",
       "    }\n",
       "</style>\n",
       "<table border=\"1\" class=\"dataframe\">\n",
       "  <thead>\n",
       "    <tr style=\"text-align: right;\">\n",
       "      <th></th>\n",
       "      <th>Unnamed: 0</th>\n",
       "      <th>startphrase</th>\n",
       "      <th>ending0</th>\n",
       "      <th>ending1</th>\n",
       "      <th>ending2</th>\n",
       "      <th>ending3</th>\n",
       "      <th>label</th>\n",
       "      <th>answer</th>\n",
       "      <th>choices</th>\n",
       "    </tr>\n",
       "  </thead>\n",
       "  <tbody>\n",
       "    <tr>\n",
       "      <th>0</th>\n",
       "      <td>0</td>\n",
       "      <td>Which factor will most likely cause a person t...</td>\n",
       "      <td>a leg muscle relaxing after exercise</td>\n",
       "      <td>a bacterial population in the bloodstream</td>\n",
       "      <td>several viral particles on the skin</td>\n",
       "      <td>carbohydrates being digested in the stomach</td>\n",
       "      <td>1</td>\n",
       "      <td>a bacterial population in the bloodstream</td>\n",
       "      <td>[ a leg muscle relaxing after exercise ,  a ba...</td>\n",
       "    </tr>\n",
       "    <tr>\n",
       "      <th>1</th>\n",
       "      <td>1</td>\n",
       "      <td>Lichens are symbiotic organisms made of green ...</td>\n",
       "      <td>carbon dioxide</td>\n",
       "      <td>food</td>\n",
       "      <td>protection</td>\n",
       "      <td>water</td>\n",
       "      <td>1</td>\n",
       "      <td>food</td>\n",
       "      <td>[ carbon dioxide ,  food ,  protection ,  water]</td>\n",
       "    </tr>\n",
       "    <tr>\n",
       "      <th>2</th>\n",
       "      <td>2</td>\n",
       "      <td>When a switch is used in an electrical circuit...</td>\n",
       "      <td>cause the charge to build.</td>\n",
       "      <td>increase and decrease the voltage.</td>\n",
       "      <td>cause the current to change direction.</td>\n",
       "      <td>stop and start the flow of current.</td>\n",
       "      <td>3</td>\n",
       "      <td>stop and start the flow of current.</td>\n",
       "      <td>[ cause the charge to build. ,  increase and d...</td>\n",
       "    </tr>\n",
       "    <tr>\n",
       "      <th>3</th>\n",
       "      <td>3</td>\n",
       "      <td>Which of the following is an example of an ass...</td>\n",
       "      <td>contact lens</td>\n",
       "      <td>motorcycle</td>\n",
       "      <td>raincoat</td>\n",
       "      <td>coffee pot</td>\n",
       "      <td>0</td>\n",
       "      <td>contact lens</td>\n",
       "      <td>[ contact lens ,  motorcycle ,  raincoat ,  co...</td>\n",
       "    </tr>\n",
       "    <tr>\n",
       "      <th>4</th>\n",
       "      <td>4</td>\n",
       "      <td>Rocks are classified as igneous, metamorphic, ...</td>\n",
       "      <td>their color</td>\n",
       "      <td>their shape</td>\n",
       "      <td>how they formed</td>\n",
       "      <td>the minerals they contain</td>\n",
       "      <td>2</td>\n",
       "      <td>how they formed</td>\n",
       "      <td>[ their color ,  their shape ,  how they forme...</td>\n",
       "    </tr>\n",
       "  </tbody>\n",
       "</table>\n",
       "</div>"
      ],
      "text/plain": [
       "   Unnamed: 0                                        startphrase  \\\n",
       "0           0  Which factor will most likely cause a person t...   \n",
       "1           1  Lichens are symbiotic organisms made of green ...   \n",
       "2           2  When a switch is used in an electrical circuit...   \n",
       "3           3  Which of the following is an example of an ass...   \n",
       "4           4  Rocks are classified as igneous, metamorphic, ...   \n",
       "\n",
       "                                  ending0  \\\n",
       "0   a leg muscle relaxing after exercise    \n",
       "1                         carbon dioxide    \n",
       "2             cause the charge to build.    \n",
       "3                           contact lens    \n",
       "4                            their color    \n",
       "\n",
       "                                       ending1  \\\n",
       "0   a bacterial population in the bloodstream    \n",
       "1                                        food    \n",
       "2          increase and decrease the voltage.    \n",
       "3                                  motorcycle    \n",
       "4                                 their shape    \n",
       "\n",
       "                                    ending2  \\\n",
       "0      several viral particles on the skin    \n",
       "1                               protection    \n",
       "2   cause the current to change direction.    \n",
       "3                                 raincoat    \n",
       "4                          how they formed    \n",
       "\n",
       "                                        ending3  label  \\\n",
       "0   carbohydrates being digested in the stomach      1   \n",
       "1                                         water      1   \n",
       "2           stop and start the flow of current.      3   \n",
       "3                                    coffee pot      0   \n",
       "4                     the minerals they contain      2   \n",
       "\n",
       "                                        answer  \\\n",
       "0   a bacterial population in the bloodstream    \n",
       "1                                        food    \n",
       "2          stop and start the flow of current.   \n",
       "3                                contact lens    \n",
       "4                             how they formed    \n",
       "\n",
       "                                             choices  \n",
       "0  [ a leg muscle relaxing after exercise ,  a ba...  \n",
       "1   [ carbon dioxide ,  food ,  protection ,  water]  \n",
       "2  [ cause the charge to build. ,  increase and d...  \n",
       "3  [ contact lens ,  motorcycle ,  raincoat ,  co...  \n",
       "4  [ their color ,  their shape ,  how they forme...  "
      ]
     },
     "execution_count": 3,
     "metadata": {},
     "output_type": "execute_result"
    }
   ],
   "source": [
    "trainset=train.iloc[:50,:]\n",
    "trainset.head()"
   ]
  },
  {
   "cell_type": "code",
   "execution_count": 4,
   "id": "dd8de688",
   "metadata": {},
   "outputs": [
    {
     "name": "stderr",
     "output_type": "stream",
     "text": [
      "/tmp/ipykernel_85116/2985071205.py:2: SettingWithCopyWarning: \n",
      "A value is trying to be set on a copy of a slice from a DataFrame\n",
      "\n",
      "See the caveats in the documentation: https://pandas.pydata.org/pandas-docs/stable/user_guide/indexing.html#returning-a-view-versus-a-copy\n",
      "  df.rename(columns={'startphrase': 'question'}, inplace=True)\n"
     ]
    },
    {
     "data": {
      "text/plain": [
       "[{'question': 'Which factor will most likely cause a person to develop a fever? ',\n",
       "  'choices': [' a leg muscle relaxing after exercise ',\n",
       "   ' a bacterial population in the bloodstream ',\n",
       "   ' several viral particles on the skin ',\n",
       "   ' carbohydrates being digested in the stomach'],\n",
       "  'answer': ' a bacterial population in the bloodstream '},\n",
       " {'question': 'Lichens are symbiotic organisms made of green algae and fungi. What do the green algae supply to the fungi in this symbiotic relationship? ',\n",
       "  'choices': [' carbon dioxide ', ' food ', ' protection ', ' water'],\n",
       "  'answer': ' food '}]"
      ]
     },
     "execution_count": 4,
     "metadata": {},
     "output_type": "execute_result"
    }
   ],
   "source": [
    "df=trainset.iloc[:,[1,-1,-2]]\n",
    "df.rename(columns={'startphrase': 'question'}, inplace=True)\n",
    "\n",
    "trainset=[dict(v) for _, v in df.iterrows()]\n",
    "\n",
    "trainset[:2]\n"
   ]
  },
  {
   "cell_type": "code",
   "execution_count": null,
   "id": "8a057298",
   "metadata": {},
   "outputs": [],
   "source": []
  },
  {
   "cell_type": "code",
   "execution_count": 5,
   "id": "9f4ad10e",
   "metadata": {},
   "outputs": [
    {
     "name": "stderr",
     "output_type": "stream",
     "text": [
      "/usr/local/lib/python3.10/dist-packages/tqdm/auto.py:21: TqdmWarning: IProgress not found. Please update jupyter and ipywidgets. See https://ipywidgets.readthedocs.io/en/stable/user_install.html\n",
      "  from .autonotebook import tqdm as notebook_tqdm\n"
     ]
    }
   ],
   "source": [
    "## arrange data to be a List of Dspy Examples\n",
    "import random\n",
    "import dspy\n",
    "\n",
    "\n",
    "kwargs = dict(fields=(\"question\", \"choices\", \"answer\"), input_keys=(\"question\",))\n",
    "hover = [\n",
    "    dspy.Example(question=x['question'], choices=x['choices'], answer=x[\"answer\"]).with_inputs(\"question\")\n",
    "    for x in trainset\n",
    "]\n",
    "\n",
    "random.Random(0).shuffle(hover)\n",
    "trainset, devset, testset = hover[:30], hover[30:40], hover[40:]"
   ]
  },
  {
   "cell_type": "code",
   "execution_count": 6,
   "id": "9b9fd819",
   "metadata": {},
   "outputs": [
    {
     "data": {
      "text/plain": [
       "[Example({'question': 'Which of the following properties provides the BEST way to identify a mineral? ', 'choices': [' hardness ', ' shape ', ' size ', ' temperature'], 'answer': ' hardness '}) (input_keys={'question'}),\n",
       " Example({'question': 'Which type of energy in gasoline is transformed into mechanical energy in a motorcycle engine? ', 'choices': [' chemical ', ' nuclear ', ' magnetic ', ' electrical'], 'answer': ' chemical '}) (input_keys={'question'}),\n",
       " Example({'question': 'Peach trees have sweet-smelling blossoms and produce rich fruit. What is the main purpose of the flowers of a peach tree? ', 'choices': [' to attract bees for pollination ', ' to create flower arrangements ', ' to protect the tree from disease ', ' to feed migratory birds'], 'answer': ' to attract bees for pollination '}) (input_keys={'question'})]"
      ]
     },
     "execution_count": 6,
     "metadata": {},
     "output_type": "execute_result"
    }
   ],
   "source": [
    "testset[:3]"
   ]
  },
  {
   "cell_type": "code",
   "execution_count": null,
   "id": "f00c0e8c",
   "metadata": {},
   "outputs": [],
   "source": []
  },
  {
   "cell_type": "code",
   "execution_count": null,
   "id": "ddee2782",
   "metadata": {},
   "outputs": [],
   "source": []
  },
  {
   "cell_type": "markdown",
   "id": "d37e6ae7",
   "metadata": {},
   "source": [
    "---\n",
    "## naive run = no optimization just directly predict "
   ]
  },
  {
   "cell_type": "code",
   "execution_count": 7,
   "id": "ddc94e3d",
   "metadata": {},
   "outputs": [],
   "source": [
    "\n",
    "import dspy\n",
    "import os\n",
    "from dotenv import load_dotenv\n",
    "load_dotenv()\n",
    "base_url = 'https://integrate.api.nvidia.com/v1'\n",
    "model = \"meta/llama-3.3-70b-instruct\"\n",
    "\n",
    "llama33_70b = dspy.LM(f'openai/{model}', api_key=os.environ[\"NVIDIA_API_KEY\"], api_base=base_url)\n",
    "\n",
    "mixtral8x22b = dspy.LM('openai/nvdev/mistralai/mixtral-8x22b-instruct-v0.1', api_key=os.environ[\"NV_DEV_API_KEY\"], api_base=base_url, temperature=0.7)\n",
    "\n",
    "dspy.configure(lm=mixtral8x22b)"
   ]
  },
  {
   "cell_type": "code",
   "execution_count": 8,
   "id": "6922fb69",
   "metadata": {},
   "outputs": [
    {
     "name": "stdout",
     "output_type": "stream",
     "text": [
      "the example is  When plants undergo photosynthesis, a reaction produces sugar, oxygen, and water. During respiration, stored energy from the products of photosynthesis is converted to usable energy. In what form is the energy stored prior to use in respiration?  \n",
      " choices are :  [' chemical energy ', ' kinetic energy ', ' light energy ', ' heat energy']\n",
      " the predicted output is >>>  Prediction(\n",
      "    reasoning='During photosynthesis, plants convert light energy into chemical energy in the form of glucose (sugar). This chemical energy is stored in the glucose molecules, which are then broken down during respiration to release the stored energy to be used by the plant for growth and other functions.',\n",
      "    answer='[1] « chemical energy »'\n",
      ") \n",
      "the correct answer is :   chemical energy \n"
     ]
    }
   ],
   "source": [
    "example=trainset[0]\n",
    "print(\"the example is \" , example.question , '\\n', \"choices are : \", example.choices )\n",
    "module = dspy.ChainOfThought(\"question, choices -> answer\")\n",
    "out=module(question=example.question, choices=example.choices)\n",
    "print(\" the predicted output is >>> \", out, \"\\nthe correct answer is : \", example.answer)"
   ]
  },
  {
   "cell_type": "code",
   "execution_count": 9,
   "id": "d00c4127",
   "metadata": {},
   "outputs": [
    {
     "data": {
      "text/plain": [
       "'like they are pumped up»'"
      ]
     },
     "execution_count": 9,
     "metadata": {},
     "output_type": "execute_result"
    }
   ],
   "source": [
    "eg=\" like they are pumped up» \"\n",
    "eg=eg.strip()\n",
    "eg\n"
   ]
  },
  {
   "cell_type": "markdown",
   "id": "f3310b83",
   "metadata": {},
   "source": [
    "## create our own custom metrics for measuring "
   ]
  },
  {
   "cell_type": "code",
   "execution_count": 32,
   "id": "f03f5975",
   "metadata": {},
   "outputs": [],
   "source": [
    "from colorama import Fore\n",
    "def validate_answer(example, pred, trace=None, return_answer=False):\n",
    "    print(Fore.BLUE+ \"inspect reasoning >>> \" , pred.reasoning , return_answer)\n",
    "    \n",
    "    ## stripping spaces before or after the answer \n",
    "    answer=example.answer.strip()\n",
    "    pred_answer=pred.answer \n",
    "    if '[' in pred_answer or ']' in pred_answer:\n",
    "        pred_answer=pred_answer.split(']')[-1]\n",
    "        pred_answer=pred_answer.replace(\"«\",\"\").replace(\"»\",\"\").strip() \n",
    "        print(Fore.CYAN + \"stripped strange characters in pred if any :\", pred_answer )\n",
    "        print(Fore.BLACK + \"gold answer:\",  example.answer )\n",
    "        print( answer.lower()==pred_answer.lower() )\n",
    "    else:\n",
    "        pred_answer=pred_answer.replace(\"« \",\"\").replace(\" »\",\"\").strip()\n",
    "        print(Fore.CYAN + \"stripped strange characters in pred if any :\", pred_answer )\n",
    "        print(Fore.BLACK + \"gold answer:\" ,example.answer )\n",
    "        print( answer.lower()==pred_answer.lower() )\n",
    "    if return_answer :\n",
    "        return answer.lower() == pred_answer.lower(), pred_answer \n",
    "    else:\n",
    "        return answer.lower() == pred_answer.lower()"
   ]
  },
  {
   "cell_type": "code",
   "execution_count": 33,
   "id": "24a1203e",
   "metadata": {},
   "outputs": [
    {
     "name": "stdout",
     "output_type": "stream",
     "text": [
      "\u001b[34minspect reasoning >>>  The best way to identify a mineral is by its physical and chemical properties. Hardness is a physical property that can be used to distinguish minerals. The Mohs scale of mineral hardness is a qualitative ordinal scale that characterizes the scratch resistance of various minerals through the ability of a harder material to scratch a softer material. This scale is useful for field geology as a way to identify minerals using scratch kits. True\n",
      "\u001b[36mstripped strange characters in pred if any : hardness\n",
      "\u001b[30mgold answer:  hardness \n",
      "True\n",
      "------------------------------\n",
      "hardness\n",
      " hardness \n",
      "True\n"
     ]
    },
    {
     "data": {
      "text/plain": [
       "[1]"
      ]
     },
     "execution_count": 33,
     "metadata": {},
     "output_type": "execute_result"
    }
   ],
   "source": [
    "scores = []\n",
    "i=0\n",
    "for x in testset:\n",
    "    if i==0 :\n",
    "        pred = module(question=x.question, choices=x.choices)\n",
    "        true_false_flag, pred_answer  = validate_answer(x, pred,None,return_answer=True)\n",
    "        print(\"---\"*10)\n",
    "        print(pred_answer)\n",
    "        print(x.answer)\n",
    "        print(true_false_flag)\n",
    "    else:\n",
    "        break \n",
    "    if true_false_flag:\n",
    "        scores.append(1)\n",
    "    else:\n",
    "        scores.append(0)\n",
    "    i+=1 \n",
    "scores"
   ]
  },
  {
   "cell_type": "code",
   "execution_count": 44,
   "id": "8f331ffd",
   "metadata": {},
   "outputs": [],
   "source": [
    "q=devset[0].question\n"
   ]
  },
  {
   "cell_type": "code",
   "execution_count": 45,
   "id": "f6cf5a1a",
   "metadata": {},
   "outputs": [
    {
     "data": {
      "text/plain": [
       "[' removing grass from the steepest slope. ',\n",
       " ' building terraces into the sides of a slope. ',\n",
       " ' heavily watering the vegetation on the slope. ',\n",
       " ' increasing the slope of the land by adding more soil.']"
      ]
     },
     "execution_count": 45,
     "metadata": {},
     "output_type": "execute_result"
    }
   ],
   "source": [
    "[example.choices for example in devset if example.question==q][0]"
   ]
  },
  {
   "cell_type": "code",
   "execution_count": 50,
   "id": "188306aa",
   "metadata": {},
   "outputs": [],
   "source": [
    "class BasicQA(dspy.Signature):\n",
    "    \"\"\"Answer questions with short factoid answers.\"\"\"\n",
    "\n",
    "    question = dspy.InputField()\n",
    "    choices = dspy.InputField()\n",
    "    answer = dspy.OutputField(desc=\"often between 1 and 5 words\")\n",
    "class MultiChoices(dspy.Module):\n",
    "    def __init__(self, dataset):\n",
    "        #self.pred = dspy.ChainOfThought('question, choices -> answer')\n",
    "        self.pred = dspy.ChainOfThought(BasicQA)\n",
    "        self.dataset=dataset\n",
    "\n",
    "    def forward(self, question):\n",
    "        choices=[example.choices for example in self.dataset if example.question==question][0]\n",
    "        return self.pred(choices=choices, question=question)"
   ]
  },
  {
   "cell_type": "code",
   "execution_count": 46,
   "id": "e1bf133a",
   "metadata": {},
   "outputs": [
    {
     "data": {
      "text/plain": [
       "Example({'question': 'When plants undergo photosynthesis, a reaction produces sugar, oxygen, and water. During respiration, stored energy from the products of photosynthesis is converted to usable energy. In what form is the energy stored prior to use in respiration? ', 'choices': [' chemical energy ', ' kinetic energy ', ' light energy ', ' heat energy'], 'answer': ' chemical energy '}) (input_keys={'question'})"
      ]
     },
     "execution_count": 46,
     "metadata": {},
     "output_type": "execute_result"
    }
   ],
   "source": [
    "example"
   ]
  },
  {
   "cell_type": "code",
   "execution_count": null,
   "id": "b0a565ec",
   "metadata": {},
   "outputs": [],
   "source": []
  },
  {
   "cell_type": "code",
   "execution_count": 51,
   "id": "6559a6bc",
   "metadata": {},
   "outputs": [
    {
     "data": {
      "text/plain": [
       "'chemical energy'"
      ]
     },
     "execution_count": 51,
     "metadata": {},
     "output_type": "execute_result"
    }
   ],
   "source": [
    "qa_bot = MultiChoices([example])\n",
    "pred = qa_bot.forward(example.question)\n",
    "pred.answer"
   ]
  },
  {
   "cell_type": "code",
   "execution_count": 53,
   "id": "fd2a5d90",
   "metadata": {},
   "outputs": [
    {
     "data": {
      "text/plain": [
       "'During photosynthesis, plants convert light energy into chemical energy. This chemical energy is stored in the form of glucose, which is produced from carbon dioxide and water. During respiration, this stored chemical energy is released and converted to usable energy in the form of ATP (adenosine triphosphate).'"
      ]
     },
     "execution_count": 53,
     "metadata": {},
     "output_type": "execute_result"
    }
   ],
   "source": [
    "pred.reasoning"
   ]
  },
  {
   "cell_type": "code",
   "execution_count": 76,
   "id": "0717d97f",
   "metadata": {},
   "outputs": [
    {
     "name": "stdout",
     "output_type": "stream",
     "text": [
      "\u001b[34minspect reasoning >>>  During photosynthesis, plants convert light energy into chemical energy. This chemical energy is stored in the form of glucose, which is produced from carbon dioxide and water. During respiration, this stored chemical energy is released and converted to usable energy in the form of ATP (adenosine triphosphate). False\n",
      "\u001b[36mstripped strange characters in pred if any : chemical energy\n",
      "\u001b[30mgold answer:  chemical energy \n",
      "True\n",
      "Average Metric: 1.00 / 1 (100.0%):   0%|                                                                                                                                                  | 0/30 [00:00<?, ?it/s]\u001b[34minspect reasoning >>>  All cells, regardless of type, share the characteristic of requiring energy to perform various cellular functions. This energy is obtained through different means such as photosynthesis, cellular respiration, or consuming other organisms. False\n",
      "\u001b[36mstripped strange characters in pred if any : They need energy.\n",
      "\u001b[30mgold answer:  They need energy. \n",
      "True\n",
      "Average Metric: 2.00 / 2 (100.0%):   7%|█████████▏                                                                                                                                | 2/30 [00:05<01:14,  2.65s/it]\u001b[34minspect reasoning >>>  The process of iron oxidizing and forming red, orange, and yellow rocks is a result of chemical weathering. This occurs when oxygen and water react with minerals in the rock to form new compounds, such as iron oxides, which give rocks their distinctive colors. False\n",
      "\u001b[36mstripped strange characters in pred if any : chemical weathering\n",
      "\u001b[30mgold answer:  chemical weathering \n",
      "True\n",
      "Average Metric: 3.00 / 3 (100.0%):  10%|█████████████▊                                                                                                                            | 3/30 [00:05<00:43,  1.63s/it]\u001b[34minspect reasoning >>>  White fur color is an advantage in environments where there is snow for most of the year. This is because white fur allows animals to blend in with their surroundings, making it harder for predators to spot them. It also helps in hunting prey as they are camouflaged. False\n",
      "\u001b[36mstripped strange characters in pred if any : arctic tundra\n",
      "\u001b[30mgold answer:  arctic tundra \n",
      "True\n",
      "Average Metric: 4.00 / 4 (100.0%):  10%|█████████████▊                                                                                                                            | 3/30 [00:05<00:43,  1.63s/it]\u001b[34minspect reasoning >>>  The process of freezing causes the particles of water to become arranged in a fixed position. This is due to the decrease in temperature, which reduces the kinetic energy of the water molecules, causing them to slow down and form a solid crystal lattice, which is ice. False\n",
      "\u001b[36mstripped strange characters in pred if any : freezing\n",
      "\u001b[30mgold answer:  freezing \n",
      "True\n",
      "Average Metric: 5.00 / 5 (100.0%):  13%|██████████████████▍                                                                                                                       | 4/30 [00:05<00:42,  1.63s/it]\u001b[34minspect reasoning >>>  The chemical symbol for magnesium is determined by its name in the periodic table, which is derived from its Latin name \"magnesium.\" The correct symbol for magnesium is \"Mg,\" which is listed as one of the choices. Therefore, the correct answer is [2] \"Mg.\" False\n",
      "\u001b[36mstripped strange characters in pred if any : Mg\n",
      "\u001b[30mgold answer:  Mg \n",
      "True\n",
      "Average Metric: 6.00 / 6 (100.0%):  20%|███████████████████████████▌                                                                                                              | 6/30 [00:05<00:15,  1.58it/s]\u001b[34minspect reasoning >>>  Unicellular organisms are those that consist of only a single cell. All life functions, such as nutrition, respiration, reproduction, and excretion, are performed within this single cell. Therefore, the statement that every cell performs all life functions is the most accurate description of unicellular organisms. False\n",
      "\u001b[36mstripped strange characters in pred if any : Every cell performs all life functions.\n",
      "\u001b[30mgold answer:  Every cell performs all life functions.\n",
      "True\n",
      "Average Metric: 7.00 / 7 (100.0%):  20%|███████████████████████████▌                                                                                                              | 6/30 [00:05<00:15,  1.58it/s]\u001b[34minspect reasoning >>>  The process of changing igneous rock into metamorphic rock is driven by heat and pressure. These factors cause the minerals within the rock to change, creating a new type of rock. However, the question specifically asks for the form of energy. In this context, heat is the form of energy that drives the metamorphic process. False\n",
      "\u001b[36mstripped strange characters in pred if any : heat\n",
      "\u001b[30mgold answer:  heat \n",
      "True\n",
      "Average Metric: 8.00 / 8 (100.0%):  27%|████████████████████████████████████▊                                                                                                     | 8/30 [00:05<00:09,  2.41it/s]\u001b[34minspect reasoning >>>  The digestion process in humans begins as soon as food enters the mouth. The mechanical process of chewing, or mastication, breaks down the food into smaller pieces, while saliva mixes with the food to begin the chemical process of digestion. Specifically, saliva contains an enzyme called amylase that begins to break down starches into simpler sugars. False\n",
      "\u001b[36mstripped strange characters in pred if any : The mouth\n",
      "\u001b[30mgold answer:  the mouth, with chewing and saliva. \n",
      "False\n",
      "Average Metric: 8.00 / 9 (88.9%):  27%|█████████████████████████████████████                                                                                                      | 8/30 [00:06<00:09,  2.41it/s]\u001b[34minspect reasoning >>>  A fever is most commonly a response to an infection, which could be viral or bacterial. When the body detects foreign invaders, such as bacteria in the bloodstream, it triggers an immune response. This response includes raising the body's temperature to make it less hospitable for the invading organisms, causing a fever. False\n",
      "\u001b[36mstripped strange characters in pred if any : a bacterial population in the bloodstream\n",
      "\u001b[30mgold answer:  a bacterial population in the bloodstream \n",
      "True\n",
      "Average Metric: 9.00 / 10 (90.0%):  33%|█████████████████████████████████████████████▋                                                                                           | 10/30 [00:06<00:06,  3.31it/s]\u001b[34minspect reasoning >>>  The similarity in bone structure between a cow and a frog, despite their very different life cycles and overall body structures, is most likely due to their shared ancestry. This principle, known as homology, suggests that similar anatomical features in different species are the result of shared ancestry rather than similar environmental pressures or mutations. False\n",
      "\u001b[36mstripped strange characters in pred if any : Both descended from a common ancestor.\n",
      "\u001b[30mgold answer:  Both descended from a common ancestor. \n",
      "True\n",
      "Average Metric: 10.00 / 11 (90.9%):  33%|█████████████████████████████████████████████▎                                                                                          | 10/30 [00:06<00:06,  3.31it/s]\u001b[34minspect reasoning >>>  The mixture of iron filings and black pepper can be separated based on their physical properties. Iron filings are magnetic, while black pepper is not. Therefore, a magnet can be used to separate the iron filings from the black pepper. Filter paper is typically used to separate solids from liquids, a triple-beam balance is used to measure mass, and a voltmeter is used to measure voltage. False\n",
      "\u001b[36mstripped strange characters in pred if any : magnet\n",
      "\u001b[30mgold answer:  magnet \n",
      "True\n",
      "Average Metric: 11.00 / 12 (91.7%):  40%|██████████████████████████████████████████████████████▍                                                                                 | 12/30 [00:06<00:04,  4.41it/s]\u001b[34minspect reasoning >>>  Applying a cold ice pack can help reduce swelling but it does not prevent infection. Raising the injured area can help reduce bleeding and swelling but it also does not prevent infection. Applying pressure to stop bleeding is important but it does not necessarily prevent infection. Washing the area with warm, soapy water is the best way to prevent infection as it removes dirt and bacteria from the wound. False\n",
      "\u001b[36mstripped strange characters in pred if any : Wash with warm, soapy water\n",
      "\u001b[30mgold answer:  wash the area with warm, soapy water\n",
      "False\n",
      "Average Metric: 11.00 / 13 (84.6%):  40%|██████████████████████████████████████████████████████▍                                                                                 | 12/30 [00:06<00:04,  4.41it/s]\u001b[34minspect reasoning >>>  In a lichen, green algae and fungi work together to create a symbiotic relationship. Green algae are able to perform photosynthesis, which is a process that converts sunlight, water, and carbon dioxide into food for the organism. The food produced by green algae during photosynthesis is in the form of glucose, which is a type of sugar. This sugar provides the energy that the fungi need to grow and survive. False\n",
      "\u001b[36mstripped strange characters in pred if any : food\n",
      "\u001b[30mgold answer:  food \n",
      "True\n",
      "Average Metric: 12.00 / 14 (85.7%):  47%|███████████████████████████████████████████████████████████████▍                                                                        | 14/30 [00:06<00:03,  4.09it/s]\u001b[34minspect reasoning >>>  The process that most likely transfers heat from the campfire to the student is radiation. Radiation is the transfer of heat through empty space, and it does not require any medium to transmit the heat. In this case, the heat from the campfire radiates outward in all directions and warms the student standing nearby. Conduction would require direct contact between the fire and the student, convection would require a fluid or gas to carry the heat, and transformation is not a heat transfer process. False\n",
      "\u001b[36mstripped strange characters in pred if any : radiation\n",
      "\u001b[30mgold answer:  radiation \n",
      "True\n",
      "Average Metric: 13.00 / 15 (86.7%):  47%|███████████████████████████████████████████████████████████████▍                                                                        | 14/30 [00:06<00:03,  4.09it/s]\u001b[34minspect reasoning >>>  Calcium carbonate is commonly used as a treatment for stomach discomfort due to its ability to neutralize digestive acid. This alkaline compound reacts with the acid in the stomach, reducing its acidity and providing relief from symptoms such as indigestion, heartburn, and acid reflux. While calcium carbonate does occur naturally in the body and can be inexpensive to produce, these are not the primary reasons for its use in this context. The pleasant flavor of the tablet is also not a significant factor in its effectiveness as a medicine. False\n",
      "\u001b[36mstripped strange characters in pred if any : neutralizes digestive acid\n",
      "\u001b[30mgold answer:  neutralizes digestive acid. \n",
      "False\n",
      "Average Metric: 13.00 / 16 (81.2%):  53%|████████████████████████████████████████████████████████████████████████▌                                                               | 16/30 [00:07<00:03,  4.19it/s]\u001b[34minspect reasoning >>>  The change in wind direction at the beach between day and night is primarily due to differences in temperature between land and water. During the day, land heats up faster than water, causing air over land to rise and creating a low-pressure area. As a result, cooler air over the water moves towards the land, creating a sea breeze. At night, land cools down faster than water, causing air over land to sink and creating a high-pressure area. This leads to a reverse flow of air from land to water, creating a land breeze. False\n",
      "\u001b[36mstripped strange characters in pred if any : because the temperatures over land and over water change\n",
      "\u001b[30mgold answer:  because the temperatures over land and over water change \n",
      "True\n",
      "Average Metric: 14.00 / 17 (82.4%):  57%|█████████████████████████████████████████████████████████████████████████████                                                           | 17/30 [00:07<00:02,  4.64it/s]\u001b[34minspect reasoning >>>  The process of creating new crust is known as seafloor spreading. This phenomenon occurs at divergent plate boundaries, where tectonic plates move away from each other. As the plates separate, magma rises from the mantle to fill the void, eventually cooling and forming new crust. False\n",
      "\u001b[36mstripped strange characters in pred if any : divergent\n",
      "\u001b[30mgold answer:  divergent\n",
      "True\n",
      "Average Metric: 15.00 / 18 (83.3%):  60%|█████████████████████████████████████████████████████████████████████████████████▌                                                      | 18/30 [00:08<00:03,  3.11it/s]\u001b[34minspect reasoning >>>  Plant decomposition is the most important factor in the formation of dark, fertile soil that is good for farming. This process involves the breaking down of organic matter from plants, which enriches the soil with nutrients and improves its structure, thus making it more suitable for agriculture. False\n",
      "\u001b[36mstripped strange characters in pred if any : plant decomposition\n",
      "\u001b[30mgold answer:  plant decomposition \n",
      "True\n",
      "Average Metric: 16.00 / 19 (84.2%):  63%|██████████████████████████████████████████████████████████████████████████████████████▏                                                 | 19/30 [00:08<00:02,  3.68it/s]\u001b[34minspect reasoning >>>  When oxygen combines with hydrogen, the substance formed is water. This is because oxygen and hydrogen combine in a 2:1 ratio to form H2O, which is the chemical formula for water. False\n",
      "\u001b[36mstripped strange characters in pred if any : water\n",
      "\u001b[30mgold answer:  water \n",
      "True\n",
      "Average Metric: 17.00 / 20 (85.0%):  63%|██████████████████████████████████████████████████████████████████████████████████████▏                                                 | 19/30 [00:08<00:02,  3.68it/s]\u001b[34minspect reasoning >>>  The skeletal system is responsible for providing structure and support, while the nervous system is responsible for sending and receiving signals. The muscular system is responsible for movement. The excretory system, however, is primarily responsible for removing waste from the body by filtering out toxins and other waste products. False\n",
      "\u001b[36mstripped strange characters in pred if any : excretory system\n",
      "\u001b[30mgold answer:  excretory system\n",
      "True\n",
      "Average Metric: 18.00 / 21 (85.7%):  70%|███████████████████████████████████████████████████████████████████████████████████████████████▏                                        | 21/30 [00:08<00:02,  4.27it/s]\u001b[34minspect reasoning >>>  An assistive device is a tool that helps individuals overcome a difficulty or handicap. Contact lenses are used to correct vision impairments, making them an assistive device. On the other hand, motorcycles, raincoats, and coffee pots are not specifically designed to assist individuals with disabilities or impairments. False\n",
      "\u001b[36mstripped strange characters in pred if any : Contact lens\n",
      "\u001b[30mgold answer:  contact lens \n",
      "True\n",
      "Average Metric: 19.00 / 22 (86.4%):  73%|███████████████████████████████████████████████████████████████████████████████████████████████████▋                                    | 22/30 [00:08<00:01,  4.86it/s]\u001b[34minspect reasoning >>>  The characteristic that most likely accounts for our limited knowledge of galaxies is their great distance from Earth. Galaxies are extremely far away from our planet, which makes it challenging for us to study and observe them in detail. This distance also contributes to the immense amount of time it takes for light from these galaxies to reach us, meaning we are often seeing galaxies as they appeared millions or even billions of years ago. False\n",
      "\u001b[36mstripped strange characters in pred if any : Their great distance from Earth\n",
      "\u001b[30mgold answer:  their great distance from Earth\n",
      "True\n",
      "Average Metric: 20.00 / 23 (87.0%):  77%|████████████████████████████████████████████████████████████████████████████████████████████████████████▎                               | 23/30 [00:08<00:01,  5.16it/s]\u001b[34minspect reasoning >>>  The process of meiosis contributes to genetic variation within a species through several events. However, the most significant contributor to variation is the segregation of alleles, which occurs during meiosis I. This process involves the random distribution of homologous chromosomes into daughter cells, resulting in new combinations of alleles and genetic diversity. False\n",
      "\u001b[36mstripped strange characters in pred if any : segregation of alleles\n",
      "\u001b[30mgold answer:  segregation of alleles \n",
      "True\n",
      "Average Metric: 21.00 / 24 (87.5%):  80%|████████████████████████████████████████████████████████████████████████████████████████████████████████████▊                           | 24/30 [00:08<00:01,  5.82it/s]\u001b[34minspect reasoning >>>  The question states that red flowers are dominant to white flowers in snapdragon plants, and when red and white plants are crossed, pink flowers are produced. This indicates that pink flowers are the result of a heterozygous genotype, with one copy of the red allele and one copy of the white allele. Therefore, to produce plants with only white flowers, both parent plants must be homozygous for the white allele. False\n",
      "\u001b[36mstripped strange characters in pred if any : Both white\n",
      "\u001b[30mgold answer:  both white \n",
      "True\n",
      "Average Metric: 22.00 / 25 (88.0%):  83%|█████████████████████████████████████████████████████████████████████████████████████████████████████████████████▎                      | 25/30 [00:09<00:00,  6.06it/s]\u001b[34minspect reasoning >>>  Gas-efficient engines consume less fuel to cover the same distance compared to less efficient engines. This results in lower emissions of harmful gases such as carbon monoxide, nitrogen oxides, and hydrocarbons, which are major contributors to air pollution. Therefore, gas-efficient engines can help reduce air pollution in a city. False\n",
      "\u001b[36mstripped strange characters in pred if any : air pollution\n",
      "\u001b[30mgold answer:  air pollution. \n",
      "False\n",
      "Average Metric: 22.00 / 26 (84.6%):  87%|█████████████████████████████████████████████████████████████████████████████████████████████████████████████████████▊                  | 26/30 [00:09<00:00,  4.71it/s]\u001b[34minspect reasoning >>>  In a transverse wave, the particles of the medium oscillate back and forth, but their motion is perpendicular to the direction in which the wave travels. Since the wave is passing from right to left, the particles will be moving back and forth vertically (or horizontally, depending on the orientation of the wave), not along the direction of the wave. False\n",
      "\u001b[36mstripped strange characters in pred if any : Particles move back and forth perpendicular to the wave.\n",
      "\u001b[30mgold answer:  Particles move back and forth perpendicular to the wave.\n",
      "True\n",
      "Average Metric: 23.00 / 27 (85.2%):  87%|█████████████████████████████████████████████████████████████████████████████████████████████████████████████████████▊                  | 26/30 [00:09<00:00,  4.71it/s]\u001b[34minspect reasoning >>>  Rocks are classified into three main types based on the processes that formed them. The three types are igneous, sedimentary, and metamorphic. Igneous rocks form when magma or lava cools and solidifies; sedimentary rocks form when particles from other rocks or organic material settle and accumulate in layers, which then lithify; and metamorphic rocks form when existing rocks change due to heat, pressure, or other processes. False\n",
      "\u001b[36mstripped strange characters in pred if any : how they formed\n",
      "\u001b[30mgold answer:  how they formed \n",
      "True\n",
      "Average Metric: 24.00 / 28 (85.7%):  93%|██████████████████████████████████████████████████████████████████████████████████████████████████████████████████████████████▉         | 28/30 [00:09<00:00,  6.84it/s]\u001b[34minspect reasoning >>>  Decomposers break down dead organisms and organic waste materials, such as dead plants and animals, into simpler inorganic substances. This process releases essential nutrients like carbon, nitrogen, and phosphorus back into the soil, increasing its fertility. However, decomposers specifically play a crucial role in the nitrogen cycle by converting nitrogen from organic forms to inorganic forms, such as ammonium (NH4+) and nitrate (NO3-). These inorganic forms of nitrogen are essential for plant growth, making the soil more fertile. False\n",
      "\u001b[36mstripped strange characters in pred if any : by adding nitrogen\n",
      "\u001b[30mgold answer:  by adding nitrogen \n",
      "True\n",
      "Average Metric: 25.00 / 29 (86.2%):  97%|███████████████████████████████████████████████████████████████████████████████████████████████████████████████████████████████████▍    | 29/30 [00:10<00:00,  4.01it/s]\u001b[34minspect reasoning >>>  The color of the beetles is likely related to their survival strategy. In this case, the environment is changing from a forest with trees to a dry area with fewer trees. This suggests that the beetles' food source (leaves and plants) is also changing. Beetles that are better adapted to this new environment are more likely to survive and reproduce, leading to a change in the population's characteristics.\n",
      "\n",
      "Since the forest is becoming dry with fewer trees, it's reasonable to assume that the remaining vegetation might be more likely to be brown (like dry leaves or dead plants) than green. Therefore, the light brown beetles, which would blend in better with this new environment, might have a survival advantage over the dark green beetles. This is based on the principle of camouflage, where animals that blend in with their environment are less likely to be seen and eaten by predators.\n",
      "\n",
      "The question doesn't provide any information suggesting that the beetles would become carnivorous or grow in size, so those options are less likely. False\n",
      "\u001b[36mstripped strange characters in pred if any : It would be mostly light brown beetles.\n",
      "\u001b[30mgold answer:  It would be mostly light brown beetles. \n",
      "True\n",
      "Average Metric: 26.00 / 30 (86.7%): 100%|████████████████████████████████████████████████████████████████████████████████████████████████████████████████████████████████████████| 30/30 [00:12<00:00,  2.36it/s]"
     ]
    },
    {
     "name": "stderr",
     "output_type": "stream",
     "text": [
      "2025/01/09 12:56:22 INFO dspy.evaluate.evaluate: Average Metric: 26 / 30 (86.7%)\n"
     ]
    },
    {
     "name": "stdout",
     "output_type": "stream",
     "text": [
      "\n"
     ]
    },
    {
     "data": {
      "text/html": [
       "<div>\n",
       "<style scoped>\n",
       "    .dataframe tbody tr th:only-of-type {\n",
       "        vertical-align: middle;\n",
       "    }\n",
       "\n",
       "    .dataframe tbody tr th {\n",
       "        vertical-align: top;\n",
       "    }\n",
       "\n",
       "    .dataframe thead th {\n",
       "        text-align: right;\n",
       "    }\n",
       "</style>\n",
       "<table border=\"1\" class=\"dataframe\">\n",
       "  <thead>\n",
       "    <tr style=\"text-align: right;\">\n",
       "      <th></th>\n",
       "      <th>question</th>\n",
       "      <th>choices</th>\n",
       "      <th>example_answer</th>\n",
       "      <th>reasoning</th>\n",
       "      <th>pred_answer</th>\n",
       "      <th>validate_answer</th>\n",
       "    </tr>\n",
       "  </thead>\n",
       "  <tbody>\n",
       "    <tr>\n",
       "      <th>0</th>\n",
       "      <td>When plants undergo photosynthesis, a reaction produces sugar, oxy...</td>\n",
       "      <td>[ chemical energy ,  kinetic energy ,  light energy ,  heat energy]</td>\n",
       "      <td>chemical energy</td>\n",
       "      <td>During photosynthesis, plants convert light energy into chemical e...</td>\n",
       "      <td>chemical energy</td>\n",
       "      <td>✔️ [True]</td>\n",
       "    </tr>\n",
       "    <tr>\n",
       "      <th>1</th>\n",
       "      <td>Lichens are symbiotic organisms made of green algae and fungi. Wha...</td>\n",
       "      <td>[ carbon dioxide ,  food ,  protection ,  water]</td>\n",
       "      <td>food</td>\n",
       "      <td>In a lichen, green algae and fungi work together to create a symbi...</td>\n",
       "      <td>food</td>\n",
       "      <td>✔️ [True]</td>\n",
       "    </tr>\n",
       "    <tr>\n",
       "      <th>2</th>\n",
       "      <td>Which best describes why winds at the beach change direction betwe...</td>\n",
       "      <td>[' because the temperatures over land and over water change ', ' b...</td>\n",
       "      <td>because the temperatures over land and over water change</td>\n",
       "      <td>The change in wind direction at the beach between day and night is...</td>\n",
       "      <td>« because the temperatures over land and over water change »</td>\n",
       "      <td>✔️ [True]</td>\n",
       "    </tr>\n",
       "    <tr>\n",
       "      <th>3</th>\n",
       "      <td>Many natural rock formations change color over time. In Utah, for ...</td>\n",
       "      <td>[ chemical weathering ,  mechanical weathering ,  water erosion , ...</td>\n",
       "      <td>chemical weathering</td>\n",
       "      <td>The process of iron oxidizing and forming red, orange, and yellow ...</td>\n",
       "      <td>chemical weathering</td>\n",
       "      <td>✔️ [True]</td>\n",
       "    </tr>\n",
       "    <tr>\n",
       "      <th>4</th>\n",
       "      <td>A cow and a frog have similar bone structures in their forelimbs. ...</td>\n",
       "      <td>[' Both have undergone similar mutations. ', ' Both descended from...</td>\n",
       "      <td>Both descended from a common ancestor.</td>\n",
       "      <td>The similarity in bone structure between a cow and a frog, despite...</td>\n",
       "      <td>Both descended from a common ancestor.</td>\n",
       "      <td>✔️ [True]</td>\n",
       "    </tr>\n",
       "  </tbody>\n",
       "</table>\n",
       "</div>"
      ],
      "text/plain": [
       "                                                                question  \\\n",
       "0  When plants undergo photosynthesis, a reaction produces sugar, oxy...   \n",
       "1  Lichens are symbiotic organisms made of green algae and fungi. Wha...   \n",
       "2  Which best describes why winds at the beach change direction betwe...   \n",
       "3  Many natural rock formations change color over time. In Utah, for ...   \n",
       "4  A cow and a frog have similar bone structures in their forelimbs. ...   \n",
       "\n",
       "                                                                 choices  \\\n",
       "0    [ chemical energy ,  kinetic energy ,  light energy ,  heat energy]   \n",
       "1                       [ carbon dioxide ,  food ,  protection ,  water]   \n",
       "2  [' because the temperatures over land and over water change ', ' b...   \n",
       "3  [ chemical weathering ,  mechanical weathering ,  water erosion , ...   \n",
       "4  [' Both have undergone similar mutations. ', ' Both descended from...   \n",
       "\n",
       "                                               example_answer  \\\n",
       "0                                            chemical energy    \n",
       "1                                                       food    \n",
       "2   because the temperatures over land and over water change    \n",
       "3                                        chemical weathering    \n",
       "4                     Both descended from a common ancestor.    \n",
       "\n",
       "                                                               reasoning  \\\n",
       "0  During photosynthesis, plants convert light energy into chemical e...   \n",
       "1  In a lichen, green algae and fungi work together to create a symbi...   \n",
       "2  The change in wind direction at the beach between day and night is...   \n",
       "3  The process of iron oxidizing and forming red, orange, and yellow ...   \n",
       "4  The similarity in bone structure between a cow and a frog, despite...   \n",
       "\n",
       "                                                    pred_answer  \\\n",
       "0                                               chemical energy   \n",
       "1                                                          food   \n",
       "2  « because the temperatures over land and over water change »   \n",
       "3                                           chemical weathering   \n",
       "4                        Both descended from a common ancestor.   \n",
       "\n",
       "  validate_answer  \n",
       "0       ✔️ [True]  \n",
       "1       ✔️ [True]  \n",
       "2       ✔️ [True]  \n",
       "3       ✔️ [True]  \n",
       "4       ✔️ [True]  "
      ]
     },
     "metadata": {},
     "output_type": "display_data"
    },
    {
     "data": {
      "text/html": [
       "\n",
       "                <div style='\n",
       "                    text-align: center;\n",
       "                    font-size: 16px;\n",
       "                    font-weight: bold;\n",
       "                    color: #555;\n",
       "                    margin: 10px 0;'>\n",
       "                    ... 25 more rows not displayed ...\n",
       "                </div>\n",
       "                "
      ],
      "text/plain": [
       "<IPython.core.display.HTML object>"
      ]
     },
     "metadata": {},
     "output_type": "display_data"
    },
    {
     "data": {
      "text/plain": [
       "86.67"
      ]
     },
     "execution_count": 76,
     "metadata": {},
     "output_type": "execute_result"
    }
   ],
   "source": [
    "from dspy.evaluate import Evaluate\n",
    "\n",
    "THREADS = 5\n",
    "kwargs = dict(num_threads=THREADS, display_progress=True, display_table=10)\n",
    "evaluate = dspy.Evaluate(devset=trainset, metric=validate_answer, num_threads=16, display_progress=True, display_table=5)\n",
    "\n",
    "evaluate(MultiChoices(trainset))"
   ]
  },
  {
   "cell_type": "code",
   "execution_count": 36,
   "id": "91e73c7f",
   "metadata": {},
   "outputs": [
    {
     "name": "stdout",
     "output_type": "stream",
     "text": [
      "\n",
      "\n",
      "\n",
      "\n",
      "\u001b[34m[2025-01-09T12:10:30.970394]\u001b[0m\n",
      "\n",
      "\u001b[31mSystem message:\u001b[0m\n",
      "\n",
      "Your input fields are:\n",
      "1. `question` (str)\n",
      "2. `choices` (str)\n",
      "\n",
      "Your output fields are:\n",
      "1. `reasoning` (str)\n",
      "2. `answer` (str)\n",
      "\n",
      "All interactions will be structured in the following way, with the appropriate values filled in.\n",
      "\n",
      "[[ ## question ## ]]\n",
      "{question}\n",
      "\n",
      "[[ ## choices ## ]]\n",
      "{choices}\n",
      "\n",
      "[[ ## reasoning ## ]]\n",
      "{reasoning}\n",
      "\n",
      "[[ ## answer ## ]]\n",
      "{answer}\n",
      "\n",
      "[[ ## completed ## ]]\n",
      "\n",
      "In adhering to this structure, your objective is: \n",
      "        Given the fields `question`, `choices`, produce the fields `answer`.\n",
      "\n",
      "\n",
      "\u001b[31mUser message:\u001b[0m\n",
      "\n",
      "[[ ## question ## ]]\n",
      "Scientists use the term \"light year\" to describe \n",
      "\n",
      "[[ ## choices ## ]]\n",
      "[1] « how fast light travels in space. »\n",
      "[2] « the distance light travels in one year. »\n",
      "[3] « how large the diameters of different stars are. »\n",
      "[4] « the time it takes the Sun to move through the galaxy.»\n",
      "\n",
      "Respond with the corresponding output fields, starting with the field `[[ ## reasoning ## ]]`, then `[[ ## answer ## ]]`, and then ending with the marker for `[[ ## completed ## ]]`.\n",
      "\n",
      "\n",
      "\u001b[31mResponse:\u001b[0m\n",
      "\n",
      "\u001b[32m[[ ## reasoning ## ]]\n",
      "The term \"light year\" is a unit of measurement used to describe large distances, specifically the distance that light travels in one year. While it may seem like a measurement of time due to the inclusion of the word \"year,\" it is actually a measure of distance. This is because light moves at a constant speed of approximately 186,282 miles per second (299,792 kilometers per second). Therefore, over the course of a year, light travels a distance that we refer to as a light year.\n",
      "\n",
      "[[ ## answer ## ]]\n",
      "[2] « the distance light travels in one year. »\n",
      "\n",
      "[[ ## completed ## ]]\u001b[0m\n",
      "\n",
      "\n",
      "\n",
      "\n",
      "\n"
     ]
    }
   ],
   "source": [
    "dspy.inspect_history()"
   ]
  },
  {
   "cell_type": "markdown",
   "id": "b2085b4c",
   "metadata": {},
   "source": [
    "---\n",
    "## optimize using KNNFewShot"
   ]
  },
  {
   "cell_type": "code",
   "execution_count": 58,
   "id": "e1f35596",
   "metadata": {},
   "outputs": [
    {
     "name": "stdout",
     "output_type": "stream",
     "text": [
      "\u001b[33mWARNING: Skipping dsp-ml as it is not installed.\u001b[0m\u001b[33m\n",
      "\u001b[0m\u001b[33mWARNING: Running pip as the 'root' user can result in broken permissions and conflicting behaviour with the system package manager. It is recommended to use a virtual environment instead: https://pip.pypa.io/warnings/venv\u001b[0m\u001b[33m\n",
      "\u001b[0mLooking in indexes: https://pypi.org/simple, https://pypi.ngc.nvidia.com\n",
      "Collecting git+https://github.com/stanfordnlp/dsp.git\n",
      "  Cloning https://github.com/stanfordnlp/dsp.git to /tmp/pip-req-build-709q4or9\n",
      "  Running command git clone --filter=blob:none --quiet https://github.com/stanfordnlp/dsp.git /tmp/pip-req-build-709q4or9\n",
      "  Resolved https://github.com/stanfordnlp/dsp.git to commit 238e31211474cc6c3de917aed9eaccfe911132f0\n",
      "  Installing build dependencies ... \u001b[?25ldone\n",
      "\u001b[?25h  Getting requirements to build wheel ... \u001b[?25ldone\n",
      "\u001b[?25h  Preparing metadata (pyproject.toml) ... \u001b[?25ldone\n",
      "\u001b[?25hRequirement already satisfied: backoff in /usr/local/lib/python3.10/dist-packages (from dspy==2.6.0rc8) (2.2.1)\n",
      "Requirement already satisfied: joblib~=1.3 in /usr/local/lib/python3.10/dist-packages (from dspy==2.6.0rc8) (1.3.2)\n",
      "Requirement already satisfied: openai in /usr/local/lib/python3.10/dist-packages (from dspy==2.6.0rc8) (1.59.5)\n",
      "Requirement already satisfied: pandas in /usr/local/lib/python3.10/dist-packages (from dspy==2.6.0rc8) (1.5.3)\n",
      "Requirement already satisfied: regex in /usr/local/lib/python3.10/dist-packages (from dspy==2.6.0rc8) (2023.12.25)\n",
      "Requirement already satisfied: ujson in /usr/local/lib/python3.10/dist-packages (from dspy==2.6.0rc8) (5.10.0)\n",
      "Requirement already satisfied: tqdm in /usr/local/lib/python3.10/dist-packages (from dspy==2.6.0rc8) (4.67.1)\n",
      "Requirement already satisfied: datasets<3.0.0,>=2.14.6 in /usr/local/lib/python3.10/dist-packages (from dspy==2.6.0rc8) (2.21.0)\n",
      "Requirement already satisfied: requests in /usr/local/lib/python3.10/dist-packages (from dspy==2.6.0rc8) (2.32.3)\n",
      "Requirement already satisfied: optuna in /usr/local/lib/python3.10/dist-packages (from dspy==2.6.0rc8) (4.1.0)\n",
      "Requirement already satisfied: pydantic~=2.0 in /usr/local/lib/python3.10/dist-packages (from dspy==2.6.0rc8) (2.6.4)\n",
      "Requirement already satisfied: jinja2 in /usr/local/lib/python3.10/dist-packages (from dspy==2.6.0rc8) (3.1.3)\n",
      "Requirement already satisfied: magicattr~=0.1.6 in /usr/local/lib/python3.10/dist-packages (from dspy==2.6.0rc8) (0.1.6)\n",
      "Requirement already satisfied: litellm==1.55.3 in /usr/local/lib/python3.10/dist-packages (from dspy==2.6.0rc8) (1.55.3)\n",
      "Requirement already satisfied: diskcache in /usr/local/lib/python3.10/dist-packages (from dspy==2.6.0rc8) (5.6.3)\n",
      "Requirement already satisfied: json-repair in /usr/local/lib/python3.10/dist-packages (from dspy==2.6.0rc8) (0.35.0)\n",
      "Requirement already satisfied: tenacity>=8.2.3 in /usr/local/lib/python3.10/dist-packages (from dspy==2.6.0rc8) (9.0.0)\n",
      "Requirement already satisfied: anyio in /usr/local/lib/python3.10/dist-packages (from dspy==2.6.0rc8) (4.8.0)\n",
      "Requirement already satisfied: asyncer==0.0.8 in /usr/local/lib/python3.10/dist-packages (from dspy==2.6.0rc8) (0.0.8)\n",
      "Requirement already satisfied: cachetools in /usr/local/lib/python3.10/dist-packages (from dspy==2.6.0rc8) (5.3.3)\n",
      "Requirement already satisfied: cloudpickle in /usr/local/lib/python3.10/dist-packages (from dspy==2.6.0rc8) (3.0.0)\n",
      "Requirement already satisfied: aiohttp in /usr/local/lib/python3.10/dist-packages (from litellm==1.55.3->dspy==2.6.0rc8) (3.9.3)\n",
      "Requirement already satisfied: click in /usr/local/lib/python3.10/dist-packages (from litellm==1.55.3->dspy==2.6.0rc8) (8.1.7)\n",
      "Requirement already satisfied: httpx<0.28.0,>=0.23.0 in /usr/local/lib/python3.10/dist-packages (from litellm==1.55.3->dspy==2.6.0rc8) (0.27.2)\n",
      "Requirement already satisfied: importlib-metadata>=6.8.0 in /usr/local/lib/python3.10/dist-packages (from litellm==1.55.3->dspy==2.6.0rc8) (7.0.2)\n",
      "Requirement already satisfied: jsonschema<5.0.0,>=4.22.0 in /usr/local/lib/python3.10/dist-packages (from litellm==1.55.3->dspy==2.6.0rc8) (4.23.0)\n",
      "Requirement already satisfied: python-dotenv>=0.2.0 in /usr/local/lib/python3.10/dist-packages (from litellm==1.55.3->dspy==2.6.0rc8) (1.0.1)\n",
      "Requirement already satisfied: tiktoken>=0.7.0 in /usr/local/lib/python3.10/dist-packages (from litellm==1.55.3->dspy==2.6.0rc8) (0.8.0)\n",
      "Requirement already satisfied: tokenizers in /usr/local/lib/python3.10/dist-packages (from litellm==1.55.3->dspy==2.6.0rc8) (0.21.0)\n",
      "Requirement already satisfied: exceptiongroup>=1.0.2 in /usr/local/lib/python3.10/dist-packages (from anyio->dspy==2.6.0rc8) (1.2.0)\n",
      "Requirement already satisfied: idna>=2.8 in /usr/local/lib/python3.10/dist-packages (from anyio->dspy==2.6.0rc8) (3.6)\n",
      "Requirement already satisfied: sniffio>=1.1 in /usr/local/lib/python3.10/dist-packages (from anyio->dspy==2.6.0rc8) (1.3.1)\n",
      "Requirement already satisfied: typing_extensions>=4.5 in /usr/local/lib/python3.10/dist-packages (from anyio->dspy==2.6.0rc8) (4.12.2)\n",
      "Requirement already satisfied: filelock in /usr/local/lib/python3.10/dist-packages (from datasets<3.0.0,>=2.14.6->dspy==2.6.0rc8) (3.13.3)\n",
      "Requirement already satisfied: numpy>=1.17 in /usr/local/lib/python3.10/dist-packages (from datasets<3.0.0,>=2.14.6->dspy==2.6.0rc8) (1.24.4)\n",
      "Requirement already satisfied: pyarrow>=15.0.0 in /usr/local/lib/python3.10/dist-packages (from datasets<3.0.0,>=2.14.6->dspy==2.6.0rc8) (15.0.2)\n",
      "Requirement already satisfied: dill<0.3.9,>=0.3.0 in /usr/local/lib/python3.10/dist-packages (from datasets<3.0.0,>=2.14.6->dspy==2.6.0rc8) (0.3.8)\n",
      "Requirement already satisfied: xxhash in /usr/local/lib/python3.10/dist-packages (from datasets<3.0.0,>=2.14.6->dspy==2.6.0rc8) (3.5.0)\n",
      "Requirement already satisfied: multiprocess in /usr/local/lib/python3.10/dist-packages (from datasets<3.0.0,>=2.14.6->dspy==2.6.0rc8) (0.70.16)\n",
      "Requirement already satisfied: fsspec<=2024.6.1,>=2023.1.0 in /usr/local/lib/python3.10/dist-packages (from fsspec[http]<=2024.6.1,>=2023.1.0->datasets<3.0.0,>=2.14.6->dspy==2.6.0rc8) (2024.2.0)\n",
      "Requirement already satisfied: huggingface-hub>=0.21.2 in /usr/local/lib/python3.10/dist-packages (from datasets<3.0.0,>=2.14.6->dspy==2.6.0rc8) (0.27.1)\n",
      "Requirement already satisfied: packaging in /usr/local/lib/python3.10/dist-packages (from datasets<3.0.0,>=2.14.6->dspy==2.6.0rc8) (23.2)\n",
      "Requirement already satisfied: pyyaml>=5.1 in /usr/local/lib/python3.10/dist-packages (from datasets<3.0.0,>=2.14.6->dspy==2.6.0rc8) (6.0.1)\n",
      "Requirement already satisfied: MarkupSafe>=2.0 in /usr/local/lib/python3.10/dist-packages (from jinja2->dspy==2.6.0rc8) (2.1.5)\n",
      "Requirement already satisfied: distro<2,>=1.7.0 in /usr/local/lib/python3.10/dist-packages (from openai->dspy==2.6.0rc8) (1.9.0)\n",
      "Requirement already satisfied: jiter<1,>=0.4.0 in /usr/local/lib/python3.10/dist-packages (from openai->dspy==2.6.0rc8) (0.8.2)\n",
      "Requirement already satisfied: annotated-types>=0.4.0 in /usr/local/lib/python3.10/dist-packages (from pydantic~=2.0->dspy==2.6.0rc8) (0.6.0)\n",
      "Requirement already satisfied: pydantic-core==2.16.3 in /usr/local/lib/python3.10/dist-packages (from pydantic~=2.0->dspy==2.6.0rc8) (2.16.3)\n",
      "Requirement already satisfied: charset-normalizer<4,>=2 in /usr/local/lib/python3.10/dist-packages (from requests->dspy==2.6.0rc8) (3.3.2)\n",
      "Requirement already satisfied: urllib3<3,>=1.21.1 in /usr/local/lib/python3.10/dist-packages (from requests->dspy==2.6.0rc8) (1.26.18)\n",
      "Requirement already satisfied: certifi>=2017.4.17 in /usr/local/lib/python3.10/dist-packages (from requests->dspy==2.6.0rc8) (2024.2.2)\n",
      "Requirement already satisfied: alembic>=1.5.0 in /usr/local/lib/python3.10/dist-packages (from optuna->dspy==2.6.0rc8) (1.14.0)\n",
      "Requirement already satisfied: colorlog in /usr/local/lib/python3.10/dist-packages (from optuna->dspy==2.6.0rc8) (6.9.0)\n",
      "Requirement already satisfied: sqlalchemy>=1.4.2 in /usr/local/lib/python3.10/dist-packages (from optuna->dspy==2.6.0rc8) (2.0.36)\n",
      "Requirement already satisfied: python-dateutil>=2.8.1 in /usr/local/lib/python3.10/dist-packages (from pandas->dspy==2.6.0rc8) (2.9.0.post0)\n",
      "Requirement already satisfied: pytz>=2020.1 in /usr/local/lib/python3.10/dist-packages (from pandas->dspy==2.6.0rc8) (2024.1)\n",
      "Requirement already satisfied: Mako in /usr/local/lib/python3.10/dist-packages (from alembic>=1.5.0->optuna->dspy==2.6.0rc8) (1.3.8)\n",
      "Requirement already satisfied: aiosignal>=1.1.2 in /usr/local/lib/python3.10/dist-packages (from aiohttp->litellm==1.55.3->dspy==2.6.0rc8) (1.3.1)\n",
      "Requirement already satisfied: attrs>=17.3.0 in /usr/local/lib/python3.10/dist-packages (from aiohttp->litellm==1.55.3->dspy==2.6.0rc8) (23.2.0)\n",
      "Requirement already satisfied: frozenlist>=1.1.1 in /usr/local/lib/python3.10/dist-packages (from aiohttp->litellm==1.55.3->dspy==2.6.0rc8) (1.4.1)\n",
      "Requirement already satisfied: multidict<7.0,>=4.5 in /usr/local/lib/python3.10/dist-packages (from aiohttp->litellm==1.55.3->dspy==2.6.0rc8) (6.0.5)\n",
      "Requirement already satisfied: yarl<2.0,>=1.0 in /usr/local/lib/python3.10/dist-packages (from aiohttp->litellm==1.55.3->dspy==2.6.0rc8) (1.9.4)\n",
      "Requirement already satisfied: async-timeout<5.0,>=4.0 in /usr/local/lib/python3.10/dist-packages (from aiohttp->litellm==1.55.3->dspy==2.6.0rc8) (4.0.3)\n",
      "Requirement already satisfied: httpcore==1.* in /usr/local/lib/python3.10/dist-packages (from httpx<0.28.0,>=0.23.0->litellm==1.55.3->dspy==2.6.0rc8) (1.0.7)\n",
      "Requirement already satisfied: h11<0.15,>=0.13 in /usr/local/lib/python3.10/dist-packages (from httpcore==1.*->httpx<0.28.0,>=0.23.0->litellm==1.55.3->dspy==2.6.0rc8) (0.14.0)\n",
      "Requirement already satisfied: zipp>=0.5 in /usr/local/lib/python3.10/dist-packages (from importlib-metadata>=6.8.0->litellm==1.55.3->dspy==2.6.0rc8) (3.17.0)\n",
      "Requirement already satisfied: jsonschema-specifications>=2023.03.6 in /usr/local/lib/python3.10/dist-packages (from jsonschema<5.0.0,>=4.22.0->litellm==1.55.3->dspy==2.6.0rc8) (2023.12.1)\n",
      "Requirement already satisfied: referencing>=0.28.4 in /usr/local/lib/python3.10/dist-packages (from jsonschema<5.0.0,>=4.22.0->litellm==1.55.3->dspy==2.6.0rc8) (0.34.0)\n",
      "Requirement already satisfied: rpds-py>=0.7.1 in /usr/local/lib/python3.10/dist-packages (from jsonschema<5.0.0,>=4.22.0->litellm==1.55.3->dspy==2.6.0rc8) (0.18.0)\n",
      "Requirement already satisfied: six>=1.5 in /usr/local/lib/python3.10/dist-packages (from python-dateutil>=2.8.1->pandas->dspy==2.6.0rc8) (1.16.0)\n",
      "Requirement already satisfied: greenlet!=0.4.17 in /usr/local/lib/python3.10/dist-packages (from sqlalchemy>=1.4.2->optuna->dspy==2.6.0rc8) (3.1.1)\n",
      "\u001b[33mWARNING: Running pip as the 'root' user can result in broken permissions and conflicting behaviour with the system package manager. It is recommended to use a virtual environment instead: https://pip.pypa.io/warnings/venv\u001b[0m\u001b[33m\n",
      "\u001b[0m\n",
      "\u001b[1m[\u001b[0m\u001b[34;49mnotice\u001b[0m\u001b[1;39;49m]\u001b[0m\u001b[39;49m A new release of pip is available: \u001b[0m\u001b[31;49m24.0\u001b[0m\u001b[39;49m -> \u001b[0m\u001b[32;49m24.3.1\u001b[0m\n",
      "\u001b[1m[\u001b[0m\u001b[34;49mnotice\u001b[0m\u001b[1;39;49m]\u001b[0m\u001b[39;49m To update, run: \u001b[0m\u001b[32;49mpython -m pip install --upgrade pip\u001b[0m\n"
     ]
    }
   ],
   "source": [
    "## manually update the dsp package to aboid this error : AttributeError: module 'dspy.dsp' has no attribute 'SentenceTransformersVectorizer'\n",
    "!pip uninstall dsp-ml\n",
    "\n",
    "!pip install git+https://github.com/stanfordnlp/dsp.git "
   ]
  },
  {
   "cell_type": "code",
   "execution_count": 65,
   "id": "f6ca3cc4",
   "metadata": {},
   "outputs": [
    {
     "data": {
      "text/plain": [
       "(numpy.ndarray, (4096,))"
      ]
     },
     "execution_count": 65,
     "metadata": {},
     "output_type": "execute_result"
    }
   ],
   "source": [
    "from openai import OpenAI\n",
    "import numpy as np\n",
    "def my_vectorizer(query):\n",
    "    client = OpenAI(\n",
    "      api_key=os.environ[\"NV_DEV_API_KEY\"],\n",
    "      base_url=\"https://integrate.api.nvidia.com/v1\"\n",
    "    )\n",
    "\n",
    "    response = client.embeddings.create(\n",
    "        input=query,\n",
    "        model=\"nvdev/nvidia/nv-embed-v1\",\n",
    "        encoding_format=\"float\",\n",
    "        extra_body={\"input_type\": \"query\", \"truncate\": \"NONE\"}\n",
    "    )\n",
    "    embedding=np.array(response.data[0].embedding)\n",
    "    \n",
    "    return embedding\n",
    "embedding=my_vectorizer(example.question)\n"
   ]
  },
  {
   "cell_type": "code",
   "execution_count": 74,
   "id": "f061620c",
   "metadata": {},
   "outputs": [],
   "source": [
    "from dspy.teleprompt import KNNFewShot\n",
    "\n",
    "knn_teleprompter = KNNFewShot(3, trainset, vectorizer=my_vectorizer)\n",
    "compiled_knn = knn_teleprompter.compile(MultiChoices(trainset), trainset=trainset)"
   ]
  },
  {
   "cell_type": "code",
   "execution_count": 68,
   "id": "5abbba8d",
   "metadata": {},
   "outputs": [
    {
     "name": "stderr",
     "output_type": "stream",
     "text": [
      "100%|█████████████████████████████████████████████████████████████████████████████████████████████████████████████████████████████████████████████████████████████████████████████| 1/1 [00:00<00:00, 580.69it/s]\n"
     ]
    },
    {
     "name": "stdout",
     "output_type": "stream",
     "text": [
      "Bootstrapped 1 full traces after 0 examples for up to 1 rounds, amounting to 1 attempts.\n",
      "Question:  When plants undergo photosynthesis, a reaction produces sugar, oxygen, and water. During respiration, stored energy from the products of photosynthesis is converted to usable energy. In what form is the energy stored prior to use in respiration? \n",
      "Expected answer:   chemical energy \n",
      "Prediction:  chemical energy\n"
     ]
    }
   ],
   "source": [
    "example = trainset[0]\n",
    "pred = compiled_knn(question = example.question)\n",
    "print(\"Question: \", example.question)\n",
    "print(\"Expected answer: \", example.answer)\n",
    "print(\"Prediction: \", pred.answer)\n"
   ]
  },
  {
   "cell_type": "code",
   "execution_count": 70,
   "id": "bf6c1acc",
   "metadata": {},
   "outputs": [
    {
     "name": "stdout",
     "output_type": "stream",
     "text": [
      "  0%|                                                                                                                                                                                     | 0/30 [00:00<?, ?it/s]"
     ]
    },
    {
     "name": "stderr",
     "output_type": "stream",
     "text": [
      "\n",
      "100%|█████████████████████████████████████████████████████████████████████████████████████████████████████████████████████████████████████████████████████████████████████████████| 1/1 [00:00<00:00, 581.01it/s]\u001b[A"
     ]
    },
    {
     "name": "stdout",
     "output_type": "stream",
     "text": [
      "Bootstrapped 1 full traces after 0 examples for up to 1 rounds, amounting to 1 attempts.\n",
      "\u001b[34minspect reasoning >>>  During photosynthesis, plants convert light energy into chemical energy, which is stored in the form of glucose. This chemical energy is then used during respiration to produce ATP, which is the usable energy for plants. False\n",
      "\u001b[36mstripped strange characters in pred if any : chemical energy\n",
      "\u001b[30mgold answer:  chemical energy \n",
      "True\n",
      "Average Metric: 1.00 / 30 (3.3%):   3%|████▋                                                                                                                                      | 1/30 [00:01<00:44,  1.54s/it]"
     ]
    },
    {
     "name": "stderr",
     "output_type": "stream",
     "text": [
      "\n",
      "\n",
      "100%|█████████████████████████████████████████████████████████████████████████████████████████████████████████████████████████████████████████████████████████████████████████████| 1/1 [00:00<00:00, 589.09it/s]\u001b[A\n"
     ]
    },
    {
     "name": "stdout",
     "output_type": "stream",
     "text": [
      "Bootstrapped 1 full traces after 0 examples for up to 1 rounds, amounting to 1 attempts.\n",
      "\u001b[34minspect reasoning >>>  Lichens are symbiotic organisms made up of fungi and green algae or cyanobacteria. In this symbiotic relationship, the green algae provide the fungi with food in the form of carbohydrates, which are produced through photosynthesis. The fungi, in turn, provide the green algae with protection and support. False\n",
      "\u001b[36mstripped strange characters in pred if any : food\n",
      "\u001b[30mgold answer:  food \n",
      "True\n",
      "Average Metric: 2.00 / 30 (6.7%):   7%|█████████▎                                                                                                                                 | 2/30 [00:06<01:36,  3.46s/it]"
     ]
    },
    {
     "name": "stderr",
     "output_type": "stream",
     "text": [
      "\n",
      "100%|█████████████████████████████████████████████████████████████████████████████████████████████████████████████████████████████████████████████████████████████████████████████| 1/1 [00:00<00:00, 584.00it/s]\u001b[A\n"
     ]
    },
    {
     "name": "stdout",
     "output_type": "stream",
     "text": [
      "Bootstrapped 1 full traces after 0 examples for up to 1 rounds, amounting to 1 attempts.\n",
      "\u001b[34minspect reasoning >>>  During the day, land heats up faster than water due to its lower heat capacity. This causes the air above the land to become warmer and less dense than the air above the water. As a result, the warm air rises, creating low pressure over the land. Meanwhile, the cooler, denser air over the water moves in to replace the rising air, creating a sea breeze. At night, the land cools down faster than the water, causing the opposite effect. The cool air over the land sinks, creating high pressure, while the warm air over the water rises, creating a land breeze. False\n",
      "\u001b[36mstripped strange characters in pred if any : because the temperatures over land and over water change\n",
      "\u001b[30mgold answer:  because the temperatures over land and over water change \n",
      "True\n",
      "Average Metric: 3.00 / 30 (10.0%):  10%|█████████████▊                                                                                                                            | 3/30 [00:11<01:57,  4.34s/it]"
     ]
    },
    {
     "name": "stderr",
     "output_type": "stream",
     "text": [
      "\n",
      "100%|█████████████████████████████████████████████████████████████████████████████████████████████████████████████████████████████████████████████████████████████████████████████| 1/1 [00:00<00:00, 583.27it/s]\u001b[A\n"
     ]
    },
    {
     "name": "stdout",
     "output_type": "stream",
     "text": [
      "Bootstrapped 1 full traces after 0 examples for up to 1 rounds, amounting to 1 attempts.\n",
      "\u001b[34minspect reasoning >>>  Chemical weathering involves the breakdown of rocks due to chemical reactions, such as oxidation, which changes the composition and color of rocks. In the case of the red, orange, and yellow rocks in Utah, iron within the rocks has undergone oxidation, leading to the formation of iron oxides and hydroxides, which give the rocks their distinctive colors. False\n",
      "\u001b[36mstripped strange characters in pred if any : chemical weathering\n",
      "\u001b[30mgold answer:  chemical weathering \n",
      "True\n",
      "Average Metric: 4.00 / 30 (13.3%):  13%|██████████████████▍                                                                                                                       | 4/30 [00:15<01:44,  4.00s/it]"
     ]
    },
    {
     "name": "stderr",
     "output_type": "stream",
     "text": [
      "\n",
      "100%|█████████████████████████████████████████████████████████████████████████████████████████████████████████████████████████████████████████████████████████████████████████████| 1/1 [00:00<00:00, 499.14it/s]\u001b[A\n"
     ]
    },
    {
     "name": "stdout",
     "output_type": "stream",
     "text": [
      "Bootstrapped 1 full traces after 0 examples for up to 1 rounds, amounting to 1 attempts.\n",
      "\u001b[34minspect reasoning >>>  The similarity in bone structure between a cow and a frog is a result of their shared evolutionary history. Both animals descended from a common ancestor, and this ancestor passed on the same basic bone structure to its descendants. Over time, the descendants evolved to become more specialized for their respective environments and lifestyles, but the basic bone structure remained the same. False\n",
      "\u001b[36mstripped strange characters in pred if any : Both descended from a common ancestor.\n",
      "\u001b[30mgold answer:  Both descended from a common ancestor. \n",
      "True\n",
      "Average Metric: 5.00 / 30 (16.7%):  17%|███████████████████████                                                                                                                   | 5/30 [00:18<01:33,  3.75s/it]"
     ]
    },
    {
     "name": "stderr",
     "output_type": "stream",
     "text": [
      "\n",
      "100%|█████████████████████████████████████████████████████████████████████████████████████████████████████████████████████████████████████████████████████████████████████████████| 1/1 [00:00<00:00, 591.50it/s]\u001b[A\n"
     ]
    },
    {
     "name": "stdout",
     "output_type": "stream",
     "text": [
      "Bootstrapped 1 full traces after 0 examples for up to 1 rounds, amounting to 1 attempts.\n",
      "\u001b[34minspect reasoning >>>  The digestion process in humans begins in the mouth. When we eat food, our teeth break it down into smaller pieces through the process of chewing. At the same time, our salivary glands produce saliva, which contains enzymes that start to break down the food. This process is called mechanical digestion, and it prepares the food for further digestion in the stomach and intestines. False\n",
      "\u001b[36mstripped strange characters in pred if any : the mouth, with chewing and saliva\n",
      "\u001b[30mgold answer:  the mouth, with chewing and saliva. \n",
      "False\n",
      "Average Metric: 5.00 / 30 (16.7%):  20%|███████████████████████████▌                                                                                                              | 6/30 [00:21<01:23,  3.47s/it]"
     ]
    },
    {
     "name": "stderr",
     "output_type": "stream",
     "text": [
      "\n",
      "100%|█████████████████████████████████████████████████████████████████████████████████████████████████████████████████████████████████████████████████████████████████████████████| 1/1 [00:00<00:00, 599.02it/s]\u001b[A\n"
     ]
    },
    {
     "name": "stdout",
     "output_type": "stream",
     "text": [
      "Bootstrapped 1 full traces after 0 examples for up to 1 rounds, amounting to 1 attempts.\n",
      "\u001b[34minspect reasoning >>>  A fever is usually a symptom of an infection or illness in the body. A bacterial population in the bloodstream, also known as bacteremia, can trigger an immune response which can cause a fever. This is the body's way of attempting to fight off the infection. A leg muscle relaxing after exercise, several viral particles on the skin, and carbohydrates being digested in the stomach are not typically associated with a fever. False\n",
      "\u001b[36mstripped strange characters in pred if any : a bacterial population in the bloodstream\n",
      "\u001b[30mgold answer:  a bacterial population in the bloodstream \n",
      "True\n",
      "Average Metric: 6.00 / 30 (20.0%):  23%|████████████████████████████████▏                                                                                                         | 7/30 [00:24<01:17,  3.38s/it]"
     ]
    },
    {
     "name": "stderr",
     "output_type": "stream",
     "text": [
      "\n",
      "100%|█████████████████████████████████████████████████████████████████████████████████████████████████████████████████████████████████████████████████████████████████████████████| 1/1 [00:00<00:00, 605.24it/s]\u001b[A\n"
     ]
    },
    {
     "name": "stdout",
     "output_type": "stream",
     "text": [
      "Bootstrapped 1 full traces after 0 examples for up to 1 rounds, amounting to 1 attempts.\n",
      "\u001b[34minspect reasoning >>>  To prevent infections from occurring in small cuts and scrapes, it's essential to clean the area to remove any dirt, bacteria, or debris that may have entered the wound. Using warm, soapy water helps to clean the area and reduce the chance of infection. Applying pressure can help stop bleeding, but it does not prevent infection. Raising the injured area and applying a cold ice pack can help reduce swelling and pain but will not prevent infection. False\n",
      "\u001b[36mstripped strange characters in pred if any : wash the area with warm, soapy water\n",
      "\u001b[30mgold answer:  wash the area with warm, soapy water\n",
      "True\n",
      "Average Metric: 7.00 / 30 (23.3%):  27%|████████████████████████████████████▊                                                                                                     | 8/30 [00:27<01:12,  3.31s/it]"
     ]
    },
    {
     "name": "stderr",
     "output_type": "stream",
     "text": [
      "\n",
      "100%|█████████████████████████████████████████████████████████████████████████████████████████████████████████████████████████████████████████████████████████████████████████████| 1/1 [00:00<00:00, 598.84it/s]\u001b[A\n"
     ]
    },
    {
     "name": "stdout",
     "output_type": "stream",
     "text": [
      "Bootstrapped 1 full traces after 0 examples for up to 1 rounds, amounting to 1 attempts.\n",
      "\u001b[34minspect reasoning >>>  White fur color is an advantage for survival in environments with snow cover, such as the arctic tundra, because it provides camouflage against predators and helps the animal to blend in with its surroundings. False\n",
      "\u001b[36mstripped strange characters in pred if any : arctic tundra\n",
      "\u001b[30mgold answer:  arctic tundra \n",
      "True\n",
      "Average Metric: 8.00 / 30 (26.7%):  30%|█████████████████████████████████████████▍                                                                                                | 9/30 [00:30<01:05,  3.11s/it]"
     ]
    },
    {
     "name": "stderr",
     "output_type": "stream",
     "text": [
      "\n",
      "100%|█████████████████████████████████████████████████████████████████████████████████████████████████████████████████████████████████████████████████████████████████████████████| 1/1 [00:00<00:00, 604.02it/s]\u001b[A\n"
     ]
    },
    {
     "name": "stdout",
     "output_type": "stream",
     "text": [
      "Bootstrapped 1 full traces after 0 examples for up to 1 rounds, amounting to 1 attempts.\n",
      "\u001b[34minspect reasoning >>>  When water particles change from a liquid state to a solid state, this is known as freezing. During freezing, the particles become fixed in a crystalline structure, which is the opposite of the random motion that occurs in the liquid state. This results in the particles being arranged in a fixed position. False\n",
      "\u001b[36mstripped strange characters in pred if any : freezing\n",
      "\u001b[30mgold answer:  freezing \n",
      "True\n",
      "Average Metric: 9.00 / 30 (30.0%):  33%|█████████████████████████████████████████████▋                                                                                           | 10/30 [00:33<00:58,  2.94s/it]"
     ]
    },
    {
     "name": "stderr",
     "output_type": "stream",
     "text": [
      "\n",
      "100%|█████████████████████████████████████████████████████████████████████████████████████████████████████████████████████████████████████████████████████████████████████████████| 1/1 [00:00<00:00, 596.04it/s]\u001b[A\n"
     ]
    },
    {
     "name": "stdout",
     "output_type": "stream",
     "text": [
      "Bootstrapped 1 full traces after 0 examples for up to 1 rounds, amounting to 1 attempts.\n",
      "\u001b[34minspect reasoning >>>  A magnet can separate magnetic substances from non-magnetic ones. In this case, iron filings are magnetic, while black pepper is not. Therefore, a magnet can be used to separate the iron filings from the black pepper. False\n",
      "\u001b[36mstripped strange characters in pred if any : magnet\n",
      "\u001b[30mgold answer:  magnet \n",
      "True\n",
      "Average Metric: 10.00 / 30 (33.3%):  37%|█████████████████████████████████████████████████▊                                                                                      | 11/30 [00:35<00:53,  2.83s/it]"
     ]
    },
    {
     "name": "stderr",
     "output_type": "stream",
     "text": [
      "\n",
      "100%|█████████████████████████████████████████████████████████████████████████████████████████████████████████████████████████████████████████████████████████████████████████████| 1/1 [00:00<00:00, 575.11it/s]\u001b[A\n"
     ]
    },
    {
     "name": "stdout",
     "output_type": "stream",
     "text": [
      "Bootstrapped 1 full traces after 0 examples for up to 1 rounds, amounting to 1 attempts.\n",
      "\u001b[34minspect reasoning >>>  All cells, whether they are prokaryotic or eukaryotic, unicellular or multicellular, share a common set of characteristics that define them as living units. One of these characteristics is that they all need energy to carry out their various functions, such as growth, reproduction, and maintenance. Cells obtain energy through different means, depending on the type of cell. For example, plant cells produce energy through photosynthesis, while animal cells obtain energy by breaking down food molecules. However, regardless of the source of energy, all cells require energy to function. False\n",
      "\u001b[36mstripped strange characters in pred if any : They need energy.\n",
      "\u001b[30mgold answer:  They need energy. \n",
      "True\n",
      "Average Metric: 11.00 / 30 (36.7%):  40%|██████████████████████████████████████████████████████▍                                                                                 | 12/30 [00:38<00:52,  2.94s/it]"
     ]
    },
    {
     "name": "stderr",
     "output_type": "stream",
     "text": [
      "\n",
      "100%|█████████████████████████████████████████████████████████████████████████████████████████████████████████████████████████████████████████████████████████████████████████████| 1/1 [00:00<00:00, 595.95it/s]\u001b[A\n"
     ]
    },
    {
     "name": "stdout",
     "output_type": "stream",
     "text": [
      "Bootstrapped 1 full traces after 0 examples for up to 1 rounds, amounting to 1 attempts.\n",
      "\u001b[34minspect reasoning >>>  Heat can be transferred by conduction, convection, or radiation. Conduction is the process of heat transfer through direct contact of particles, while convection involves the movement of fluid particles. Radiation, on the other hand, is the transfer of heat through electromagnetic waves. In the case of a student standing near a campfire, the heat is most likely transferred through radiation, as the student is not in direct contact with the fire. False\n",
      "\u001b[36mstripped strange characters in pred if any : radiation\n",
      "\u001b[30mgold answer:  radiation \n",
      "True\n",
      "Average Metric: 12.00 / 30 (40.0%):  43%|██████████████████████████████████████████████████████████▉                                                                             | 13/30 [00:41<00:49,  2.92s/it]"
     ]
    },
    {
     "name": "stderr",
     "output_type": "stream",
     "text": [
      "\n",
      "100%|█████████████████████████████████████████████████████████████████████████████████████████████████████████████████████████████████████████████████████████████████████████████| 1/1 [00:00<00:00, 593.51it/s]\u001b[A\n"
     ]
    },
    {
     "name": "stdout",
     "output_type": "stream",
     "text": [
      "Bootstrapped 1 full traces after 0 examples for up to 1 rounds, amounting to 1 attempts.\n",
      "\u001b[34minspect reasoning >>>  The chemical symbol for magnesium is determined by its name in the periodic table of elements. Magnesium is a chemical element with the atomic number 12. Its symbol is a standardized abbreviation derived from its original name in Latin: Magnesium. The first letter of the Latin name is capitalized, and the second letter is lowercase. Therefore, the chemical symbol for magnesium is \"Mg.\" False\n",
      "\u001b[36mstripped strange characters in pred if any : Mg\n",
      "\u001b[30mgold answer:  Mg \n",
      "True\n",
      "Average Metric: 13.00 / 30 (43.3%):  47%|███████████████████████████████████████████████████████████████▍                                                                        | 14/30 [00:44<00:46,  2.89s/it]"
     ]
    },
    {
     "name": "stderr",
     "output_type": "stream",
     "text": [
      "\n",
      "100%|█████████████████████████████████████████████████████████████████████████████████████████████████████████████████████████████████████████████████████████████████████████████| 1/1 [00:00<00:00, 595.11it/s]\u001b[A\n"
     ]
    },
    {
     "name": "stdout",
     "output_type": "stream",
     "text": [
      "Bootstrapped 1 full traces after 0 examples for up to 1 rounds, amounting to 1 attempts.\n",
      "\u001b[34minspect reasoning >>>  Calcium carbonate tablets are used to treat stomach discomfort because they are able to neutralize digestive acid. Calcium carbonate is a base and can react with excess stomach acid, which is an acid, to neutralize it and decrease discomfort. False\n",
      "\u001b[36mstripped strange characters in pred if any : neutralizes digestive acid\n",
      "\u001b[30mgold answer:  neutralizes digestive acid. \n",
      "False\n",
      "Average Metric: 13.00 / 30 (43.3%):  50%|████████████████████████████████████████████████████████████████████                                                                    | 15/30 [00:47<00:41,  2.79s/it]"
     ]
    },
    {
     "name": "stderr",
     "output_type": "stream",
     "text": [
      "\n",
      "100%|█████████████████████████████████████████████████████████████████████████████████████████████████████████████████████████████████████████████████████████████████████████████| 1/1 [00:00<00:00, 594.60it/s]\u001b[A\n"
     ]
    },
    {
     "name": "stdout",
     "output_type": "stream",
     "text": [
      "Bootstrapped 1 full traces after 0 examples for up to 1 rounds, amounting to 1 attempts.\n",
      "\u001b[34minspect reasoning >>>  Unicellular organisms are made up of only one single cell, and these cells are capable of performing all the necessary functions of life, such as growth, metabolism, response to stimuli, and reproduction. While not all unicellular organisms can make their own food (autotrophs) or move on their own (motile), all unicellular organisms perform all life functions within the single cell. False\n",
      "\u001b[36mstripped strange characters in pred if any : Every cell performs all life functions.\n",
      "\u001b[30mgold answer:  Every cell performs all life functions.\n",
      "True\n",
      "Average Metric: 14.00 / 30 (46.7%):  53%|████████████████████████████████████████████████████████████████████████▌                                                               | 16/30 [00:50<00:39,  2.84s/it]"
     ]
    },
    {
     "name": "stderr",
     "output_type": "stream",
     "text": [
      "\n",
      "100%|█████████████████████████████████████████████████████████████████████████████████████████████████████████████████████████████████████████████████████████████████████████████| 1/1 [00:00<00:00, 577.33it/s]\u001b[A\n"
     ]
    },
    {
     "name": "stdout",
     "output_type": "stream",
     "text": [
      "Bootstrapped 1 full traces after 0 examples for up to 1 rounds, amounting to 1 attempts.\n",
      "\u001b[34minspect reasoning >>>  Igneous rock can be transformed into metamorphic rock through a process called metamorphism. This process involves the exposure of igneous rock to high temperatures and/or pressures, which cause changes in the mineral composition and texture of the rock. The heat energy involved in this process is usually supplied by the Earth's internal heat or by the friction generated by tectonic forces. False\n",
      "\u001b[36mstripped strange characters in pred if any : heat\n",
      "\u001b[30mgold answer:  heat \n",
      "True\n",
      "Average Metric: 15.00 / 30 (50.0%):  57%|█████████████████████████████████████████████████████████████████████████████                                                           | 17/30 [00:58<00:59,  4.57s/it]"
     ]
    },
    {
     "name": "stderr",
     "output_type": "stream",
     "text": [
      "\n",
      "100%|█████████████████████████████████████████████████████████████████████████████████████████████████████████████████████████████████████████████████████████████████████████████| 1/1 [00:00<00:00, 585.96it/s]\u001b[A\n"
     ]
    },
    {
     "name": "stdout",
     "output_type": "stream",
     "text": [
      "Bootstrapped 1 full traces after 0 examples for up to 1 rounds, amounting to 1 attempts.\n",
      "\u001b[34minspect reasoning >>>  At a divergent plate boundary, tectonic plates move apart from each other, allowing magma from the mantle to rise and cool, forming new crust. This process is called seafloor spreading and is responsible for the formation of new oceanic crust. False\n",
      "\u001b[36mstripped strange characters in pred if any : divergent\n",
      "\u001b[30mgold answer:  divergent\n",
      "True\n",
      "Average Metric: 16.00 / 30 (53.3%):  60%|█████████████████████████████████████████████████████████████████████████████████▌                                                      | 18/30 [01:03<00:55,  4.64s/it]"
     ]
    },
    {
     "name": "stderr",
     "output_type": "stream",
     "text": [
      "\n",
      "100%|█████████████████████████████████████████████████████████████████████████████████████████████████████████████████████████████████████████████████████████████████████████████| 1/1 [00:00<00:00, 602.37it/s]\u001b[A\n"
     ]
    },
    {
     "name": "stdout",
     "output_type": "stream",
     "text": [
      "Bootstrapped 1 full traces after 0 examples for up to 1 rounds, amounting to 1 attempts.\n",
      "\u001b[34minspect reasoning >>>  Galaxies are very large and contain billions of stars, and many are able to produce light. The magnetic cores of galaxies do not limit our knowledge of them. However, because galaxies are located at great distances from Earth, it is difficult to observe them in detail and gather information about them. This is due to the limitations of our current technology and the vast distances involved. False\n",
      "\u001b[36mstripped strange characters in pred if any : their great distance from Earth\n",
      "\u001b[30mgold answer:  their great distance from Earth\n",
      "True\n",
      "Average Metric: 17.00 / 30 (56.7%):  63%|██████████████████████████████████████████████████████████████████████████████████████▏                                                 | 19/30 [01:10<00:58,  5.32s/it]"
     ]
    },
    {
     "name": "stderr",
     "output_type": "stream",
     "text": [
      "\n",
      "100%|█████████████████████████████████████████████████████████████████████████████████████████████████████████████████████████████████████████████████████████████████████████████| 1/1 [00:00<00:00, 594.94it/s]\u001b[A\n"
     ]
    },
    {
     "name": "stdout",
     "output_type": "stream",
     "text": [
      "Bootstrapped 1 full traces after 0 examples for up to 1 rounds, amounting to 1 attempts.\n",
      "\u001b[34minspect reasoning >>>  In a dry forest with fewer trees, the beetles will have less food (leaves and plant material) to eat. The beetles that are better camouflaged on the dry ground (light brown) will have a higher chance of surviving and reproducing, as they are less likely to be spotted and eaten by predators. The dark green beetles, on the other hand, will stand out more on the dry ground, making them more vulnerable to predators. Therefore, the beetle population would most likely be predominantly light brown after several generations. False\n",
      "\u001b[36mstripped strange characters in pred if any : It would be mostly light brown beetles.\n",
      "\u001b[30mgold answer:  It would be mostly light brown beetles. \n",
      "True\n",
      "Average Metric: 18.00 / 30 (60.0%):  67%|██████████████████████████████████████████████████████████████████████████████████████████▋                                             | 20/30 [01:15<00:53,  5.36s/it]"
     ]
    },
    {
     "name": "stderr",
     "output_type": "stream",
     "text": [
      "\n",
      "100%|█████████████████████████████████████████████████████████████████████████████████████████████████████████████████████████████████████████████████████████████████████████████| 1/1 [00:00<00:00, 603.84it/s]\u001b[A\n"
     ]
    },
    {
     "name": "stdout",
     "output_type": "stream",
     "text": [
      "Bootstrapped 1 full traces after 0 examples for up to 1 rounds, amounting to 1 attempts.\n",
      "\u001b[34minspect reasoning >>>  Dark, fertile soil that is good for farming is typically composed of decomposed plant and animal matter. This organic matter, also known as humus, provides nutrients and improves the soil's structure, making it more suitable for plant growth. While water and wind erosion can contribute to soil formation, they are not as important as plant decomposition in creating fertile soil. Radioactive decay is not a significant factor in soil formation for farming. False\n",
      "\u001b[36mstripped strange characters in pred if any : plant decomposition\n",
      "\u001b[30mgold answer:  plant decomposition \n",
      "True\n",
      "Average Metric: 19.00 / 30 (63.3%):  70%|███████████████████████████████████████████████████████████████████████████████████████████████▏                                        | 21/30 [01:20<00:45,  5.08s/it]"
     ]
    },
    {
     "name": "stderr",
     "output_type": "stream",
     "text": [
      "\n",
      "100%|█████████████████████████████████████████████████████████████████████████████████████████████████████████████████████████████████████████████████████████████████████████████| 1/1 [00:00<00:00, 593.93it/s]\u001b[A\n"
     ]
    },
    {
     "name": "stdout",
     "output_type": "stream",
     "text": [
      "Bootstrapped 1 full traces after 0 examples for up to 1 rounds, amounting to 1 attempts.\n",
      "\u001b[34minspect reasoning >>>  In snapdragon plants, red flowers are dominant to white flowers. The pink color of the flowers is produced when a red-flowered plant is crossed with a white-flowered plant. This is because the red allele is dominant over the white allele, resulting in the production of pink flowers. However, the white allele is recessive, meaning that it will only be expressed when it is present in the homozygous state. Therefore, if a researcher wants to produce plants with only white flowers, both parent plants must be homozygous for the white allele. False\n",
      "\u001b[36mstripped strange characters in pred if any : both white\n",
      "\u001b[30mgold answer:  both white \n",
      "True\n",
      "Average Metric: 20.00 / 30 (66.7%):  73%|███████████████████████████████████████████████████████████████████████████████████████████████████▋                                    | 22/30 [01:24<00:38,  4.87s/it]"
     ]
    },
    {
     "name": "stderr",
     "output_type": "stream",
     "text": [
      "\n",
      "100%|█████████████████████████████████████████████████████████████████████████████████████████████████████████████████████████████████████████████████████████████████████████████| 1/1 [00:00<00:00, 594.01it/s]\u001b[A\n"
     ]
    },
    {
     "name": "stdout",
     "output_type": "stream",
     "text": [
      "Bootstrapped 1 full traces after 0 examples for up to 1 rounds, amounting to 1 attempts.\n",
      "\u001b[34minspect reasoning >>>  The excretory system is the body system most responsible for the removal of waste products from the body. This system includes the kidneys, ureters, bladder, and urethra, which work together to filter out waste from the blood and excrete it as urine. Other organs, such as the skin and lungs, also play a role in removing waste from the body, but the excretory system is the primary system responsible for this function. False\n",
      "\u001b[36mstripped strange characters in pred if any : excretory system\n",
      "\u001b[30mgold answer:  excretory system\n",
      "True\n",
      "Average Metric: 21.00 / 30 (70.0%):  77%|████████████████████████████████████████████████████████████████████████████████████████████████████████▎                               | 23/30 [01:27<00:30,  4.42s/it]"
     ]
    },
    {
     "name": "stderr",
     "output_type": "stream",
     "text": [
      "\n",
      "100%|█████████████████████████████████████████████████████████████████████████████████████████████████████████████████████████████████████████████████████████████████████████████| 1/1 [00:00<00:00, 592.00it/s]\u001b[A\n"
     ]
    },
    {
     "name": "stdout",
     "output_type": "stream",
     "text": [
      "Bootstrapped 1 full traces after 0 examples for up to 1 rounds, amounting to 1 attempts.\n",
      "\u001b[34minspect reasoning >>>  An assistive device is any device that helps a person with physical or mental disabilities to perform tasks, activities, and functions that might otherwise be difficult or impossible. A contact lens is a device that helps people with vision impairments see more clearly, therefore it is an example of an assistive device. False\n",
      "\u001b[36mstripped strange characters in pred if any : contact lens\n",
      "\u001b[30mgold answer:  contact lens \n",
      "True\n",
      "Average Metric: 22.00 / 30 (73.3%):  80%|████████████████████████████████████████████████████████████████████████████████████████████████████████████▊                           | 24/30 [01:30<00:23,  3.95s/it]"
     ]
    },
    {
     "name": "stderr",
     "output_type": "stream",
     "text": [
      "\n",
      "100%|█████████████████████████████████████████████████████████████████████████████████████████████████████████████████████████████████████████████████████████████████████████████| 1/1 [00:00<00:00, 603.32it/s]\u001b[A\n"
     ]
    },
    {
     "name": "stdout",
     "output_type": "stream",
     "text": [
      "Bootstrapped 1 full traces after 0 examples for up to 1 rounds, amounting to 1 attempts.\n",
      "\u001b[34minspect reasoning >>>  Meiosis is a type of cell division that produces gametes (sperm or egg cells) for sexual reproduction. During meiosis, there are several key events that contribute to genetic variation within a species. However, the most significant event that contributes to variation is the segregation of alleles during anaphase I. This is when homologous chromosomes separate and segregate into different daughter cells. This random assortment of chromosomes results in a unique combination of genetic material in each gamete, leading to genetic variation within a species. False\n",
      "\u001b[36mstripped strange characters in pred if any : segregation of alleles\n",
      "\u001b[30mgold answer:  segregation of alleles \n",
      "True\n",
      "Average Metric: 23.00 / 30 (76.7%):  83%|█████████████████████████████████████████████████████████████████████████████████████████████████████████████████▎                      | 25/30 [01:34<00:18,  3.78s/it]"
     ]
    },
    {
     "name": "stderr",
     "output_type": "stream",
     "text": [
      "\n",
      "100%|█████████████████████████████████████████████████████████████████████████████████████████████████████████████████████████████████████████████████████████████████████████████| 1/1 [00:00<00:00, 607.87it/s]\u001b[A\n"
     ]
    },
    {
     "name": "stdout",
     "output_type": "stream",
     "text": [
      "Bootstrapped 1 full traces after 0 examples for up to 1 rounds, amounting to 1 attempts.\n",
      "\u001b[34minspect reasoning >>>  Rocks are classified into three main types based on their mode of formation. Igneous rocks form from the cooling and solidification of magma or lava. Sedimentary rocks are formed from the accumulation and lithification of sediments and organic matter. Metamorphic rocks are formed from the alteration of pre-existing rocks due to heat and pressure. False\n",
      "\u001b[36mstripped strange characters in pred if any : how they formed\n",
      "\u001b[30mgold answer:  how they formed \n",
      "True\n",
      "Average Metric: 24.00 / 30 (80.0%):  87%|█████████████████████████████████████████████████████████████████████████████████████████████████████████████████████▊                  | 26/30 [01:36<00:13,  3.48s/it]"
     ]
    },
    {
     "name": "stderr",
     "output_type": "stream",
     "text": [
      "\n",
      "100%|█████████████████████████████████████████████████████████████████████████████████████████████████████████████████████████████████████████████████████████████████████████████| 1/1 [00:00<00:00, 623.04it/s]\u001b[A\n"
     ]
    },
    {
     "name": "stdout",
     "output_type": "stream",
     "text": [
      "Bootstrapped 1 full traces after 0 examples for up to 1 rounds, amounting to 1 attempts.\n",
      "\u001b[34minspect reasoning >>>  Decomposers, such as bacteria and fungi, play a crucial role in the ecosystem by breaking down dead organic matter, such as fallen leaves, dead animals, and animal waste, into simpler substances. This process releases nutrients, such as nitrogen, phosphorus, and sulfur, back into the soil, making it more fertile. Among these nutrients, nitrogen is particularly important for plant growth, as it is a key component of proteins and nucleic acids. False\n",
      "\u001b[36mstripped strange characters in pred if any : by adding nitrogen\n",
      "\u001b[30mgold answer:  by adding nitrogen \n",
      "True\n",
      "Average Metric: 25.00 / 30 (83.3%):  90%|██████████████████████████████████████████████████████████████████████████████████████████████████████████████████████████▍             | 27/30 [01:40<00:10,  3.35s/it]"
     ]
    },
    {
     "name": "stderr",
     "output_type": "stream",
     "text": [
      "\n",
      "100%|█████████████████████████████████████████████████████████████████████████████████████████████████████████████████████████████████████████████████████████████████████████████| 1/1 [00:00<00:00, 620.83it/s]\u001b[A\n"
     ]
    },
    {
     "name": "stdout",
     "output_type": "stream",
     "text": [
      "Bootstrapped 1 full traces after 0 examples for up to 1 rounds, amounting to 1 attempts.\n",
      "\u001b[34minspect reasoning >>>  When oxygen combines with hydrogen, the resulting substance is water (H2O). This reaction can occur in various ways, such as electrolysis or combustion, but in all cases, the product is water. False\n",
      "\u001b[36mstripped strange characters in pred if any : water\n",
      "\u001b[30mgold answer:  water \n",
      "True\n",
      "Average Metric: 26.00 / 30 (86.7%):  93%|██████████████████████████████████████████████████████████████████████████████████████████████████████████████████████████████▉         | 28/30 [01:42<00:06,  3.06s/it]"
     ]
    },
    {
     "name": "stderr",
     "output_type": "stream",
     "text": [
      "\n",
      "100%|█████████████████████████████████████████████████████████████████████████████████████████████████████████████████████████████████████████████████████████████████████████████| 1/1 [00:00<00:00, 498.97it/s]\u001b[A\n"
     ]
    },
    {
     "name": "stdout",
     "output_type": "stream",
     "text": [
      "Bootstrapped 1 full traces after 0 examples for up to 1 rounds, amounting to 1 attempts.\n",
      "\u001b[34minspect reasoning >>>  In a transverse wave, the particles of the medium oscillate back and forth in a direction perpendicular to the direction of the wave's propagation. As the wave passes through the medium from right to left, the particles of the medium move in a direction perpendicular to the wave's motion, not along the wave. False\n",
      "\u001b[36mstripped strange characters in pred if any : Particles move back and forth perpendicular to the wave.\n",
      "\u001b[30mgold answer:  Particles move back and forth perpendicular to the wave.\n",
      "True\n",
      "Average Metric: 27.00 / 30 (90.0%):  97%|███████████████████████████████████████████████████████████████████████████████████████████████████████████████████████████████████▍    | 29/30 [01:45<00:03,  3.03s/it]"
     ]
    },
    {
     "name": "stderr",
     "output_type": "stream",
     "text": [
      "\n",
      "100%|█████████████████████████████████████████████████████████████████████████████████████████████████████████████████████████████████████████████████████████████████████████████| 1/1 [00:00<00:00, 614.37it/s]\u001b[A\n"
     ]
    },
    {
     "name": "stdout",
     "output_type": "stream",
     "text": [
      "Bootstrapped 1 full traces after 0 examples for up to 1 rounds, amounting to 1 attempts.\n",
      "\u001b[34minspect reasoning >>>  Gas-efficient engines use less fuel to produce the same amount of energy, thus reducing the amount of emissions produced by the engine. The reduction in emissions leads to less air pollution in cities, which can have a significant impact on the air quality and overall environment. False\n",
      "\u001b[36mstripped strange characters in pred if any : air pollution\n",
      "\u001b[30mgold answer:  air pollution. \n",
      "False\n",
      "Average Metric: 27.00 / 30 (90.0%): 100%|████████████████████████████████████████████████████████████████████████████████████████████████████████████████████████████████████████| 30/30 [01:48<00:00,  3.60s/it]"
     ]
    },
    {
     "name": "stderr",
     "output_type": "stream",
     "text": [
      "2025/01/09 12:51:34 INFO dspy.evaluate.evaluate: Average Metric: 27 / 30 (90.0%)\n"
     ]
    },
    {
     "name": "stdout",
     "output_type": "stream",
     "text": [
      "\n"
     ]
    },
    {
     "data": {
      "text/html": [
       "<div>\n",
       "<style scoped>\n",
       "    .dataframe tbody tr th:only-of-type {\n",
       "        vertical-align: middle;\n",
       "    }\n",
       "\n",
       "    .dataframe tbody tr th {\n",
       "        vertical-align: top;\n",
       "    }\n",
       "\n",
       "    .dataframe thead th {\n",
       "        text-align: right;\n",
       "    }\n",
       "</style>\n",
       "<table border=\"1\" class=\"dataframe\">\n",
       "  <thead>\n",
       "    <tr style=\"text-align: right;\">\n",
       "      <th></th>\n",
       "      <th>question</th>\n",
       "      <th>choices</th>\n",
       "      <th>example_answer</th>\n",
       "      <th>reasoning</th>\n",
       "      <th>pred_answer</th>\n",
       "      <th>validate_answer</th>\n",
       "    </tr>\n",
       "  </thead>\n",
       "  <tbody>\n",
       "    <tr>\n",
       "      <th>0</th>\n",
       "      <td>When plants undergo photosynthesis, a reaction produces sugar, oxy...</td>\n",
       "      <td>[ chemical energy ,  kinetic energy ,  light energy ,  heat energy]</td>\n",
       "      <td>chemical energy</td>\n",
       "      <td>During photosynthesis, plants convert light energy into chemical e...</td>\n",
       "      <td>chemical energy</td>\n",
       "      <td>✔️ [True]</td>\n",
       "    </tr>\n",
       "    <tr>\n",
       "      <th>1</th>\n",
       "      <td>Lichens are symbiotic organisms made of green algae and fungi. Wha...</td>\n",
       "      <td>[ carbon dioxide ,  food ,  protection ,  water]</td>\n",
       "      <td>food</td>\n",
       "      <td>Lichens are symbiotic organisms made up of fungi and green algae o...</td>\n",
       "      <td>food</td>\n",
       "      <td>✔️ [True]</td>\n",
       "    </tr>\n",
       "    <tr>\n",
       "      <th>2</th>\n",
       "      <td>Which best describes why winds at the beach change direction betwe...</td>\n",
       "      <td>[' because the temperatures over land and over water change ', ' b...</td>\n",
       "      <td>because the temperatures over land and over water change</td>\n",
       "      <td>During the day, land heats up faster than water due to its lower h...</td>\n",
       "      <td>because the temperatures over land and over water change</td>\n",
       "      <td>✔️ [True]</td>\n",
       "    </tr>\n",
       "    <tr>\n",
       "      <th>3</th>\n",
       "      <td>Many natural rock formations change color over time. In Utah, for ...</td>\n",
       "      <td>[ chemical weathering ,  mechanical weathering ,  water erosion , ...</td>\n",
       "      <td>chemical weathering</td>\n",
       "      <td>Chemical weathering involves the breakdown of rocks due to chemica...</td>\n",
       "      <td>chemical weathering</td>\n",
       "      <td>✔️ [True]</td>\n",
       "    </tr>\n",
       "    <tr>\n",
       "      <th>4</th>\n",
       "      <td>A cow and a frog have similar bone structures in their forelimbs. ...</td>\n",
       "      <td>[' Both have undergone similar mutations. ', ' Both descended from...</td>\n",
       "      <td>Both descended from a common ancestor.</td>\n",
       "      <td>The similarity in bone structure between a cow and a frog is a res...</td>\n",
       "      <td>Both descended from a common ancestor.</td>\n",
       "      <td>✔️ [True]</td>\n",
       "    </tr>\n",
       "  </tbody>\n",
       "</table>\n",
       "</div>"
      ],
      "text/plain": [
       "                                                                question  \\\n",
       "0  When plants undergo photosynthesis, a reaction produces sugar, oxy...   \n",
       "1  Lichens are symbiotic organisms made of green algae and fungi. Wha...   \n",
       "2  Which best describes why winds at the beach change direction betwe...   \n",
       "3  Many natural rock formations change color over time. In Utah, for ...   \n",
       "4  A cow and a frog have similar bone structures in their forelimbs. ...   \n",
       "\n",
       "                                                                 choices  \\\n",
       "0    [ chemical energy ,  kinetic energy ,  light energy ,  heat energy]   \n",
       "1                       [ carbon dioxide ,  food ,  protection ,  water]   \n",
       "2  [' because the temperatures over land and over water change ', ' b...   \n",
       "3  [ chemical weathering ,  mechanical weathering ,  water erosion , ...   \n",
       "4  [' Both have undergone similar mutations. ', ' Both descended from...   \n",
       "\n",
       "                                               example_answer  \\\n",
       "0                                            chemical energy    \n",
       "1                                                       food    \n",
       "2   because the temperatures over land and over water change    \n",
       "3                                        chemical weathering    \n",
       "4                     Both descended from a common ancestor.    \n",
       "\n",
       "                                                               reasoning  \\\n",
       "0  During photosynthesis, plants convert light energy into chemical e...   \n",
       "1  Lichens are symbiotic organisms made up of fungi and green algae o...   \n",
       "2  During the day, land heats up faster than water due to its lower h...   \n",
       "3  Chemical weathering involves the breakdown of rocks due to chemica...   \n",
       "4  The similarity in bone structure between a cow and a frog is a res...   \n",
       "\n",
       "                                                pred_answer validate_answer  \n",
       "0                                           chemical energy       ✔️ [True]  \n",
       "1                                                      food       ✔️ [True]  \n",
       "2  because the temperatures over land and over water change       ✔️ [True]  \n",
       "3                                       chemical weathering       ✔️ [True]  \n",
       "4                    Both descended from a common ancestor.       ✔️ [True]  "
      ]
     },
     "metadata": {},
     "output_type": "display_data"
    },
    {
     "data": {
      "text/html": [
       "\n",
       "                <div style='\n",
       "                    text-align: center;\n",
       "                    font-size: 16px;\n",
       "                    font-weight: bold;\n",
       "                    color: #555;\n",
       "                    margin: 10px 0;'>\n",
       "                    ... 25 more rows not displayed ...\n",
       "                </div>\n",
       "                "
      ],
      "text/plain": [
       "<IPython.core.display.HTML object>"
      ]
     },
     "metadata": {},
     "output_type": "display_data"
    },
    {
     "data": {
      "text/plain": [
       "90.0"
      ]
     },
     "execution_count": 70,
     "metadata": {},
     "output_type": "execute_result"
    }
   ],
   "source": [
    "from dspy.evaluate.evaluate import Evaluate\n",
    "\n",
    "# Set up the `evaluate_on_hotpotqa` function. We'll use this many times below.\n",
    "evaluate_on_testset = Evaluate(devset=trainset, num_threads=1, display_progress=True, display_table=5)\n",
    "\n",
    "# Evaluate the `compiled_knn` program with the `answer_exact_match` metric.\n",
    "#metric = dspy.evaluate.answer_exact_match\n",
    "\n",
    "    \n",
    "evaluate_on_testset(compiled_knn, validate_answer)\n"
   ]
  },
  {
   "cell_type": "code",
   "execution_count": null,
   "id": "b8b3adf5",
   "metadata": {},
   "outputs": [],
   "source": []
  },
  {
   "cell_type": "markdown",
   "id": "e13e41fe",
   "metadata": {},
   "source": [
    "---\n",
    "## start optimizing using MIPROv2 "
   ]
  },
  {
   "cell_type": "code",
   "execution_count": 77,
   "id": "804d3c4a",
   "metadata": {},
   "outputs": [
    {
     "name": "stderr",
     "output_type": "stream",
     "text": [
      "2025/01/09 12:57:38 INFO dspy.teleprompt.mipro_optimizer_v2: \n",
      "RUNNING WITH THE FOLLOWING LIGHT AUTO RUN SETTINGS:\n",
      "num_trials: 7\n",
      "minibatch: False\n",
      "num_candidates: 5\n",
      "valset size: 24\n",
      "\n",
      "2025/01/09 12:57:38 INFO dspy.teleprompt.mipro_optimizer_v2: \n",
      "==> STEP 1: BOOTSTRAP FEWSHOT EXAMPLES <==\n",
      "2025/01/09 12:57:38 INFO dspy.teleprompt.mipro_optimizer_v2: These will be used as few-shot example candidates for our program and for creating instructions.\n",
      "\n",
      "2025/01/09 12:57:38 INFO dspy.teleprompt.mipro_optimizer_v2: Bootstrapping N=5 sets of demonstrations...\n"
     ]
    },
    {
     "name": "stdout",
     "output_type": "stream",
     "text": [
      "Optimizing zero-shot program with MIPRO...\n",
      "Bootstrapping set 1/5\n",
      "Bootstrapping set 2/5\n",
      "Bootstrapping set 3/5\n"
     ]
    },
    {
     "name": "stderr",
     "output_type": "stream",
     "text": [
      " 17%|█████████████████████████████                                                                                                                                                 | 1/6 [00:01<00:09,  1.86s/it]"
     ]
    },
    {
     "name": "stdout",
     "output_type": "stream",
     "text": [
      "\u001b[34minspect reasoning >>>  Photosynthesis results in the production of sugar, oxygen, and water from carbon dioxide and water using light energy. This sugar is stored in the plant as chemical energy until it is needed during respiration, where it is converted to usable energy. False\n",
      "\u001b[36mstripped strange characters in pred if any : chemical energy\n",
      "\u001b[30mgold answer:  chemical energy \n",
      "True\n"
     ]
    },
    {
     "name": "stderr",
     "output_type": "stream",
     "text": [
      " 33%|██████████████████████████████████████████████████████████                                                                                                                    | 2/6 [00:02<00:05,  1.42s/it]"
     ]
    },
    {
     "name": "stdout",
     "output_type": "stream",
     "text": [
      "\u001b[34minspect reasoning >>>  In a lichen symbiosis, the green algae supplies the fungi with food. The green algae performs photosynthesis, creating organic nutrients for both itself and the fungi. False\n",
      "\u001b[36mstripped strange characters in pred if any : food\n",
      "\u001b[30mgold answer:  food \n",
      "True\n"
     ]
    },
    {
     "name": "stderr",
     "output_type": "stream",
     "text": [
      " 50%|███████████████████████████████████████████████████████████████████████████████████████                                                                                       | 3/6 [00:04<00:04,  1.60s/it]\n"
     ]
    },
    {
     "name": "stdout",
     "output_type": "stream",
     "text": [
      "\u001b[34minspect reasoning >>>  The change in wind direction is due to the difference in temperature over land and water, which causes a pressure difference and leads to wind movement from areas of high pressure to low pressure. During the day, the land heats up faster than the water, causing a low-pressure system over land and a high-pressure system over water. This results in winds blowing from the water towards the land. At night, the land cools faster than the water, reversing the pressure system and causing winds to blow from the land towards the water. False\n",
      "\u001b[36mstripped strange characters in pred if any : because the temperatures over land and over water change\n",
      "\u001b[30mgold answer:  because the temperatures over land and over water change \n",
      "True\n",
      "Bootstrapped 3 full traces after 3 examples for up to 1 rounds, amounting to 3 attempts.\n",
      "Bootstrapping set 4/5\n"
     ]
    },
    {
     "name": "stderr",
     "output_type": "stream",
     "text": [
      " 17%|█████████████████████████████                                                                                                                                                 | 1/6 [00:01<00:06,  1.29s/it]"
     ]
    },
    {
     "name": "stdout",
     "output_type": "stream",
     "text": [
      "\u001b[34minspect reasoning >>>  Chemical weathering occurs when the chemical composition of rocks change due to chemical reactions. In this case, iron in the rocks is exposed to oxygen and water, which causes it to rust, or oxidize. This process changes the color of the rock, turning it red, orange, or yellow. False\n",
      "\u001b[36mstripped strange characters in pred if any : chemical weathering\n",
      "\u001b[30mgold answer:  chemical weathering \n",
      "True\n"
     ]
    },
    {
     "name": "stderr",
     "output_type": "stream",
     "text": [
      " 33%|██████████████████████████████████████████████████████████                                                                                                                    | 2/6 [00:02<00:04,  1.25s/it]"
     ]
    },
    {
     "name": "stdout",
     "output_type": "stream",
     "text": [
      "\u001b[34minspect reasoning >>>  The similarity in bone structure between a cow and a frog is a result of their shared evolutionary history. This is an example of homology, where two organisms share a similar structure due to common ancestry. False\n",
      "\u001b[36mstripped strange characters in pred if any : Both descended from a common ancestor.\n",
      "\u001b[30mgold answer:  Both descended from a common ancestor. \n",
      "True\n"
     ]
    },
    {
     "name": "stderr",
     "output_type": "stream",
     "text": [
      " 50%|███████████████████████████████████████████████████████████████████████████████████████                                                                                       | 3/6 [00:04<00:04,  1.48s/it]\n"
     ]
    },
    {
     "name": "stdout",
     "output_type": "stream",
     "text": [
      "\u001b[34minspect reasoning >>>  The change in direction of the winds at the beach between day and night is primarily due to the difference in temperature over land and water. During the day, the land heats up faster than the water, causing the air above the land to rise and creating low pressure. This draws in the cooler air from over the water, resulting in a sea breeze. At night, the land cools down faster than the water, causing the air above the water to rise and creating a high-pressure system. This pushes the air out towards the land, resulting in a land breeze. False\n",
      "\u001b[36mstripped strange characters in pred if any : because the temperatures over land and over water change\n",
      "\u001b[30mgold answer:  because the temperatures over land and over water change \n",
      "True\n",
      "Bootstrapped 3 full traces after 3 examples for up to 1 rounds, amounting to 3 attempts.\n",
      "Bootstrapping set 5/5\n"
     ]
    },
    {
     "name": "stderr",
     "output_type": "stream",
     "text": [
      " 17%|█████████████████████████████                                                                                                                                                 | 1/6 [00:01<00:08,  1.67s/it]"
     ]
    },
    {
     "name": "stdout",
     "output_type": "stream",
     "text": [
      "\u001b[34minspect reasoning >>>  In a lichen symbiosis, green algae provide carbohydrates to the fungi through photosynthesis, which is the process of converting sunlight into food. However, the question asks for what the green algae supply to the fungi, which is not directly listed in the options. Considering the options, the green algae supply \"food\" to the fungi, as they produce organic molecules that the fungi can utilize for energy and growth. False\n",
      "\u001b[36mstripped strange characters in pred if any : food\n",
      "\u001b[30mgold answer:  food \n",
      "True\n"
     ]
    },
    {
     "name": "stderr",
     "output_type": "stream",
     "text": [
      " 33%|██████████████████████████████████████████████████████████                                                                                                                    | 2/6 [00:02<00:05,  1.31s/it]"
     ]
    },
    {
     "name": "stdout",
     "output_type": "stream",
     "text": [
      "\u001b[34minspect reasoning >>>  The digestion process begins when food enters the mouth. The enzymes in the saliva start the chemical process of breaking down food even before it reaches the stomach. False\n",
      "\u001b[36mstripped strange characters in pred if any : the mouth, with chewing and saliva\n",
      "\u001b[30mgold answer:  the mouth, with chewing and saliva. \n",
      "False\n"
     ]
    },
    {
     "name": "stderr",
     "output_type": "stream",
     "text": [
      " 67%|████████████████████████████████████████████████████████████████████████████████████████████████████████████████████                                                          | 4/6 [00:03<00:01,  1.05it/s]\n",
      "2025/01/09 12:57:52 INFO dspy.teleprompt.mipro_optimizer_v2: \n",
      "==> STEP 2: PROPOSE INSTRUCTION CANDIDATES <==\n",
      "2025/01/09 12:57:52 INFO dspy.teleprompt.mipro_optimizer_v2: We will use the few-shot examples from the previous step, a generated dataset summary, a summary of the program code, and a randomly selected prompting tip to propose instructions.\n",
      "2025/01/09 12:57:52 INFO dspy.teleprompt.mipro_optimizer_v2: \n",
      "Proposing instructions...\n",
      "\n"
     ]
    },
    {
     "name": "stdout",
     "output_type": "stream",
     "text": [
      "\u001b[34minspect reasoning >>>  The similarity in bone structure between a cow and a frog is a result of their shared evolutionary history, rather than recent mutations or environmental pressures. False\n",
      "\u001b[36mstripped strange characters in pred if any : Both descended from a common ancestor.\n",
      "\u001b[30mgold answer:  Both descended from a common ancestor. \n",
      "True\n",
      "\u001b[34minspect reasoning >>>  The change in wind direction at the beach between day and night is primarily due to differences in temperature between land and water. During the day, land heats up faster than water, causing air over land to rise and creating a low-pressure area. As a result, cooler air over the water moves towards the land, creating a sea breeze. At night, land cools down faster than water, causing air over land to sink and creating a high-pressure area. This leads to a reverse flow of air from land to water, creating a land breeze. False\n",
      "\u001b[36mstripped strange characters in pred if any : because the temperatures over land and over water change\n",
      "\u001b[30mgold answer:  because the temperatures over land and over water change \n",
      "True\n",
      "Bootstrapped 3 full traces after 4 examples for up to 1 rounds, amounting to 4 attempts.\n",
      "Error getting source code: unhashable type: 'list'.\n",
      "\n",
      "Running without program aware proposer.\n"
     ]
    },
    {
     "name": "stderr",
     "output_type": "stream",
     "text": [
      "2025/01/09 12:57:57 INFO dspy.teleprompt.mipro_optimizer_v2: Proposed Instructions for Predictor 0:\n",
      "\n",
      "2025/01/09 12:57:57 INFO dspy.teleprompt.mipro_optimizer_v2: 0: Answer questions with short factoid answers.\n",
      "\n",
      "2025/01/09 12:57:57 INFO dspy.teleprompt.mipro_optimizer_v2: 1: Given a multiple-choice question on a scientific topic, provide the correct answer in a concise and factual manner, focusing on the concepts of biology, chemistry, earth sciences, photosynthesis, symbiosis, or human anatomy.\n",
      "\n",
      "2025/01/09 12:57:57 INFO dspy.teleprompt.mipro_optimizer_v2: 2: Answer multiple-choice questions on various scientific topics by selecting the correct option and providing a brief reasoning for the answer. Keep responses concise and to the point.\n",
      "\n",
      "2025/01/09 12:57:57 INFO dspy.teleprompt.mipro_optimizer_v2: 3: Given a multiple-choice question on various scientific topics including biology, chemistry, and earth sciences, provide the correct answer along with a detailed step-by-step explanation of the reasoning behind the answer.\n",
      "\n",
      "2025/01/09 12:57:57 INFO dspy.teleprompt.mipro_optimizer_v2: 4: Given a multiple-choice question on various scientific topics such as biology, chemistry, and earth sciences, provide a concise and accurate answer based on the given options and a detailed reasoning process. The question may involve concepts like symbiosis, photosynthesis, human anatomy, or environmental processes. Make sure to consider the options provided and select the most appropriate answer based on the information given. Provide a clear and step-by-step reasoning process to explain your answer.\n",
      "\n",
      "2025/01/09 12:57:57 INFO dspy.teleprompt.mipro_optimizer_v2: \n",
      "\n",
      "2025/01/09 12:57:57 INFO dspy.teleprompt.mipro_optimizer_v2: Evaluating the default program...\n",
      "\n"
     ]
    },
    {
     "name": "stdout",
     "output_type": "stream",
     "text": [
      "\u001b[34minspect reasoning >>>  Plant decomposition is the most important factor in the formation of dark, fertile soil that is good for farming. This process involves the breaking down of organic matter from plants, which enriches the soil with nutrients and improves its structure, thus making it more suitable for agriculture. False\n",
      "\u001b[36mstripped strange characters in pred if any : plant decomposition\n",
      "\u001b[30mgold answer:  plant decomposition \n",
      "True\n",
      "\u001b[34minspect reasoning >>>  Rocks are classified into three main types based on the processes that formed them. The three types are igneous, sedimentary, and metamorphic. Igneous rocks form when magma or lava cools and solidifies; sedimentary rocks form when particles from other rocks or organic material settle and accumulate in layers, which then lithify; and metamorphic rocks form when existing rocks change due to heat, pressure, or other processes. False\n",
      "\u001b[36mstripped strange characters in pred if any : how they formed\n",
      "\u001b[30mgold answer:  how they formed \n",
      "True\n",
      "\u001b[34minspect reasoning >>>  The process of creating new crust is known as seafloor spreading. This phenomenon occurs at divergent plate boundaries, where tectonic plates move away from each other. As the plates separate, magma rises from the mantle to fill the void, eventually cooling and forming new crust. False\n",
      "\u001b[36mstripped strange characters in pred if any : divergent\n",
      "\u001b[30mgold answer:  divergent\n",
      "True\n",
      "\u001b[34minspect reasoning >>>  Calcium carbonate is commonly used as a treatment for stomach discomfort due to its ability to neutralize digestive acid. This alkaline compound reacts with the acid in the stomach, reducing its acidity and providing relief from symptoms such as indigestion, heartburn, and acid reflux. While calcium carbonate does occur naturally in the body and can be inexpensive to produce, these are not the primary reasons for its use in this context. The pleasant flavor of the tablet is also not a significant factor in its effectiveness as a medicine. False\n",
      "\u001b[36mstripped strange characters in pred if any : neutralizes digestive acid\n",
      "\u001b[30mgold answer:  neutralizes digestive acid. \n",
      "False\n",
      "\u001b[34minspect reasoning >>>  The mixture of iron filings and black pepper can be separated based on their physical properties. Iron filings are magnetic, while black pepper is not. Therefore, a magnet can be used to separate the iron filings from the black pepper. Filter paper is typically used to separate solids from liquids, a triple-beam balance is used to measure mass, and a voltmeter is used to measure voltage. False\n",
      "\u001b[36mstripped strange characters in pred if any : magnet\n",
      "\u001b[30mgold answer:  magnet \n",
      "True\n",
      "\u001b[34minspect reasoning >>>  All cells, regardless of type, share the characteristic of requiring energy to perform various cellular functions. This energy is obtained through different means such as photosynthesis, cellular respiration, or consuming other organisms. False\n",
      "\u001b[36mstripped strange characters in pred if any : They need energy.\n",
      "\u001b[30mgold answer:  They need energy. \n",
      "True\n",
      "\u001b[34minspect reasoning >>>  A fever is most commonly a response to an infection, which could be viral or bacterial. When the body detects foreign invaders, such as bacteria in the bloodstream, it triggers an immune response. This response includes raising the body's temperature to make it less hospitable for the invading organisms, causing a fever. False\n",
      "\u001b[36mstripped strange characters in pred if any : a bacterial population in the bloodstream\n",
      "\u001b[30mgold answer:  a bacterial population in the bloodstream \n",
      "True\n",
      "\u001b[34minspect reasoning >>>  The process of changing igneous rock into metamorphic rock is driven by heat and pressure. These factors cause the minerals within the rock to change, creating a new type of rock. However, the question specifically asks for the form of energy. In this context, heat is the form of energy that drives the metamorphic process. False\n",
      "\u001b[36mstripped strange characters in pred if any : heat\n",
      "\u001b[30mgold answer:  heat \n",
      "True\n",
      "\u001b[34minspect reasoning >>>  Gas-efficient engines consume less fuel to cover the same distance compared to less efficient engines. This results in lower emissions of harmful gases such as carbon monoxide, nitrogen oxides, and hydrocarbons, which are major contributors to air pollution. Therefore, gas-efficient engines can help reduce air pollution in a city. False\n",
      "\u001b[36mstripped strange characters in pred if any : air pollution\n",
      "\u001b[30mgold answer:  air pollution. \n",
      "False\n",
      "\u001b[34minspect reasoning >>>  The question states that red flowers are dominant to white flowers in snapdragon plants, and when red and white plants are crossed, pink flowers are produced. This indicates that pink flowers are the result of a heterozygous genotype, with one copy of the red allele and one copy of the white allele. Therefore, to produce plants with only white flowers, both parent plants must be homozygous for the white allele. False\n",
      "\u001b[36mstripped strange characters in pred if any : Both white\n",
      "\u001b[30mgold answer:  both white \n",
      "True\n",
      "\u001b[34minspect reasoning >>>  Unicellular organisms are those that consist of only a single cell. All life functions, such as nutrition, respiration, reproduction, and excretion, are performed within this single cell. Therefore, the statement that every cell performs all life functions is the most accurate description of unicellular organisms. False\n",
      "\u001b[36mstripped strange characters in pred if any : Every cell performs all life functions.\n",
      "\u001b[30mgold answer:  Every cell performs all life functions.\n",
      "True\n",
      "\u001b[34minspect reasoning >>>  Applying a cold ice pack can help reduce swelling but it does not prevent infection. Raising the injured area can help reduce bleeding and swelling but it also does not prevent infection. Applying pressure to stop bleeding is important but it does not necessarily prevent infection. Washing the area with warm, soapy water is the best way to prevent infection as it removes dirt and bacteria from the wound. False\n",
      "\u001b[36mstripped strange characters in pred if any : Wash with warm, soapy water\n",
      "\u001b[30mgold answer:  wash the area with warm, soapy water\n",
      "False\n",
      "\u001b[34minspect reasoning >>>  The process of meiosis contributes to genetic variation within a species through several events. However, the most significant contributor to variation is the segregation of alleles, which occurs during meiosis I. This process involves the random distribution of homologous chromosomes into daughter cells, resulting in new combinations of alleles and genetic diversity. False\n",
      "\u001b[36mstripped strange characters in pred if any : segregation of alleles\n",
      "\u001b[30mgold answer:  segregation of alleles \n",
      "True\n",
      "\u001b[34minspect reasoning >>>  Decomposers break down dead organisms and organic waste materials, such as dead plants and animals, into simpler inorganic substances. This process releases essential nutrients like carbon, nitrogen, and phosphorus back into the soil, increasing its fertility. However, decomposers specifically play a crucial role in the nitrogen cycle by converting nitrogen from organic forms to inorganic forms, such as ammonium (NH4+) and nitrate (NO3-). These inorganic forms of nitrogen are essential for plant growth, making the soil more fertile. False\n",
      "\u001b[36mstripped strange characters in pred if any : by adding nitrogen\n",
      "\u001b[30mgold answer:  by adding nitrogen \n",
      "True\n",
      "\u001b[34minspect reasoning >>>  The color of the beetles is likely related to their survival strategy. In this case, the environment is changing from a forest with trees to a dry area with fewer trees. This suggests that the beetles' food source (leaves and plants) is also changing. Beetles that are better adapted to this new environment are more likely to survive and reproduce, leading to a change in the population's characteristics.\n",
      "\n",
      "Since the forest is becoming dry with fewer trees, it's reasonable to assume that the remaining vegetation might be more likely to be brown (like dry leaves or dead plants) than green. Therefore, the light brown beetles, which would blend in better with this new environment, might have a survival advantage over the dark green beetles. This is based on the principle of camouflage, where animals that blend in with their environment are less likely to be seen and eaten by predators.\n",
      "\n",
      "The question doesn't provide any information suggesting that the beetles would become carnivorous or grow in size, so those options are less likely. False\n",
      "\u001b[36mstripped strange characters in pred if any : It would be mostly light brown beetles.\n",
      "\u001b[30mgold answer:  It would be mostly light brown beetles. \n",
      "True\n",
      "\u001b[34minspect reasoning >>>  An assistive device is a tool that helps individuals overcome a difficulty or handicap. Contact lenses are used to correct vision impairments, making them an assistive device. On the other hand, motorcycles, raincoats, and coffee pots are not specifically designed to assist individuals with disabilities or impairments. False\n",
      "\u001b[36mstripped strange characters in pred if any : Contact lens\n",
      "\u001b[30mgold answer:  contact lens \n",
      "True\n",
      "\u001b[34minspect reasoning >>>  The process that most likely transfers heat from the campfire to the student is radiation. Radiation is the transfer of heat through empty space, and it does not require any medium to transmit the heat. In this case, the heat from the campfire radiates outward in all directions and warms the student standing nearby. Conduction would require direct contact between the fire and the student, convection would require a fluid or gas to carry the heat, and transformation is not a heat transfer process. False\n",
      "\u001b[36mstripped strange characters in pred if any : radiation\n",
      "\u001b[30mgold answer:  radiation \n",
      "True\n",
      "\u001b[34minspect reasoning >>>  The characteristic that most likely accounts for our limited knowledge of galaxies is their great distance from Earth. Galaxies are extremely far away from our planet, which makes it challenging for us to study and observe them in detail. This distance also contributes to the immense amount of time it takes for light from these galaxies to reach us, meaning we are often seeing galaxies as they appeared millions or even billions of years ago. False\n",
      "\u001b[36mstripped strange characters in pred if any : Their great distance from Earth\n",
      "\u001b[30mgold answer:  their great distance from Earth\n",
      "True\n",
      "\u001b[34minspect reasoning >>>  When oxygen combines with hydrogen, the substance formed is water. This is because oxygen and hydrogen combine in a 2:1 ratio to form H2O, which is the chemical formula for water. False\n",
      "\u001b[36mstripped strange characters in pred if any : water\n",
      "\u001b[30mgold answer:  water \n",
      "True\n",
      "\u001b[34minspect reasoning >>>  The process of freezing causes the particles of water to become arranged in a fixed position. This is due to the decrease in temperature, which reduces the kinetic energy of the water molecules, causing them to slow down and form a solid crystal lattice, which is ice. False\n",
      "\u001b[36mstripped strange characters in pred if any : freezing\n",
      "\u001b[30mgold answer:  freezing \n",
      "True\n",
      "\u001b[34minspect reasoning >>>  In a transverse wave, the particles of the medium oscillate back and forth, but their motion is perpendicular to the direction in which the wave travels. Since the wave is passing from right to left, the particles will be moving back and forth vertically (or horizontally, depending on the orientation of the wave), not along the direction of the wave. False\n",
      "\u001b[36mstripped strange characters in pred if any : Particles move back and forth perpendicular to the wave.\n",
      "\u001b[30mgold answer:  Particles move back and forth perpendicular to the wave.\n",
      "True\n",
      "\u001b[34minspect reasoning >>>  The skeletal system is responsible for providing structure and support, while the nervous system is responsible for sending and receiving signals. The muscular system is responsible for movement. The excretory system, however, is primarily responsible for removing waste from the body by filtering out toxins and other waste products. False\n",
      "\u001b[36mstripped strange characters in pred if any : excretory system\n",
      "\u001b[30mgold answer:  excretory system\n",
      "True\n",
      "\u001b[34minspect reasoning >>>  White fur color is an advantage in environments where there is snow for most of the year. This is because white fur allows animals to blend in with their surroundings, making it harder for predators to spot them. It also helps in hunting prey as they are camouflaged. False\n",
      "\u001b[36mstripped strange characters in pred if any : arctic tundra\n",
      "\u001b[30mgold answer:  arctic tundra \n",
      "True\n",
      "\u001b[34minspect reasoning >>>  The chemical symbol for magnesium is determined by its name in the periodic table, which is derived from its Latin name \"magnesium.\" The correct symbol for magnesium is \"Mg,\" which is listed as one of the choices. Therefore, the correct answer is [2] \"Mg.\" False\n",
      "\u001b[36mstripped strange characters in pred if any : Mg\n",
      "\u001b[30mgold answer:  Mg \n",
      "True\n",
      "Average Metric: 21.00 / 24 (87.5%): 100%|██████████████████████████████████████████████████████████████████████████████████████████████████████████████████████████████████████| 24/24 [00:00<00:00, 1703.96it/s]"
     ]
    },
    {
     "name": "stderr",
     "output_type": "stream",
     "text": [
      "2025/01/09 12:57:58 INFO dspy.evaluate.evaluate: Average Metric: 21 / 24 (87.5%)\n",
      "2025/01/09 12:57:58 INFO dspy.teleprompt.mipro_optimizer_v2: Default program score: 87.5\n",
      "\n",
      "2025/01/09 12:57:58 INFO dspy.teleprompt.mipro_optimizer_v2: ==> STEP 3: FINDING OPTIMAL PROMPT PARAMETERS <==\n",
      "2025/01/09 12:57:58 INFO dspy.teleprompt.mipro_optimizer_v2: We will evaluate the program over a series of trials with different combinations of instructions and few-shot examples to find the optimal combination using Bayesian Optimization.\n",
      "\n",
      "/usr/local/lib/python3.10/dist-packages/optuna/_experimental.py:31: ExperimentalWarning: Argument ``multivariate`` is an experimental feature. The interface can change in the future.\n",
      "  warnings.warn(\n",
      "2025/01/09 12:57:58 INFO dspy.teleprompt.mipro_optimizer_v2: ===== Trial 1 / 7 =====\n"
     ]
    },
    {
     "name": "stdout",
     "output_type": "stream",
     "text": [
      "\n",
      "  0%|                                                                                                                                                                                     | 0/24 [00:00<?, ?it/s]\u001b[34minspect reasoning >>>  Plant decomposition contributes organic matter to the soil, which supports the growth of other plants and microorganisms. This process is essential in creating dark, fertile soil that is good for farming. Radioactive decay, water erosion, and wind erosion do not directly contribute to the formation of fertile soil. False\n",
      "\u001b[36mstripped strange characters in pred if any : plant decomposition\n",
      "\u001b[30mgold answer:  plant decomposition \n",
      "True\n",
      "Average Metric: 1.00 / 1 (100.0%):   4%|█████▊                                                                                                                                    | 1/24 [00:01<00:37,  1.64s/it]\u001b[34minspect reasoning >>>  A magnet can attract iron, but it cannot attract black pepper, which makes it possible to separate the iron filings from the black pepper in the mixture. False\n",
      "\u001b[36mstripped strange characters in pred if any : magnet\n",
      "\u001b[30mgold answer:  magnet \n",
      "True\n",
      "Average Metric: 2.00 / 2 (100.0%):   8%|███████████▌                                                                                                                              | 2/24 [00:01<00:19,  1.15it/s]\u001b[34minspect reasoning >>>  At a divergent plate boundary, tectonic plates move apart from each other, allowing magma from the mantle to rise and cool, forming new crust. This process results in the creation of new oceanic crust, such as at mid-ocean ridges. False\n",
      "\u001b[36mstripped strange characters in pred if any : divergent\n",
      "\u001b[30mgold answer:  divergent\n",
      "True\n",
      "Average Metric: 3.00 / 3 (100.0%):  12%|█████████████████▎                                                                                                                        | 3/24 [00:02<00:14,  1.46it/s]\u001b[34minspect reasoning >>>  Calcium carbonate can neutralize stomach acid due to its basic (alkaline) nature, which can help relieve symptoms of acid reflux and indigestion. This is the primary reason why it is used in chewable antacid tablets. False\n",
      "\u001b[36mstripped strange characters in pred if any : neutralizes digestive acid\n",
      "\u001b[30mgold answer:  neutralizes digestive acid. \n",
      "False\n",
      "Average Metric: 3.00 / 4 (75.0%):  12%|█████████████████▍                                                                                                                         | 3/24 [00:02<00:14,  1.46it/s]\u001b[34minspect reasoning >>>  All cells, whether prokaryotic or eukaryotic, need energy to carry out their cellular processes. This energy is acquired through various means, such as photosynthesis in plants or breaking down nutrients in animals. However, energy acquisition is a universal requirement for all cells. False\n",
      "\u001b[36mstripped strange characters in pred if any : They need energy.\n",
      "\u001b[30mgold answer:  They need energy. \n",
      "True\n",
      "Average Metric: 4.00 / 5 (80.0%):  17%|███████████████████████▏                                                                                                                   | 4/24 [00:02<00:13,  1.46it/s]\u001b[34minspect reasoning >>>  Rocks are classified into igneous, metamorphic, and sedimentary based on how they formed. Igneous rocks form from the cooling of magma or lava, metamorphic rocks form from existing rocks that undergo changes due to heat and pressure, and sedimentary rocks form from the accumulation and lithification of sediments. False\n",
      "\u001b[36mstripped strange characters in pred if any : how they formed\n",
      "\u001b[30mgold answer:  how they formed \n",
      "True\n",
      "Average Metric: 5.00 / 6 (83.3%):  25%|██████████████████████████████████▊                                                                                                        | 6/24 [00:02<00:05,  3.49it/s]\u001b[34minspect reasoning >>>  The process of converting igneous rock into metamorphic rock involves extreme heat and pressure. This transformation occurs deep within the Earth's crust, where these conditions are met. Therefore, the form of energy responsible for this process is heat energy. False\n",
      "\u001b[36mstripped strange characters in pred if any : heat\n",
      "\u001b[30mgold answer:  heat \n",
      "True\n",
      "Average Metric: 6.00 / 7 (85.7%):  29%|████████████████████████████████████████▌                                                                                                  | 7/24 [00:03<00:07,  2.29it/s]\u001b[34minspect reasoning >>>  Gas-efficient engines produce fewer emissions, which means they reduce the overall amount of pollutants in the air. This directly impacts the amount of air pollution in a city. False\n",
      "\u001b[36mstripped strange characters in pred if any : air pollution\n",
      "\u001b[30mgold answer:  air pollution. \n",
      "False\n",
      "Average Metric: 6.00 / 8 (75.0%):  33%|██████████████████████████████████████████████▎                                                                                            | 8/24 [00:03<00:06,  2.58it/s]\u001b[34minspect reasoning >>>  A fever is most commonly associated with an infection, such as bacterial or viral infections. Relaxation of muscles after exercise or digestion of carbohydrates are natural bodily processes that do not typically cause a fever. While viruses can cause a fever, the viral particles on the skin would not directly cause a fever unless they enter the body and replicate. However, a bacterial population in the bloodstream would signal a systemic infection, which the body responds to by raising its temperature to fight off the bacteria, leading to a fever. False\n",
      "\u001b[36mstripped strange characters in pred if any : a bacterial population in the bloodstream\n",
      "\u001b[30mgold answer:  a bacterial population in the bloodstream \n",
      "True\n",
      "Average Metric: 7.00 / 9 (77.8%):  38%|████████████████████████████████████████████████████▏                                                                                      | 9/24 [00:04<00:06,  2.38it/s]\u001b[34minspect reasoning >>>  Washing the area with warm, soapy water is the most effective method to help prevent infections in small cuts and scrapes. Warm water and soap help remove dirt, bacteria, and other contaminants from the wound, which can reduce the chance of infection. False\n",
      "\u001b[36mstripped strange characters in pred if any : wash the area with warm, soapy water\n",
      "\u001b[30mgold answer:  wash the area with warm, soapy water\n",
      "True\n",
      "Average Metric: 8.00 / 10 (80.0%):  38%|███████████████████████████████████████████████████▊                                                                                      | 9/24 [00:04<00:06,  2.38it/s]\u001b[34minspect reasoning >>>  Unicellular organisms are organisms that consist of a single cell. By definition, this cell performs all life functions, including feeding, excretion, growth, and reproduction. Not all unicellular organisms can make their own food (autotrophic) or move on their own (motility). False\n",
      "\u001b[36mstripped strange characters in pred if any : Every cell performs all life functions.\n",
      "\u001b[30mgold answer:  Every cell performs all life functions.\n",
      "True\n",
      "Average Metric: 9.00 / 11 (81.8%):  46%|██████████████████████████████████████████████████████████████▊                                                                          | 11/24 [00:04<00:03,  3.82it/s]\u001b[34minspect reasoning >>>  The color of flowers in plants is determined by genes, with different versions, or alleles, of genes leading to different colors. In this case, red flowers are dominant to white flowers. When a red-flowered plant is crossed with a white-flowered plant, the offspring will have pink flowers due to incomplete dominance. To produce plants with only white flowers, both parent plants must have the recessive white-flower allele. False\n",
      "\u001b[36mstripped strange characters in pred if any : both white\n",
      "\u001b[30mgold answer:  both white \n",
      "True\n",
      "Average Metric: 10.00 / 12 (83.3%):  50%|████████████████████████████████████████████████████████████████████                                                                    | 12/24 [00:04<00:03,  3.71it/s]\u001b[34minspect reasoning >>>  Decomposers, like bacteria and fungi, break down dead organic matter such as plants and animals into simpler compounds. This process releases nutrients like nitrogen, phosphorus, and sulfur back into the soil, making it more fertile. False\n",
      "\u001b[36mstripped strange characters in pred if any : by adding nitrogen\n",
      "\u001b[30mgold answer:  by adding nitrogen \n",
      "True\n",
      "Average Metric: 11.00 / 13 (84.6%):  54%|█████████████████████████████████████████████████████████████████████████▋                                                              | 13/24 [00:05<00:04,  2.54it/s]\u001b[34minspect reasoning >>>  The event during meiosis that contributes most to the variation within a species is the segregation of alleles. This process occurs during the first meiotic division, where homologous chromosomes separate, resulting in the segregation of alleles. This random assortment of alleles leads to the creation of new combinations of genetic material, contributing to the genetic diversity within a species. False\n",
      "\u001b[36mstripped strange characters in pred if any : segregation of alleles\n",
      "\u001b[30mgold answer:  segregation of alleles \n",
      "True\n",
      "Average Metric: 12.00 / 14 (85.7%):  58%|███████████████████████████████████████████████████████████████████████████████▎                                                        | 14/24 [00:05<00:03,  2.95it/s]\u001b[34minspect reasoning >>>  An assistive device is an object or tool that aids someone in living independently and safely. Contact lenses help people with vision impairments see more clearly, which makes them an example of an assistive device. False\n",
      "\u001b[36mstripped strange characters in pred if any : contact lens\n",
      "\u001b[30mgold answer:  contact lens \n",
      "True\n",
      "Average Metric: 13.00 / 15 (86.7%):  62%|█████████████████████████████████████████████████████████████████████████████████████                                                   | 15/24 [00:05<00:02,  3.23it/s]\u001b[34minspect reasoning >>>  The process of transferring heat from the campfire to the student is most likely due to radiation. Radiation is the transfer of heat by electromagnetic waves, and it does not require a medium for heat transfer. In this case, the heat from the campfire is transferred through the air to the student, making them feel warmer. False\n",
      "\u001b[36mstripped strange characters in pred if any : radiation\n",
      "\u001b[30mgold answer:  radiation \n",
      "True\n",
      "Average Metric: 14.00 / 16 (87.5%):  67%|██████████████████████████████████████████████████████████████████████████████████████████▋                                             | 16/24 [00:06<00:02,  2.94it/s]\u001b[34minspect reasoning >>>  The color of the beetles is likely related to their environment, a phenomenon called camouflage. Light brown beetles might blend in better with the dry, drought-stricken environment, while dark green beetles would be more likely to blend in with lush vegetation. Therefore, over several generations, natural selection would favor the light brown beetles, as they would be less visible to predators in their new environment. False\n",
      "\u001b[36mstripped strange characters in pred if any : It would be mostly light brown beetles.\n",
      "\u001b[30mgold answer:  It would be mostly light brown beetles. \n",
      "True\n",
      "Average Metric: 15.00 / 17 (88.2%):  71%|████████████████████████████████████████████████████████████████████████████████████████████████▎                                       | 17/24 [00:06<00:02,  2.74it/s]\u001b[34minspect reasoning >>>  Galaxies are indeed very large, not tiny. They do produce light due to the stars and other luminous objects they contain. Magnetic cores are not a characteristic typically associated with galaxies. The great distance from Earth is the most likely account for our limited knowledge of galaxies because the farther away an object is, the more difficult it is to observe and gather information about it. False\n",
      "\u001b[36mstripped strange characters in pred if any : their great distance from Earth\n",
      "\u001b[30mgold answer:  their great distance from Earth\n",
      "True\n",
      "Average Metric: 16.00 / 18 (88.9%):  71%|████████████████████████████████████████████████████████████████████████████████████████████████▎                                       | 17/24 [00:06<00:02,  2.74it/s]\u001b[34minspect reasoning >>>  When oxygen combines with hydrogen, the resulting compound is water (H2O). This reaction, which produces water, is a chemical reaction that involves the combination of two hydrogen atoms and one oxygen atom. False\n",
      "\u001b[36mstripped strange characters in pred if any : water\n",
      "\u001b[30mgold answer:  water \n",
      "True\n",
      "Average Metric: 17.00 / 19 (89.5%):  79%|███████████████████████████████████████████████████████████████████████████████████████████████████████████▋                            | 19/24 [00:06<00:01,  4.17it/s]\u001b[34minspect reasoning >>>  The change in state of water particles that causes them to become arranged in a fixed position is freezing, as it is the process where liquid water turns into solid ice, resulting in the fixed position of water particles. False\n",
      "\u001b[36mstripped strange characters in pred if any : freezing\n",
      "\u001b[30mgold answer:  freezing \n",
      "True\n",
      "Average Metric: 18.00 / 20 (90.0%):  83%|█████████████████████████████████████████████████████████████████████████████████████████████████████████████████▎                      | 20/24 [00:07<00:00,  4.58it/s]\u001b[34minspect reasoning >>>  The excretory system, which includes the kidneys, urinary tract, lungs, and skin, is primarily responsible for the removal of waste from the body. False\n",
      "\u001b[36mstripped strange characters in pred if any : excretory system\n",
      "\u001b[30mgold answer:  excretory system\n",
      "True\n",
      "Average Metric: 19.00 / 21 (90.5%):  88%|███████████████████████████████████████████████████████████████████████████████████████████████████████████████████████                 | 21/24 [00:07<00:00,  3.54it/s]\u001b[34minspect reasoning >>>  In a transverse wave, the particles of the medium move in a direction perpendicular to the wave's direction of propagation. As the wave moves from right to left, the particles of the medium oscillate back and forth, perpendicular to the wave's direction of movement. False\n",
      "\u001b[36mstripped strange characters in pred if any : Particles move back and forth perpendicular to the wave.\n",
      "\u001b[30mgold answer:  Particles move back and forth perpendicular to the wave.\n",
      "True\n",
      "Average Metric: 20.00 / 22 (90.9%):  92%|████████████████████████████████████████████████████████████████████████████████████████████████████████████████████████████▋           | 22/24 [00:07<00:00,  4.21it/s]\u001b[34minspect reasoning >>>  White fur color is an advantage for survival in environments with snow cover, such as the arctic tundra. This is because white fur acts as camouflage, allowing animals with white fur to blend in with their surroundings and avoid predators. This is known as crypsis. False\n",
      "\u001b[36mstripped strange characters in pred if any : arctic tundra\n",
      "\u001b[30mgold answer:  arctic tundra \n",
      "True\n",
      "Average Metric: 21.00 / 23 (91.3%):  96%|██████████████████████████████████████████████████████████████████████████████████████████████████████████████████████████████████▎     | 23/24 [00:08<00:00,  3.19it/s]\u001b[34minspect reasoning >>>  The chemical symbol for magnesium is determined by its position in the periodic table of elements. Magnesium, with an atomic number of 12, is a member of the alkaline earth metals group. The chemical symbol for magnesium is derived from its Latin name \"magnesium,\" and the correct symbol is \"Mg.\" False\n",
      "\u001b[36mstripped strange characters in pred if any : Mg\n",
      "\u001b[30mgold answer:  Mg \n",
      "True\n",
      "Average Metric: 22.00 / 24 (91.7%): 100%|████████████████████████████████████████████████████████████████████████████████████████████████████████████████████████████████████████| 24/24 [00:08<00:00,  2.88it/s]"
     ]
    },
    {
     "name": "stderr",
     "output_type": "stream",
     "text": [
      "2025/01/09 12:58:06 INFO dspy.evaluate.evaluate: Average Metric: 22 / 24 (91.7%)\n",
      "2025/01/09 12:58:06 INFO dspy.teleprompt.mipro_optimizer_v2: \u001b[92mBest full score so far!\u001b[0m Score: 91.67\n",
      "2025/01/09 12:58:06 INFO dspy.teleprompt.mipro_optimizer_v2: Score: 91.67 with parameters ['Predictor 0: Instruction 1', 'Predictor 0: Few-Shot Set 1'].\n",
      "2025/01/09 12:58:06 INFO dspy.teleprompt.mipro_optimizer_v2: Scores so far: [87.5, 91.67]\n",
      "2025/01/09 12:58:06 INFO dspy.teleprompt.mipro_optimizer_v2: Best score so far: 91.67\n",
      "2025/01/09 12:58:06 INFO dspy.teleprompt.mipro_optimizer_v2: =======================\n",
      "\n",
      "\n",
      "2025/01/09 12:58:06 INFO dspy.teleprompt.mipro_optimizer_v2: ===== Trial 2 / 7 =====\n"
     ]
    },
    {
     "name": "stdout",
     "output_type": "stream",
     "text": [
      "\n",
      "  0%|                                                                                                                                                                                     | 0/24 [00:00<?, ?it/s]\u001b[34minspect reasoning >>>  Calcium carbonate can neutralize stomach acid because it has a higher pH than stomach acid and can neutralize the acidity that causes discomfort. False\n",
      "\u001b[36mstripped strange characters in pred if any : neutralizes digestive acid\n",
      "\u001b[30mgold answer:  neutralizes digestive acid. \n",
      "False\n",
      "Average Metric: 0.00 / 1 (0.0%):   4%|█████▊                                                                                                                                      | 1/24 [00:01<00:33,  1.46s/it]\u001b[34minspect reasoning >>>  All cells, whether prokaryotic or eukaryotic, need energy to carry out their cellular processes. This energy is used for various functions such as cell division, protein synthesis, and active transport. False\n",
      "\u001b[36mstripped strange characters in pred if any : They need energy.\n",
      "\u001b[30mgold answer:  They need energy. \n",
      "True\n",
      "Average Metric: 1.00 / 2 (50.0%):   8%|███████████▌                                                                                                                               | 2/24 [00:01<00:14,  1.47it/s]\u001b[34minspect reasoning >>>  Plant decomposition releases nutrients into the soil, making it more fertile. Radioactive decay does not have a significant impact on soil formation. Water erosion and wind erosion can shape the soil but do not contribute to its fertility as much as plant decomposition. False\n",
      "\u001b[36mstripped strange characters in pred if any : plant decomposition\n",
      "\u001b[30mgold answer:  plant decomposition \n",
      "True\n",
      "Average Metric: 2.00 / 3 (66.7%):  12%|█████████████████▍                                                                                                                         | 3/24 [00:01<00:09,  2.31it/s]\u001b[34minspect reasoning >>>  At a divergent plate boundary, tectonic plates move apart from each other. This allows magma to rise from the mantle to the surface, where it cools and forms new crust. This process is also known as seafloor spreading when it occurs underwater. False\n",
      "\u001b[36mstripped strange characters in pred if any : divergent\n",
      "\u001b[30mgold answer:  divergent\n",
      "True\n",
      "Average Metric: 3.00 / 4 (75.0%):  12%|█████████████████▍                                                                                                                         | 3/24 [00:01<00:09,  2.31it/s]\u001b[34minspect reasoning >>>  A magnet can separate iron filings from a mixture of iron filings and black pepper, as iron is attracted to magnets. The other options are not suitable for this type of separation, as filter paper is used for separating solids from liquids in a suspension, a triple-beam balance is used for measuring mass, and a voltmeter is used for measuring electrical potential difference. False\n",
      "\u001b[36mstripped strange characters in pred if any : magnet\n",
      "\u001b[30mgold answer:  magnet \n",
      "True\n",
      "Average Metric: 4.00 / 5 (80.0%):  21%|████████████████████████████▉                                                                                                              | 5/24 [00:02<00:05,  3.48it/s]\u001b[34minspect reasoning >>>  Rocks are classified according to the processes that formed them. The three categories are: igneous (formed by the cooling and solidification of magma or lava), sedimentary (formed by the accumulation and lithification of sediments, or the precipitation of minerals from solution), and metamorphic (formed by the alteration of existing rocks under high temperature and/or pressure). False\n",
      "\u001b[36mstripped strange characters in pred if any : how they formed\n",
      "\u001b[30mgold answer:  how they formed \n",
      "True\n",
      "Average Metric: 5.00 / 6 (83.3%):  25%|██████████████████████████████████▊                                                                                                        | 6/24 [00:02<00:04,  4.03it/s]\u001b[34minspect reasoning >>>  The process of changing igneous rock into metamorphic rock requires heat energy, which can cause changes in the rock's internal structure and mineral composition. False\n",
      "\u001b[36mstripped strange characters in pred if any : heat\n",
      "\u001b[30mgold answer:  heat \n",
      "True\n",
      "Average Metric: 6.00 / 7 (85.7%):  29%|████████████████████████████████████████▌                                                                                                  | 7/24 [00:02<00:06,  2.61it/s]\u001b[34minspect reasoning >>>  Gas-efficient engines emit less pollutants as they use less fuel. Hence, they contribute to less air pollution. False\n",
      "\u001b[36mstripped strange characters in pred if any : air pollution\n",
      "\u001b[30mgold answer:  air pollution. \n",
      "False\n",
      "Average Metric: 6.00 / 8 (75.0%):  29%|████████████████████████████████████████▌                                                                                                  | 7/24 [00:02<00:06,  2.61it/s]\u001b[34minspect reasoning >>>  A fever is the body's response to an infection or other illnesses. An infection caused by a bacterial population in the bloodstream is most likely to cause a person to develop a fever. False\n",
      "\u001b[36mstripped strange characters in pred if any : bacterial population in the bloodstream\n",
      "\u001b[30mgold answer:  a bacterial population in the bloodstream \n",
      "False\n",
      "Average Metric: 6.00 / 9 (66.7%):  33%|██████████████████████████████████████████████▎                                                                                            | 8/24 [00:02<00:06,  2.61it/s]\u001b[34minspect reasoning >>>  The pink flowers result from cross-pollination between red and white flowers. To get only white flowers, both parent plants must be white to avoid the dominant red allele. False\n",
      "\u001b[36mstripped strange characters in pred if any : both white\n",
      "\u001b[30mgold answer:  both white \n",
      "True\n",
      "Average Metric: 7.00 / 10 (70.0%):  42%|█████████████████████████████████████████████████████████                                                                                | 10/24 [00:03<00:02,  5.18it/s]\u001b[34minspect reasoning >>>  Washing the area with warm, soapy water helps to physically remove germs from the wound, thus preventing infection. False\n",
      "\u001b[36mstripped strange characters in pred if any : wash the area with warm, soapy water\n",
      "\u001b[30mgold answer:  wash the area with warm, soapy water\n",
      "True\n",
      "Average Metric: 8.00 / 11 (72.7%):  42%|█████████████████████████████████████████████████████████                                                                                | 10/24 [00:03<00:02,  5.18it/s]\u001b[34minspect reasoning >>>  Unicellular organisms are made up of only one single cell, and unlike multicellular organisms, each cell must be capable of performing all life functions independently. False\n",
      "\u001b[36mstripped strange characters in pred if any : Every cell performs all life functions\n",
      "\u001b[30mgold answer:  Every cell performs all life functions.\n",
      "False\n",
      "Average Metric: 8.00 / 12 (66.7%):  50%|████████████████████████████████████████████████████████████████████▌                                                                    | 12/24 [00:03<00:02,  4.96it/s]\u001b[34minspect reasoning >>>  An assistive device is any device that helps a person with mobility, hearing, communication, or other function. A contact lens is an example of an assistive device because it helps people who have vision problems see more clearly. False\n",
      "\u001b[36mstripped strange characters in pred if any : contact lens\n",
      "\u001b[30mgold answer:  contact lens \n",
      "True\n",
      "Average Metric: 9.00 / 13 (69.2%):  54%|██████████████████████████████████████████████████████████████████████████▏                                                              | 13/24 [00:04<00:03,  2.78it/s]\u001b[34minspect reasoning >>>  The beetle population is most likely to be dominated by the light brown beetles after several generations, as they would have a survival advantage in the dry, sunny environment due to their lighter color. This is an example of natural selection, where changes in the environment favor certain traits and lead to their increased prevalence in the population. False\n",
      "\u001b[36mstripped strange characters in pred if any : It would be mostly light brown beetles.\n",
      "\u001b[30mgold answer:  It would be mostly light brown beetles. \n",
      "True\n",
      "Average Metric: 10.00 / 14 (71.4%):  58%|███████████████████████████████████████████████████████████████████████████████▎                                                        | 14/24 [00:04<00:03,  2.59it/s]\u001b[34minspect reasoning >>>  The segregation of alleles during meiosis is the main contributor to genetic variation within a species. This occurs during meiosis I when homologous chromosomes separate and divide, resulting in daughter cells with different combinations of alleles. This mechanism allows for the creation of genetically unique gametes, which in turn leads to genetic variation in the offspring. False\n",
      "\u001b[36mstripped strange characters in pred if any : segregation of alleles\n",
      "\u001b[30mgold answer:  segregation of alleles \n",
      "True\n",
      "Average Metric: 11.00 / 15 (73.3%):  58%|███████████████████████████████████████████████████████████████████████████████▎                                                        | 14/24 [00:04<00:03,  2.59it/s]\u001b[34minspect reasoning >>>  Decomposers make soil more fertile by breaking down organic matter into simpler nutrients, including nitrogen, phosphorus, and carbon. These nutrients are essential for plant growth and are released back into the soil as decomposers process dead organisms. The option mentioning nitrogen is the most relevant as it is a crucial nutrient for plant growth. False\n",
      "\u001b[36mstripped strange characters in pred if any : by adding nitrogen\n",
      "\u001b[30mgold answer:  by adding nitrogen \n",
      "True\n",
      "Average Metric: 12.00 / 16 (75.0%):  62%|█████████████████████████████████████████████████████████████████████████████████████                                                   | 15/24 [00:05<00:03,  2.59it/s]\u001b[34minspect reasoning >>>  The process that transfers heat from the campfire to the student is radiation. This is because heat energy from the fire is transferred through empty space via infrared waves, which are then absorbed by the student's body, causing the sensation of warmth. False\n",
      "\u001b[36mstripped strange characters in pred if any : radiation\n",
      "\u001b[30mgold answer:  radiation \n",
      "True\n",
      "Average Metric: 13.00 / 17 (76.5%):  67%|██████████████████████████████████████████████████████████████████████████████████████████▋                                             | 16/24 [00:05<00:03,  2.59it/s]\u001b[34minspect reasoning >>>  Galaxies are typically very large, so their size doesn't limit our knowledge. They also produce light, which allows us to observe them. The magnetic cores of galaxies aren't a factor in our limited knowledge. The great distance from Earth, however, makes it challenging to observe and study galaxies in detail, thus limiting our knowledge. False\n",
      "\u001b[36mstripped strange characters in pred if any : their great distance from Earth\n",
      "\u001b[30mgold answer:  their great distance from Earth\n",
      "True\n",
      "Average Metric: 14.00 / 18 (77.8%):  75%|██████████████████████████████████████████████████████████████████████████████████████████████████████                                  | 18/24 [00:05<00:01,  4.61it/s]\u001b[34minspect reasoning >>>  When oxygen combines with hydrogen, the resulting compound is water (H2O). This is a fundamental chemical reaction where two hydrogen atoms bond with one oxygen atom to form a stable molecule. False\n",
      "\u001b[36mstripped strange characters in pred if any : water\n",
      "\u001b[30mgold answer:  water \n",
      "True\n",
      "Average Metric: 15.00 / 19 (78.9%):  79%|███████████████████████████████████████████████████████████████████████████████████████████████████████████▋                            | 19/24 [00:05<00:01,  3.56it/s]\u001b[34minspect reasoning >>>  The chemical symbol for magnesium is \"Mg\", not \"Ma\", \"Mn\", or \"Mu\". False\n",
      "\u001b[36mstripped strange characters in pred if any : Mg\n",
      "\u001b[30mgold answer:  Mg \n",
      "True\n",
      "Average Metric: 16.00 / 20 (80.0%):  83%|█████████████████████████████████████████████████████████████████████████████████████████████████████████████████▎                      | 20/24 [00:06<00:01,  3.10it/s]\u001b[34minspect reasoning >>>  The change in state that causes water particles to become arranged in a fixed position is when water freezes and turns into ice. This is due to the formation of hydrogen bonds between water molecules, which hold them in a stable, solid state. False\n",
      "\u001b[36mstripped strange characters in pred if any : freezing\n",
      "\u001b[30mgold answer:  freezing \n",
      "True\n",
      "Average Metric: 17.00 / 21 (81.0%):  88%|███████████████████████████████████████████████████████████████████████████████████████████████████████████████████████                 | 21/24 [00:06<00:00,  3.51it/s]\u001b[34minspect reasoning >>>  In a transverse wave, the particles of the medium move up and down or side to side, not in the direction of the wave itself. This means that the particles move perpendicular to the direction of the wave. False\n",
      "\u001b[36mstripped strange characters in pred if any : Particles move back and forth perpendicular to the wave.\n",
      "\u001b[30mgold answer:  Particles move back and forth perpendicular to the wave.\n",
      "True\n",
      "Average Metric: 18.00 / 22 (81.8%):  88%|███████████████████████████████████████████████████████████████████████████████████████████████████████████████████████                 | 21/24 [00:06<00:00,  3.51it/s]\u001b[34minspect reasoning >>>  White fur color acts as a camouflage in snowy environments. It blends in with the surroundings, making it difficult for predators to spot the animal. This is particularly important for animals living in the arctic tundra, where snow cover is present for most of the year. False\n",
      "\u001b[36mstripped strange characters in pred if any : arctic tundra\n",
      "\u001b[30mgold answer:  arctic tundra \n",
      "True\n",
      "Average Metric: 19.00 / 23 (82.6%):  96%|██████████████████████████████████████████████████████████████████████████████████████████████████████████████████████████████████▎     | 23/24 [00:06<00:00,  4.80it/s]\u001b[34minspect reasoning >>>  The excretory system, which includes the kidneys, urinary tract, skin, and lungs, is primarily responsible for the removal of waste from the body. Waste products, including metabolic waste and toxins, are filtered out of the blood by the kidneys and then excreted from the body as urine. The skin and lungs also play a role in waste removal by eliminating waste through perspiration and exhalation, respectively. False\n",
      "\u001b[36mstripped strange characters in pred if any : excretory system\n",
      "\u001b[30mgold answer:  excretory system\n",
      "True\n",
      "Average Metric: 20.00 / 24 (83.3%): 100%|████████████████████████████████████████████████████████████████████████████████████████████████████████████████████████████████████████| 24/24 [00:07<00:00,  3.40it/s]"
     ]
    },
    {
     "name": "stderr",
     "output_type": "stream",
     "text": [
      "2025/01/09 12:58:13 INFO dspy.evaluate.evaluate: Average Metric: 20 / 24 (83.3%)\n",
      "2025/01/09 12:58:13 INFO dspy.teleprompt.mipro_optimizer_v2: Score: 83.33 with parameters ['Predictor 0: Instruction 2', 'Predictor 0: Few-Shot Set 1'].\n",
      "2025/01/09 12:58:13 INFO dspy.teleprompt.mipro_optimizer_v2: Scores so far: [87.5, 91.67, 83.33]\n",
      "2025/01/09 12:58:13 INFO dspy.teleprompt.mipro_optimizer_v2: Best score so far: 91.67\n",
      "2025/01/09 12:58:13 INFO dspy.teleprompt.mipro_optimizer_v2: =======================\n",
      "\n",
      "\n",
      "2025/01/09 12:58:13 INFO dspy.teleprompt.mipro_optimizer_v2: ===== Trial 3 / 7 =====\n"
     ]
    },
    {
     "name": "stdout",
     "output_type": "stream",
     "text": [
      "\n",
      "  0%|                                                                                                                                                                                     | 0/24 [00:00<?, ?it/s]\u001b[34minspect reasoning >>>  All cells, whether they belong to a unicellular organism or a complex multicellular organism, require energy to maintain their internal environment, perform functions, and survive. Energy is needed for various cellular processes such as growth, repair, movement, and reproduction. Energy is obtained from the breakdown of nutrients, which can be in the form of organic molecules or sunlight. False\n",
      "\u001b[36mstripped strange characters in pred if any : They need energy.\n",
      "\u001b[30mgold answer:  They need energy. \n",
      "True\n",
      "Average Metric: 1.00 / 1 (100.0%):   4%|█████▊                                                                                                                                    | 1/24 [00:02<00:49,  2.17s/it]\u001b[34minspect reasoning >>>  The mixture of iron filings and black pepper can be separated based on the properties of the materials. Iron is a magnetic material, while black pepper is not. Therefore, a magnet can attract the iron filings and separate them from the black pepper. Filter paper is used to separate solid particles from a liquid, which is not the case here. A triple-beam balance is used to measure the mass of an object, not separate materials. A voltmeter is used to measure electrical potential difference, not separate materials. False\n",
      "\u001b[36mstripped strange characters in pred if any : magnet\n",
      "\u001b[30mgold answer:  magnet \n",
      "True\n",
      "Average Metric: 2.00 / 2 (100.0%):   8%|███████████▌                                                                                                                              | 2/24 [00:02<00:23,  1.07s/it]\u001b[34minspect reasoning >>>  Calcium carbonate (CaCO3) is an alkaline earth metal carbonate and a weak base. When it is introduced into the stomach, which contains hydrochloric acid (HCl), a strong acid, the two react through an acid-base neutralization reaction. This reaction produces water (H2O), carbon dioxide (CO2), and calcium chloride (CaCl2), thereby lowering the acidity in the stomach and providing relief. False\n",
      "\u001b[36mstripped strange characters in pred if any : neutralizes digestive acid\n",
      "\u001b[30mgold answer:  neutralizes digestive acid. \n",
      "False\n",
      "Average Metric: 2.00 / 3 (66.7%):   8%|███████████▌                                                                                                                               | 2/24 [00:02<00:23,  1.07s/it]\u001b[34minspect reasoning >>>  Rocks are not classified according to their color or shape, as these factors can be influenced by various factors such as weathering, erosion, and mineral composition. Rocks are classified based on their origin and formation process. Igneous rocks formed from the cooling and solidification of magma or lava, metamorphic rocks formed from the transformation of existing rocks due to heat and pressure, and sedimentary rocks formed from the accumulation and cementation of sediments. Therefore, the classification of rocks is based on how they formed. False\n",
      "\u001b[36mstripped strange characters in pred if any : how they formed\n",
      "\u001b[30mgold answer:  how they formed \n",
      "True\n",
      "Average Metric: 3.00 / 4 (75.0%):  17%|███████████████████████▏                                                                                                                   | 4/24 [00:02<00:08,  2.24it/s]\u001b[34minspect reasoning >>>  The formation of dark, fertile soil that is good for farming is often a result of organic matter breaking down and mixing with the soil. Plant decomposition is a process by which organic matter (dead plants and animals) is broken down into nutrient-rich substances that can be used by plants. This process is crucial for soil fertility and is likely the most important factor in the formation of dark, fertile soil. Radioactive decay, water erosion, and wind erosion do not directly contribute to the formation of fertile soil, although they can indirectly affect soil properties. False\n",
      "\u001b[36mstripped strange characters in pred if any : plant decomposition\n",
      "\u001b[30mgold answer:  plant decomposition \n",
      "True\n",
      "Average Metric: 4.00 / 5 (80.0%):  17%|███████████████████████▏                                                                                                                   | 4/24 [00:02<00:08,  2.24it/s]\u001b[34minspect reasoning >>>  Plate boundaries can be either convergent, divergent, or transform, depending on the movement of the tectonic plates. At a convergent boundary, plates move towards each other and can result in the formation of mountains or volcanic activity. In contrast, at a transform boundary, plates slide past each other, which can cause earthquakes. At a subduction boundary, one plate is forced beneath another, often leading to the creation of volcanoes. However, new crust is formed at a divergent boundary, where plates move away from each other, and magma rises from the mantle to fill the gap, creating new oceanic crust. False\n",
      "\u001b[36mstripped strange characters in pred if any : divergent\n",
      "\u001b[30mgold answer:  divergent\n",
      "True\n",
      "Average Metric: 5.00 / 6 (83.3%):  25%|██████████████████████████████████▊                                                                                                        | 6/24 [00:03<00:06,  2.88it/s]\u001b[34minspect reasoning >>>  A fever is often the body's response to a foreign pathogen such as a virus or bacteria. When bacteria are present in the bloodstream, the immune system raises the body temperature as a defense mechanism to kill off the invading organisms. This happens because many bacteria cannot survive in the elevated temperatures that a fever brings. False\n",
      "\u001b[36mstripped strange characters in pred if any : bacterial population in the bloodstream\n",
      "\u001b[30mgold answer:  a bacterial population in the bloodstream \n",
      "False\n",
      "Average Metric: 5.00 / 7 (71.4%):  29%|████████████████████████████████████████▌                                                                                                  | 7/24 [00:04<00:08,  1.91it/s]\u001b[34minspect reasoning >>>  Gas-efficient engines reduce the amount of fuel burned, thereby reducing emissions of gases such as carbon monoxide, nitrogen oxides, and hydrocarbons. These are major contributors to air pollution, so by reducing fuel consumption, gas-efficient engines help decrease air pollution levels. False\n",
      "\u001b[36mstripped strange characters in pred if any : air pollution\n",
      "\u001b[30mgold answer:  air pollution. \n",
      "False\n",
      "Average Metric: 5.00 / 8 (62.5%):  33%|██████████████████████████████████████████████▎                                                                                            | 8/24 [00:04<00:06,  2.38it/s]\u001b[34minspect reasoning >>>  Unicellular organisms are organisms that consist of a single cell. Every cell in a unicellular organism performs all the life functions necessary for its survival, such as respiration, excretion, growth, reproduction, and sensitivity. This is different from multicellular organisms, where cells are specialized and perform specific functions. False\n",
      "\u001b[36mstripped strange characters in pred if any : Every cell performs all life functions.\n",
      "\u001b[30mgold answer:  Every cell performs all life functions.\n",
      "True\n",
      "Average Metric: 6.00 / 9 (66.7%):  38%|████████████████████████████████████████████████████▏                                                                                      | 9/24 [00:04<00:06,  2.47it/s]\u001b[34minspect reasoning >>>  The question states that red flowers are dominant to white flowers. Therefore, for a plant to have white flowers, it must be homozygous recessive, meaning it carries the recessive gene for white flowers from both parents. Crossing two white-flowered plants (both homozygous recessive) will result in offspring that are also homozygous recessive, thus producing plants with white flowers. False\n",
      "\u001b[36mstripped strange characters in pred if any : both white\n",
      "\u001b[30mgold answer:  both white \n",
      "True\n",
      "Average Metric: 7.00 / 10 (70.0%):  42%|█████████████████████████████████████████████████████████                                                                                | 10/24 [00:04<00:04,  2.83it/s]\u001b[34minspect reasoning >>>  The process of changing igneous rock into metamorphic rock is known as metamorphism. Metamorphism occurs due to changes in temperature, pressure, or the chemical environment of the rock. In this case, since the question does not specify any chemical or environmental changes, we can infer that the energy causing this change is either heat or pressure. However, heat is a more common cause of metamorphism, as it causes minerals in the rock to recrystallize and change their structure. False\n",
      "\u001b[36mstripped strange characters in pred if any : heat\n",
      "\u001b[30mgold answer:  heat \n",
      "True\n",
      "Average Metric: 8.00 / 11 (72.7%):  46%|██████████████████████████████████████████████████████████████▊                                                                          | 11/24 [00:04<00:03,  3.51it/s]\u001b[34minspect reasoning >>>  The question asks about preventing infections in small cuts and scrapes.\n",
      "\n",
      "A cold ice pack might help to reduce swelling and numb the pain, but it does not have an antimicrobial effect.\n",
      "\n",
      "Raising the injured area can help to reduce swelling and pain, but it does not have an antimicrobial effect.\n",
      "\n",
      "Applying pressure to stop bleeding can help to prevent excessive blood loss and speed up the healing process, but it does not have an antimicrobial effect.\n",
      "\n",
      "Washing the area with warm, soapy water helps to remove dirt, bacteria, and other contaminants that can cause infection. False\n",
      "\u001b[36mstripped strange characters in pred if any : wash the area with warm, soapy water\n",
      "\u001b[30mgold answer:  wash the area with warm, soapy water\n",
      "True\n",
      "Average Metric: 9.00 / 12 (75.0%):  50%|████████████████████████████████████████████████████████████████████▌                                                                    | 12/24 [00:06<00:06,  1.87it/s]\u001b[34minspect reasoning >>>  The color of the beetles is likely related to their environment, and the dark green beetles would have a better chance of blending in with the remaining foliage during drought conditions. This would give them an advantage in avoiding predators compared to the light brown beetles. Therefore, the beetle population would most likely have more dark green beetles after several generations. False\n",
      "\u001b[36mstripped strange characters in pred if any : Mostly dark green beetles.\n",
      "\u001b[30mgold answer:  It would be mostly light brown beetles. \n",
      "False\n",
      "Average Metric: 9.00 / 13 (69.2%):  54%|██████████████████████████████████████████████████████████████████████████▏                                                              | 13/24 [00:06<00:06,  1.76it/s]\u001b[34minspect reasoning >>>  The process of meiosis involves several steps that contribute to the variation within a species. However, the segregation of alleles during the process of meiosis I is the event that contributes most to the variation within a species. This is because alleles are different forms of a gene that determine specific traits. During segregation, the alleles from each parent separate and go into different gametes, which can then combine with other gametes in fertilization to create new genetic combinations. This independent assortment of alleles increases the potential for variation in the offspring, contributing to the genetic diversity within a species. False\n",
      "\u001b[36mstripped strange characters in pred if any : segregation of alleles\n",
      "\u001b[30mgold answer:  segregation of alleles \n",
      "True\n",
      "Average Metric: 10.00 / 14 (71.4%):  58%|███████████████████████████████████████████████████████████████████████████████▎                                                        | 14/24 [00:06<00:04,  2.21it/s]\u001b[34minspect reasoning >>>  The process of transferring heat from the campfire to the student is most likely due to radiation. This is because heat from the fire is emitted in the form of infrared radiation, which travels through the air and is absorbed by the student's body, causing them to feel warmer. Conduction and convection require a medium for heat transfer, while transformation is not a recognized heat transfer process. False\n",
      "\u001b[36mstripped strange characters in pred if any : radiation\n",
      "\u001b[30mgold answer:  radiation \n",
      "True\n",
      "Average Metric: 11.00 / 15 (73.3%):  58%|███████████████████████████████████████████████████████████████████████████████▎                                                        | 14/24 [00:06<00:04,  2.21it/s]\u001b[34minspect reasoning >>>  Decomposers break down dead organic matter, releasing nutrients into the soil. Among these nutrients, nitrogen is one of the most important for plant growth. Nitrogen is a major component of proteins, chlorophyll (which plants use to produce food through photosynthesis), and nucleic acids (DNA and RNA). Decomposers help recycle nitrogen by breaking down proteins into ammonia, which is then converted into nitrites and nitrates by other soil microorganisms. These nitrogen-containing compounds are essential for plant growth and development. False\n",
      "\u001b[36mstripped strange characters in pred if any : by adding nitrogen\n",
      "\u001b[30mgold answer:  by adding nitrogen \n",
      "True\n",
      "Average Metric: 12.00 / 16 (75.0%):  67%|██████████████████████████████████████████████████████████████████████████████████████████▋                                             | 16/24 [00:07<00:02,  3.71it/s]\u001b[34minspect reasoning >>>  An assistive device is any device that helps a person with disabilities, impairments, or aging-related conditions to perform tasks, improve function, and enhance safety and independence. While a raincoat can protect from rain and a coffee pot can serve a hot beverage, they are not designed to aid people with disabilities. A motorcycle is a vehicle and not an assistive device. A contact lens, however, is worn by individuals who have vision impairments and need corrective eyewear to see clearly. Therefore, a contact lens is an example of an assistive device. False\n",
      "\u001b[36mstripped strange characters in pred if any : contact lens\n",
      "\u001b[30mgold answer:  contact lens \n",
      "True\n",
      "Average Metric: 13.00 / 17 (76.5%):  71%|████████████████████████████████████████████████████████████████████████████████████████████████▎                                       | 17/24 [00:07<00:02,  3.05it/s]\u001b[34minspect reasoning >>>  Galaxies are immense structures, so their size cannot limit our understanding of them. They do produce light, which allows us to study them, and they do not have magnetic cores like planets. However, their great distance from Earth makes it difficult for us to observe and gather data about them. False\n",
      "\u001b[36mstripped strange characters in pred if any : their great distance from Earth\n",
      "\u001b[30mgold answer:  their great distance from Earth\n",
      "True\n",
      "Average Metric: 14.00 / 18 (77.8%):  75%|██████████████████████████████████████████████████████████████████████████████████████████████████████                                  | 18/24 [00:07<00:02,  2.88it/s]\u001b[34minspect reasoning >>>  When oxygen combines with hydrogen, the resulting compound is water (H2O). This is because hydrogen and oxygen atoms bond in a 2:1 ratio to form a molecule of water. The other options listed, vinegar, hydrochloric acid, and hydrogen dioxide, are not formed from the combination of oxygen and hydrogen alone. False\n",
      "\u001b[36mstripped strange characters in pred if any : water\n",
      "\u001b[30mgold answer:  water \n",
      "True\n",
      "Average Metric: 15.00 / 19 (78.9%):  79%|███████████████████████████████████████████████████████████████████████████████████████████████████████████▋                            | 19/24 [00:08<00:02,  2.10it/s]\u001b[34minspect reasoning >>>  The process of boiling changes water from a liquid state to a gaseous state, while melting changes solid water (ice) to a liquid state. Evaporation is the transformation of liquid water into water vapor. However, freezing is the process of changing water from a liquid state to a solid state, which involves the water particles becoming arranged in a fixed position. False\n",
      "\u001b[36mstripped strange characters in pred if any : freezing\n",
      "\u001b[30mgold answer:  freezing \n",
      "True\n",
      "Average Metric: 16.00 / 20 (80.0%):  83%|█████████████████████████████████████████████████████████████████████████████████████████████████████████████████▎                      | 20/24 [00:08<00:01,  2.50it/s]\u001b[34minspect reasoning >>>  The skeletal system is responsible for providing structure and support, while also facilitating movement. The nervous system transmits signals between different parts of the body. The muscular system allows the body to move and maintain posture. The excretory system removes waste from the body and is responsible for maintaining homeostasis. Since the question asks for the body system most responsible for the removal of waste, the excretory system is the correct answer. False\n",
      "\u001b[36mstripped strange characters in pred if any : excretory system\n",
      "\u001b[30mgold answer:  excretory system\n",
      "True\n",
      "Average Metric: 17.00 / 21 (81.0%):  88%|███████████████████████████████████████████████████████████████████████████████████████████████████████████████████████                 | 21/24 [00:09<00:01,  2.85it/s]\u001b[34minspect reasoning >>>  In a transverse wave, the particles of the medium oscillate back and forth, but they do not travel along with the wave. The particles move perpendicular to the direction of wave propagation. Since the wave is moving from right to left, and the particles move perpendicular to the wave, the particles will move back and forth in a direction perpendicular to the right-to-left wave motion. False\n",
      "\u001b[36mstripped strange characters in pred if any : Particles move back and forth perpendicular to the wave.\n",
      "\u001b[30mgold answer:  Particles move back and forth perpendicular to the wave.\n",
      "True\n",
      "Average Metric: 18.00 / 22 (81.8%):  88%|███████████████████████████████████████████████████████████████████████████████████████████████████████████████████████                 | 21/24 [00:09<00:01,  2.85it/s]\u001b[34minspect reasoning >>>  The chemical symbol for magnesium is determined by its position on the periodic table and is a standard notation used by scientists worldwide. Magnesium is the eighth element on the periodic table and is represented by the symbol \"Mg.\" False\n",
      "\u001b[36mstripped strange characters in pred if any : Mg\n",
      "\u001b[30mgold answer:  Mg \n",
      "True\n",
      "Average Metric: 19.00 / 23 (82.6%):  96%|██████████████████████████████████████████████████████████████████████████████████████████████████████████████████████████████████▎     | 23/24 [00:09<00:00,  4.56it/s]\u001b[34minspect reasoning >>>  White fur color can provide animals with camouflage in certain environments. In a desert, the colors are often sandy or rocky, so white fur would not blend in well. Grasslands are typically green, so white fur would stand out as well. Temperate forests can have a variety of colors, but are often dominated by green and brown hues, making white fur a poor choice for camouflage. In the arctic tundra, however, the environment is typically covered in snow and ice, making white fur an excellent choice for blending in with the surroundings. This can help animals avoid predators or sneak up on prey. False\n",
      "\u001b[36mstripped strange characters in pred if any : arctic tundra\n",
      "\u001b[30mgold answer:  arctic tundra \n",
      "True\n",
      "Average Metric: 20.00 / 24 (83.3%): 100%|████████████████████████████████████████████████████████████████████████████████████████████████████████████████████████████████████████| 24/24 [00:09<00:00,  2.40it/s]"
     ]
    },
    {
     "name": "stderr",
     "output_type": "stream",
     "text": [
      "2025/01/09 12:58:23 INFO dspy.evaluate.evaluate: Average Metric: 20 / 24 (83.3%)\n",
      "2025/01/09 12:58:23 INFO dspy.teleprompt.mipro_optimizer_v2: Score: 83.33 with parameters ['Predictor 0: Instruction 4', 'Predictor 0: Few-Shot Set 1'].\n",
      "2025/01/09 12:58:23 INFO dspy.teleprompt.mipro_optimizer_v2: Scores so far: [87.5, 91.67, 83.33, 83.33]\n",
      "2025/01/09 12:58:23 INFO dspy.teleprompt.mipro_optimizer_v2: Best score so far: 91.67\n",
      "2025/01/09 12:58:23 INFO dspy.teleprompt.mipro_optimizer_v2: =======================\n",
      "\n",
      "\n",
      "2025/01/09 12:58:23 INFO dspy.teleprompt.mipro_optimizer_v2: ===== Trial 4 / 7 =====\n"
     ]
    },
    {
     "name": "stdout",
     "output_type": "stream",
     "text": [
      "\n",
      "\u001b[34minspect reasoning >>>  Plant decomposition releases nutrients into the soil, making it more fertile. Radioactive decay does not have a significant impact on soil formation. Water erosion and wind erosion can shape the soil but do not contribute to its fertility as much as plant decomposition. False\n",
      "\u001b[36mstripped strange characters in pred if any : plant decomposition\n",
      "\u001b[30mgold answer:  plant decomposition \n",
      "True\n",
      "\u001b[34minspect reasoning >>>  Rocks are classified according to the processes that formed them. The three categories are: igneous (formed by the cooling and solidification of magma or lava), sedimentary (formed by the accumulation and lithification of sediments, or the precipitation of minerals from solution), and metamorphic (formed by the alteration of existing rocks under high temperature and/or pressure). False\n",
      "\u001b[36mstripped strange characters in pred if any : how they formed\n",
      "\u001b[30mgold answer:  how they formed \n",
      "True\n",
      "\u001b[34minspect reasoning >>>  At a divergent plate boundary, tectonic plates move apart from each other. This allows magma to rise from the mantle to the surface, where it cools and forms new crust. This process is also known as seafloor spreading when it occurs underwater. False\n",
      "\u001b[36mstripped strange characters in pred if any : divergent\n",
      "\u001b[30mgold answer:  divergent\n",
      "True\n",
      "\u001b[34minspect reasoning >>>  Calcium carbonate can neutralize stomach acid because it has a higher pH than stomach acid and can neutralize the acidity that causes discomfort. False\n",
      "\u001b[36mstripped strange characters in pred if any : neutralizes digestive acid\n",
      "\u001b[30mgold answer:  neutralizes digestive acid. \n",
      "False\n",
      "\u001b[34minspect reasoning >>>  A magnet can separate iron filings from a mixture of iron filings and black pepper, as iron is attracted to magnets. The other options are not suitable for this type of separation, as filter paper is used for separating solids from liquids in a suspension, a triple-beam balance is used for measuring mass, and a voltmeter is used for measuring electrical potential difference. False\n",
      "\u001b[36mstripped strange characters in pred if any : magnet\n",
      "\u001b[30mgold answer:  magnet \n",
      "True\n",
      "\u001b[34minspect reasoning >>>  All cells, whether prokaryotic or eukaryotic, need energy to carry out their cellular processes. This energy is used for various functions such as cell division, protein synthesis, and active transport. False\n",
      "\u001b[36mstripped strange characters in pred if any : They need energy.\n",
      "\u001b[30mgold answer:  They need energy. \n",
      "True\n",
      "\u001b[34minspect reasoning >>>  A fever is the body's response to an infection or other illnesses. An infection caused by a bacterial population in the bloodstream is most likely to cause a person to develop a fever. False\n",
      "\u001b[36mstripped strange characters in pred if any : bacterial population in the bloodstream\n",
      "\u001b[30mgold answer:  a bacterial population in the bloodstream \n",
      "False\n",
      "\u001b[34minspect reasoning >>>  The process of changing igneous rock into metamorphic rock requires heat energy, which can cause changes in the rock's internal structure and mineral composition. False\n",
      "\u001b[36mstripped strange characters in pred if any : heat\n",
      "\u001b[30mgold answer:  heat \n",
      "True\n",
      "\u001b[34minspect reasoning >>>  Gas-efficient engines emit less pollutants as they use less fuel. Hence, they contribute to less air pollution. False\n",
      "\u001b[36mstripped strange characters in pred if any : air pollution\n",
      "\u001b[30mgold answer:  air pollution. \n",
      "False\n",
      "\u001b[34minspect reasoning >>>  The pink flowers result from cross-pollination between red and white flowers. To get only white flowers, both parent plants must be white to avoid the dominant red allele. False\n",
      "\u001b[36mstripped strange characters in pred if any : both white\n",
      "\u001b[30mgold answer:  both white \n",
      "True\n",
      "\u001b[34minspect reasoning >>>  Unicellular organisms are made up of only one single cell, and unlike multicellular organisms, each cell must be capable of performing all life functions independently. False\n",
      "\u001b[36mstripped strange characters in pred if any : Every cell performs all life functions\n",
      "\u001b[30mgold answer:  Every cell performs all life functions.\n",
      "False\n",
      "\u001b[34minspect reasoning >>>  Washing the area with warm, soapy water helps to physically remove germs from the wound, thus preventing infection. False\n",
      "\u001b[36mstripped strange characters in pred if any : wash the area with warm, soapy water\n",
      "\u001b[30mgold answer:  wash the area with warm, soapy water\n",
      "True\n",
      "\u001b[34minspect reasoning >>>  The segregation of alleles during meiosis is the main contributor to genetic variation within a species. This occurs during meiosis I when homologous chromosomes separate and divide, resulting in daughter cells with different combinations of alleles. This mechanism allows for the creation of genetically unique gametes, which in turn leads to genetic variation in the offspring. False\n",
      "\u001b[36mstripped strange characters in pred if any : segregation of alleles\n",
      "\u001b[30mgold answer:  segregation of alleles \n",
      "True\n",
      "\u001b[34minspect reasoning >>>  Decomposers make soil more fertile by breaking down organic matter into simpler nutrients, including nitrogen, phosphorus, and carbon. These nutrients are essential for plant growth and are released back into the soil as decomposers process dead organisms. The option mentioning nitrogen is the most relevant as it is a crucial nutrient for plant growth. False\n",
      "\u001b[36mstripped strange characters in pred if any : by adding nitrogen\n",
      "\u001b[30mgold answer:  by adding nitrogen \n",
      "True\n",
      "\u001b[34minspect reasoning >>>  The beetle population is most likely to be dominated by the light brown beetles after several generations, as they would have a survival advantage in the dry, sunny environment due to their lighter color. This is an example of natural selection, where changes in the environment favor certain traits and lead to their increased prevalence in the population. False\n",
      "\u001b[36mstripped strange characters in pred if any : It would be mostly light brown beetles.\n",
      "\u001b[30mgold answer:  It would be mostly light brown beetles. \n",
      "True\n",
      "\u001b[34minspect reasoning >>>  An assistive device is any device that helps a person with mobility, hearing, communication, or other function. A contact lens is an example of an assistive device because it helps people who have vision problems see more clearly. False\n",
      "\u001b[36mstripped strange characters in pred if any : contact lens\n",
      "\u001b[30mgold answer:  contact lens \n",
      "True\n",
      "\u001b[34minspect reasoning >>>  The process that transfers heat from the campfire to the student is radiation. This is because heat energy from the fire is transferred through empty space via infrared waves, which are then absorbed by the student's body, causing the sensation of warmth. False\n",
      "\u001b[36mstripped strange characters in pred if any : radiation\n",
      "\u001b[30mgold answer:  radiation \n",
      "True\n",
      "\u001b[34minspect reasoning >>>  Galaxies are typically very large, so their size doesn't limit our knowledge. They also produce light, which allows us to observe them. The magnetic cores of galaxies aren't a factor in our limited knowledge. The great distance from Earth, however, makes it challenging to observe and study galaxies in detail, thus limiting our knowledge. False\n",
      "\u001b[36mstripped strange characters in pred if any : their great distance from Earth\n",
      "\u001b[30mgold answer:  their great distance from Earth\n",
      "True\n",
      "\u001b[34minspect reasoning >>>  When oxygen combines with hydrogen, the resulting compound is water (H2O). This is a fundamental chemical reaction where two hydrogen atoms bond with one oxygen atom to form a stable molecule. False\n",
      "\u001b[36mstripped strange characters in pred if any : water\n",
      "\u001b[30mgold answer:  water \n",
      "True\n",
      "\u001b[34minspect reasoning >>>  The change in state that causes water particles to become arranged in a fixed position is when water freezes and turns into ice. This is due to the formation of hydrogen bonds between water molecules, which hold them in a stable, solid state. False\n",
      "\u001b[36mstripped strange characters in pred if any : freezing\n",
      "\u001b[30mgold answer:  freezing \n",
      "True\n",
      "\u001b[34minspect reasoning >>>  In a transverse wave, the particles of the medium move up and down or side to side, not in the direction of the wave itself. This means that the particles move perpendicular to the direction of the wave. False\n",
      "\u001b[36mstripped strange characters in pred if any : Particles move back and forth perpendicular to the wave.\n",
      "\u001b[30mgold answer:  Particles move back and forth perpendicular to the wave.\n",
      "True\n",
      "\u001b[34minspect reasoning >>>  The excretory system, which includes the kidneys, urinary tract, skin, and lungs, is primarily responsible for the removal of waste from the body. Waste products, including metabolic waste and toxins, are filtered out of the blood by the kidneys and then excreted from the body as urine. The skin and lungs also play a role in waste removal by eliminating waste through perspiration and exhalation, respectively. False\n",
      "\u001b[36mstripped strange characters in pred if any : excretory system\n",
      "\u001b[30mgold answer:  excretory system\n",
      "True\n",
      "\u001b[34minspect reasoning >>>  White fur color acts as a camouflage in snowy environments. It blends in with the surroundings, making it difficult for predators to spot the animal. This is particularly important for animals living in the arctic tundra, where snow cover is present for most of the year. False\n",
      "\u001b[36mstripped strange characters in pred if any : arctic tundra\n",
      "\u001b[30mgold answer:  arctic tundra \n",
      "True\n",
      "\u001b[34minspect reasoning >>>  The chemical symbol for magnesium is \"Mg\", not \"Ma\", \"Mn\", or \"Mu\". False\n",
      "\u001b[36mstripped strange characters in pred if any : Mg\n",
      "\u001b[30mgold answer:  Mg \n",
      "True\n",
      "Average Metric: 20.00 / 24 (83.3%): 100%|██████████████████████████████████████████████████████████████████████████████████████████████████████████████████████████████████████| 24/24 [00:00<00:00, 1625.33it/s]"
     ]
    },
    {
     "name": "stderr",
     "output_type": "stream",
     "text": [
      "2025/01/09 12:58:23 INFO dspy.evaluate.evaluate: Average Metric: 20 / 24 (83.3%)\n",
      "2025/01/09 12:58:23 INFO dspy.teleprompt.mipro_optimizer_v2: Score: 83.33 with parameters ['Predictor 0: Instruction 2', 'Predictor 0: Few-Shot Set 1'].\n",
      "2025/01/09 12:58:23 INFO dspy.teleprompt.mipro_optimizer_v2: Scores so far: [87.5, 91.67, 83.33, 83.33, 83.33]\n",
      "2025/01/09 12:58:23 INFO dspy.teleprompt.mipro_optimizer_v2: Best score so far: 91.67\n",
      "2025/01/09 12:58:23 INFO dspy.teleprompt.mipro_optimizer_v2: =======================\n",
      "\n",
      "\n",
      "2025/01/09 12:58:23 INFO dspy.teleprompt.mipro_optimizer_v2: ===== Trial 5 / 7 =====\n"
     ]
    },
    {
     "name": "stdout",
     "output_type": "stream",
     "text": [
      "\n",
      "  0%|                                                                                                                                                                                     | 0/24 [00:00<?, ?it/s]\u001b[34minspect reasoning >>>  At a divergent plate boundary, tectonic plates move apart from each other, allowing magma to rise up from the mantle and cool to form new crust. This process of crust formation is known as seafloor spreading and occurs primarily in the oceanic crust. False\n",
      "\u001b[36mstripped strange characters in pred if any : divergent\n",
      "\u001b[30mgold answer:  divergent\n",
      "True\n",
      "Average Metric: 1.00 / 1 (100.0%):   4%|█████▊                                                                                                                                    | 1/24 [00:02<00:47,  2.07s/it]\u001b[34minspect reasoning >>>  The mixture of iron filings and black pepper can be separated based on the physical and chemical properties of each component. Iron filings are magnetic and can be attracted to a magnet, while black pepper is not magnetic. Therefore, a magnet can be used to separate the iron filings from the mixture. False\n",
      "\u001b[36mstripped strange characters in pred if any : magnet\n",
      "\u001b[30mgold answer:  magnet \n",
      "True\n",
      "Average Metric: 2.00 / 2 (100.0%):   4%|█████▊                                                                                                                                    | 1/24 [00:02<00:47,  2.07s/it]\u001b[34minspect reasoning >>>  Calcium carbonate tablets are used to treat stomach discomfort because they help neutralize digestive acid. When the tablet comes into contact with the acid in the stomach, it forms carbon dioxide and water, which can help reduce the symptoms of acid reflux and heartburn. False\n",
      "\u001b[36mstripped strange characters in pred if any : neutralizes digestive acid\n",
      "\u001b[30mgold answer:  neutralizes digestive acid. \n",
      "False\n",
      "Average Metric: 2.00 / 3 (66.7%):   8%|███████████▌                                                                                                                               | 2/24 [00:02<00:45,  2.07s/it]\u001b[34minspect reasoning >>>  Rocks are classified into three main types based on their mode of formation. Igneous rocks form from the cooling and solidification of magma or lava, metamorphic rocks form from the transformation of existing rocks under extreme heat and pressure, and sedimentary rocks form from the accumulation and cementation of mineral particles or organic remains. False\n",
      "\u001b[36mstripped strange characters in pred if any : how they formed\n",
      "\u001b[30mgold answer:  how they formed \n",
      "True\n",
      "Average Metric: 3.00 / 4 (75.0%):  17%|███████████████████████▏                                                                                                                   | 4/24 [00:02<00:08,  2.30it/s]\u001b[34minspect reasoning >>>  All cells, whether they are prokaryotic or eukaryotic, unicellular or multicellular, require energy to carry out their functions. This energy is needed for various cellular processes such as growth, maintenance, and reproduction. The source of this energy varies depending on the type of cell, with some cells obtaining energy through photosynthesis, while others rely on the breakdown of organic compounds. However, regardless of the source, all cells require energy to survive and function. False\n",
      "\u001b[36mstripped strange characters in pred if any : They need energy.\n",
      "\u001b[30mgold answer:  They need energy. \n",
      "True\n",
      "Average Metric: 4.00 / 5 (80.0%):  17%|███████████████████████▏                                                                                                                   | 4/24 [00:02<00:08,  2.30it/s]\u001b[34minspect reasoning >>>  Dark, fertile soil, also known as topsoil, is primarily formed from the decomposition of plant and animal matter. This process involves the breakdown of organic material into nutrient-rich humus, which improves soil structure, increases water retention, and provides essential nutrients for plant growth. While water and wind erosion can contribute to soil formation by breaking down rocks and minerals, they do not provide the same level of organic matter and nutrients as plant decomposition. Radioactive decay, on the other hand, does not directly contribute to soil formation. False\n",
      "\u001b[36mstripped strange characters in pred if any : plant decomposition\n",
      "\u001b[30mgold answer:  plant decomposition \n",
      "True\n",
      "Average Metric: 5.00 / 6 (83.3%):  25%|██████████████████████████████████▊                                                                                                        | 6/24 [00:03<00:07,  2.34it/s]\u001b[34minspect reasoning >>>  Gas-efficient engines consume less fuel to produce the same amount of energy as a less efficient engine. This results in fewer emissions of carbon dioxide, nitrogen oxides, and other pollutants that contribute to air pollution. False\n",
      "\u001b[36mstripped strange characters in pred if any : air pollution\n",
      "\u001b[30mgold answer:  air pollution. \n",
      "False\n",
      "Average Metric: 5.00 / 7 (71.4%):  29%|████████████████████████████████████████▌                                                                                                  | 7/24 [00:03<00:09,  1.87it/s]\u001b[34minspect reasoning >>>  A fever is typically caused by an immune response to an infection or illness, which raises the body's temperature as a defense mechanism. Among the given options, the most likely cause of a fever is the presence of a bacterial population in the bloodstream. This is because bacteria can multiply rapidly and cause an infection, which would trigger the immune system to respond and raise the body's temperature. False\n",
      "\u001b[36mstripped strange characters in pred if any : a bacterial population in the bloodstream\n",
      "\u001b[30mgold answer:  a bacterial population in the bloodstream \n",
      "True\n",
      "Average Metric: 6.00 / 8 (75.0%):  33%|██████████████████████████████████████████████▎                                                                                            | 8/24 [00:04<00:08,  1.79it/s]\u001b[34minspect reasoning >>>  The process of changing igneous rock into metamorphic rock involves the application of heat and/or pressure, which causes the mineral grains in the rock to recrystallize and change its physical and chemical properties. This process is known as metamorphism. Heat energy is the primary form of energy involved in this process, as it is responsible for driving the recrystallization of the minerals in the rock. False\n",
      "\u001b[36mstripped strange characters in pred if any : heat\n",
      "\u001b[30mgold answer:  heat \n",
      "True\n",
      "Average Metric: 7.00 / 9 (77.8%):  33%|██████████████████████████████████████████████▎                                                                                            | 8/24 [00:04<00:08,  1.79it/s]\u001b[34minspect reasoning >>>  Unicellular organisms are organisms that consist of a single cell. By definition, this single cell performs all life functions, such as metabolism, reproduction, and responding to stimuli. This is in contrast to multicellular organisms, where different cells specialize in different functions. False\n",
      "\u001b[36mstripped strange characters in pred if any : Every cell performs all life functions.\n",
      "\u001b[30mgold answer:  Every cell performs all life functions.\n",
      "True\n",
      "Average Metric: 8.00 / 10 (80.0%):  42%|█████████████████████████████████████████████████████████                                                                                | 10/24 [00:04<00:05,  2.54it/s]\u001b[34minspect reasoning >>>  The color of flowers in plants is determined by the alleles they inherit from their parent plants. In this case, red flowers are dominant over white flowers, meaning that if a plant has even one red allele, it will have red flowers. However, since pink flowers are produced when red and white flowers are crossed, it indicates that the red allele is incompletely dominant over the white allele. This means that if a plant has both a red and a white allele, it will produce pink flowers. Therefore, to produce plants with only white flowers, both parent plants must have only white alleles. False\n",
      "\u001b[36mstripped strange characters in pred if any : both white\n",
      "\u001b[30mgold answer:  both white \n",
      "True\n",
      "Average Metric: 9.00 / 11 (81.8%):  46%|██████████████████████████████████████████████████████████████▊                                                                          | 11/24 [00:05<00:05,  2.58it/s]\u001b[34minspect reasoning >>>  An assistive device is any device that helps a person with a disability, injury, or other health issue to live more independently. Contact lenses are an example of an assistive device that helps people with vision impairments to see more clearly. False\n",
      "\u001b[36mstripped strange characters in pred if any : contact lens\n",
      "\u001b[30mgold answer:  contact lens \n",
      "True\n",
      "Average Metric: 10.00 / 12 (83.3%):  50%|████████████████████████████████████████████████████████████████████                                                                    | 12/24 [00:06<00:07,  1.65it/s]\u001b[34minspect reasoning >>>  Radiation is the process that most likely transfers heat from the campfire to the student. Radiation is the transfer of energy through space by electromagnetic waves, such as light waves and infrared waves. In this case, the heat from the campfire is transferred to the student through infrared radiation. False\n",
      "\u001b[36mstripped strange characters in pred if any : radiation\n",
      "\u001b[30mgold answer:  radiation \n",
      "True\n",
      "Average Metric: 11.00 / 13 (84.6%):  54%|█████████████████████████████████████████████████████████████████████████▋                                                              | 13/24 [00:07<00:06,  1.67it/s]\u001b[34minspect reasoning >>>  Meiosis is a type of cell division that produces gametes (eggs or sperm) for sexual reproduction. During meiosis, the pairing of chromosomes, known as synapsis, allows for the exchange of genetic material through a process called crossing over. This results in the creation of new combinations of alleles, or variations of genes. The segregation of alleles during meiosis I, where one allele from each pair of homologous chromosomes separates and goes into different daughter cells, also contributes to genetic variation. The separation of chromatids during meiosis II does not result in new combinations of alleles. False\n",
      "\u001b[36mstripped strange characters in pred if any : segregation of alleles\n",
      "\u001b[30mgold answer:  segregation of alleles \n",
      "True\n",
      "Average Metric: 12.00 / 14 (85.7%):  54%|█████████████████████████████████████████████████████████████████████████▋                                                              | 13/24 [00:07<00:06,  1.67it/s]\u001b[34minspect reasoning >>>  Decomposers, such as bacteria and fungi, play a critical role in the ecosystem by breaking down dead organisms and organic waste. In doing so, they release nutrients, such as nitrogen, phosphorus, and carbon, that were previously locked up in the dead organisms. These nutrients become available for plants to use, making the soil more fertile. False\n",
      "\u001b[36mstripped strange characters in pred if any : by adding nitrogen\n",
      "\u001b[30mgold answer:  by adding nitrogen \n",
      "True\n",
      "Average Metric: 13.00 / 15 (86.7%):  62%|█████████████████████████████████████████████████████████████████████████████████████                                                   | 15/24 [00:07<00:03,  2.41it/s]\u001b[34minspect reasoning >>>  In a population of beetles living in a forest, some are light brown and others are dark green. These colors are likely adaptations to their environment, with light brown beetles being better camouflaged in dry conditions and dark green beetles being better camouflaged in lush, green conditions. If the area becomes dry with few trees, the light brown beetles would have an advantage because they would be better camouflaged and less likely to be eaten by predators. Over several generations, this advantage would lead to an increase in the number of light brown beetles in the population. False\n",
      "\u001b[36mstripped strange characters in pred if any : It would be mostly light brown beetles.\n",
      "\u001b[30mgold answer:  It would be mostly light brown beetles. \n",
      "True\n",
      "Average Metric: 14.00 / 16 (87.5%):  67%|██████████████████████████████████████████████████████████████████████████████████████████▋                                             | 16/24 [00:07<00:03,  2.52it/s]\u001b[34minspect reasoning >>>  When water particles change from a liquid state to a solid state, they undergo freezing. During freezing, the water particles lose heat and their kinetic energy decreases, allowing them to form stable bonds with each other and become arranged in a fixed position. False\n",
      "\u001b[36mstripped strange characters in pred if any : freezing\n",
      "\u001b[30mgold answer:  freezing \n",
      "True\n",
      "Average Metric: 15.00 / 17 (88.2%):  71%|████████████████████████████████████████████████████████████████████████████████████████████████▎                                       | 17/24 [00:08<00:04,  1.68it/s]\u001b[34minspect reasoning >>>  When oxygen combines with hydrogen, the resulting compound is water (H2O). This is because hydrogen atoms have one electron, while oxygen atoms have six, and they can form a stable molecule by sharing electrons in a covalent bond. In this case, each hydrogen atom shares its electron with one of the oxygen atom's electrons, forming two covalent bonds and resulting in a stable water molecule. False\n",
      "\u001b[36mstripped strange characters in pred if any : water\n",
      "\u001b[30mgold answer:  water \n",
      "True\n",
      "Average Metric: 16.00 / 18 (88.9%):  75%|██████████████████████████████████████████████████████████████████████████████████████████████████████                                  | 18/24 [00:09<00:03,  1.70it/s]\u001b[34minspect reasoning >>>  The excretory system is responsible for the removal of waste products from the body. This system includes organs such as the kidneys, liver, and skin, which work together to remove waste products such as urea, uric acid, and ammonia from the body. False\n",
      "\u001b[36mstripped strange characters in pred if any : excretory system\n",
      "\u001b[30mgold answer:  excretory system\n",
      "True\n",
      "Average Metric: 17.00 / 19 (89.5%):  75%|██████████████████████████████████████████████████████████████████████████████████████████████████████                                  | 18/24 [00:09<00:03,  1.70it/s]\u001b[34minspect reasoning >>>  In a transverse wave, the particles of the medium oscillate back and forth in a direction perpendicular to the direction of wave propagation. This means that if a transverse wave is moving from right to left, the particles of the medium will oscillate up and down or back and forth perpendicular to the wave, not along the wave. False\n",
      "\u001b[36mstripped strange characters in pred if any : Particles move back and forth perpendicular to the wave.\n",
      "\u001b[30mgold answer:  Particles move back and forth perpendicular to the wave.\n",
      "True\n",
      "Average Metric: 18.00 / 20 (90.0%):  79%|███████████████████████████████████████████████████████████████████████████████████████████████████████████▋                            | 19/24 [00:09<00:02,  1.70it/s]\u001b[34minspect reasoning >>>  White fur color is an advantage for survival in environments where camouflage is crucial for avoiding predators or prey. In the arctic tundra, the white fur color allows an animal to blend in with the snow and ice, making it difficult for predators to spot. Additionally, white fur reflects sunlight, which can help keep the animal cool in the summer and warm in the winter. False\n",
      "\u001b[36mstripped strange characters in pred if any : arctic tundra\n",
      "\u001b[30mgold answer:  arctic tundra \n",
      "True\n",
      "Average Metric: 19.00 / 21 (90.5%):  88%|███████████████████████████████████████████████████████████████████████████████████████████████████████████████████████                 | 21/24 [00:10<00:01,  1.95it/s]\u001b[34minspect reasoning >>>  The chemical symbol for magnesium is \"Mg\". In the periodic table of elements, each element is assigned a unique symbol, and magnesium is represented by the symbol \"Mg\". The other options listed are not the correct symbols for magnesium. False\n",
      "\u001b[36mstripped strange characters in pred if any : Mg\n",
      "\u001b[30mgold answer:  Mg \n",
      "True\n",
      "Average Metric: 20.00 / 22 (90.9%):  92%|████████████████████████████████████████████████████████████████████████████████████████████████████████████████████████████▋           | 22/24 [00:10<00:00,  2.32it/s]\u001b[34minspect reasoning >>>  Galaxies are immense collections of stars, gas, dust, and dark matter. They are not tiny in size, nor do they have magnetic cores. They are also able to produce light, as they contain billions of stars. However, what makes our knowledge of galaxies limited is their great distance from Earth. Due to the vast distances involved, it is difficult to observe galaxies in detail, even with the most powerful telescopes. Additionally, the light we receive from galaxies has traveled great distances, so we are seeing them as they were in the distant past. False\n",
      "\u001b[36mstripped strange characters in pred if any : their great distance from Earth\n",
      "\u001b[30mgold answer:  their great distance from Earth\n",
      "True\n",
      "Average Metric: 21.00 / 23 (91.3%):  96%|██████████████████████████████████████████████████████████████████████████████████████████████████████████████████████████████████▎     | 23/24 [00:12<00:00,  1.47it/s]\u001b[34minspect reasoning >>>  Preventing infections from occurring in small cuts and scrapes involves removing any contaminants that may have entered the wound and creating a clean environment for healing. Applying a cold ice pack or raising the injured area will not directly help prevent infections, as they do not address the removal of contaminants. Applying pressure to stop bleeding is important to prevent excessive blood loss, but it does not directly address the prevention of infections. Washing the area with warm, soapy water helps remove any contaminants, such as bacteria, that may have entered the wound and can help prevent infections from occurring. False\n",
      "\u001b[36mstripped strange characters in pred if any : wash the area with warm, soapy water\n",
      "\u001b[30mgold answer:  wash the area with warm, soapy water\n",
      "True\n",
      "Average Metric: 22.00 / 24 (91.7%): 100%|████████████████████████████████████████████████████████████████████████████████████████████████████████████████████████████████████████| 24/24 [00:16<00:00,  1.44it/s]"
     ]
    },
    {
     "name": "stderr",
     "output_type": "stream",
     "text": [
      "2025/01/09 12:58:40 INFO dspy.evaluate.evaluate: Average Metric: 22 / 24 (91.7%)\n",
      "2025/01/09 12:58:40 INFO dspy.teleprompt.mipro_optimizer_v2: Score: 91.67 with parameters ['Predictor 0: Instruction 4', 'Predictor 0: Few-Shot Set 3'].\n",
      "2025/01/09 12:58:40 INFO dspy.teleprompt.mipro_optimizer_v2: Scores so far: [87.5, 91.67, 83.33, 83.33, 83.33, 91.67]\n",
      "2025/01/09 12:58:40 INFO dspy.teleprompt.mipro_optimizer_v2: Best score so far: 91.67\n",
      "2025/01/09 12:58:40 INFO dspy.teleprompt.mipro_optimizer_v2: =======================\n",
      "\n",
      "\n",
      "2025/01/09 12:58:40 INFO dspy.teleprompt.mipro_optimizer_v2: ===== Trial 6 / 7 =====\n"
     ]
    },
    {
     "name": "stdout",
     "output_type": "stream",
     "text": [
      "\n",
      "  0%|                                                                                                                                                                                     | 0/24 [00:00<?, ?it/s]\u001b[34minspect reasoning >>>  Plant decomposition contributes significantly to the formation of dark, fertile soil by enriching it with organic matter and nutrients essential for plant growth. False\n",
      "\u001b[36mstripped strange characters in pred if any : plant decomposition\n",
      "\u001b[30mgold answer:  plant decomposition \n",
      "True\n",
      "Average Metric: 1.00 / 1 (100.0%):   4%|█████▊                                                                                                                                    | 1/24 [00:01<00:27,  1.21s/it]\u001b[34minspect reasoning >>>  Rocks are classified into igneous, metamorphic, and sedimentary based on how they formed. Igneous rocks form from the cooling of magma or lava, metamorphic rocks form from existing rocks that undergo changes due to heat and pressure, and sedimentary rocks form from sediments that are compacted and cemented together. False\n",
      "\u001b[36mstripped strange characters in pred if any : how they formed\n",
      "\u001b[30mgold answer:  how they formed \n",
      "True\n",
      "Average Metric: 2.00 / 2 (100.0%):   8%|███████████▌                                                                                                                              | 2/24 [00:01<00:20,  1.10it/s]\u001b[34minspect reasoning >>>  The divergent plate boundary, also known as a constructive boundary, is where tectonic plates move away from each other. This type of movement allows magma from the mantle to rise and create new crust. False\n",
      "\u001b[36mstripped strange characters in pred if any : divergent\n",
      "\u001b[30mgold answer:  divergent\n",
      "True\n",
      "Average Metric: 3.00 / 3 (100.0%):  12%|█████████████████▎                                                                                                                        | 3/24 [00:02<00:12,  1.64it/s]\u001b[34minspect reasoning >>>  Calcium carbonate tablets are used to neutralize the acid in the stomach, which can provide relief from stomach discomfort. It is not used for its flavor, cost, or because it occurs naturally in the body. False\n",
      "\u001b[36mstripped strange characters in pred if any : neutralizes digestive acid\n",
      "\u001b[30mgold answer:  neutralizes digestive acid. \n",
      "False\n",
      "Average Metric: 3.00 / 4 (75.0%):  12%|█████████████████▍                                                                                                                         | 3/24 [00:02<00:12,  1.64it/s]\u001b[34minspect reasoning >>>  A magnet can attract iron, but not black pepper. Therefore, a magnet can separate the mixture of iron filings and black pepper. Filter paper, triple-beam balance, and voltmeter are not suitable for separating this type of mixture. False\n",
      "\u001b[36mstripped strange characters in pred if any : magnet\n",
      "\u001b[30mgold answer:  magnet \n",
      "True\n",
      "Average Metric: 4.00 / 5 (80.0%):  17%|███████████████████████▏                                                                                                                   | 4/24 [00:02<00:12,  1.64it/s]\u001b[34minspect reasoning >>>  All cells, whether prokaryotic or eukaryotic, need energy to carry out their life processes such as growth, repair, and reproduction. This energy is obtained through metabolic processes involving the breakdown of organic molecules like glucose. False\n",
      "\u001b[36mstripped strange characters in pred if any : They need energy.\n",
      "\u001b[30mgold answer:  They need energy. \n",
      "True\n",
      "Average Metric: 5.00 / 6 (83.3%):  21%|████████████████████████████▉                                                                                                              | 5/24 [00:02<00:11,  1.64it/s]\u001b[34minspect reasoning >>>  A fever is most commonly associated with an infection, which can be caused by bacteria, viruses, or other pathogens. In the given choices, a bacterial population in the bloodstream is the most likely cause of a fever, as it indicates that the body is fighting an infection. False\n",
      "\u001b[36mstripped strange characters in pred if any : a bacterial population in the bloodstream\n",
      "\u001b[30mgold answer:  a bacterial population in the bloodstream \n",
      "True\n",
      "Average Metric: 6.00 / 7 (85.7%):  29%|████████████████████████████████████████▌                                                                                                  | 7/24 [00:03<00:05,  3.11it/s]\u001b[34minspect reasoning >>>  The process of changing igneous rock into metamorphic rock requires heat energy, which causes changes in the mineral composition and texture of the rock. This process, known as metamorphism, typically occurs deep within the Earth's crust under high temperatures and pressures. False\n",
      "\u001b[36mstripped strange characters in pred if any : heat\n",
      "\u001b[30mgold answer:  heat \n",
      "True\n",
      "Average Metric: 7.00 / 8 (87.5%):  33%|██████████████████████████████████████████████▎                                                                                            | 8/24 [00:03<00:06,  2.65it/s]\u001b[34minspect reasoning >>>  The pink flowers indicate that red is dominant over white. To get white flowers, the researcher needs both parent plants to be homozygous recessive, which means they should both have white flowers. False\n",
      "\u001b[36mstripped strange characters in pred if any : both white\n",
      "\u001b[30mgold answer:  both white \n",
      "True\n",
      "Average Metric: 8.00 / 9 (88.9%):  33%|██████████████████████████████████████████████▎                                                                                            | 8/24 [00:03<00:06,  2.65it/s]\u001b[34minspect reasoning >>>  Gas-efficient engines emit less exhaust fumes compared to engines that consume more gas. This means they produce fewer pollutants that can contribute to air pollution. Other types of pollution mentioned in the choices are not directly affected by the gas efficiency of engines. False\n",
      "\u001b[36mstripped strange characters in pred if any : air pollution\n",
      "\u001b[30mgold answer:  air pollution. \n",
      "False\n",
      "Average Metric: 8.00 / 10 (80.0%):  42%|█████████████████████████████████████████████████████████                                                                                | 10/24 [00:03<00:03,  3.65it/s]\u001b[34minspect reasoning >>>  Washing the area with warm, soapy water is a simple and effective way of preventing infections as it removes dirt, bacteria, and other contaminants that may have entered through the cut or scrape. False\n",
      "\u001b[36mstripped strange characters in pred if any : wash the area with warm, soapy water\n",
      "\u001b[30mgold answer:  wash the area with warm, soapy water\n",
      "True\n",
      "Average Metric: 9.00 / 11 (81.8%):  42%|█████████████████████████████████████████████████████████                                                                                | 10/24 [00:03<00:03,  3.65it/s]\u001b[34minspect reasoning >>>  Unicellular organisms are single-celled organisms that are capable of performing all life functions on their own. This means they are able to carry out essential processes such as nutrition, respiration, excretion, and reproduction within a single cell. False\n",
      "\u001b[36mstripped strange characters in pred if any : Every cell performs all life functions.\n",
      "\u001b[30mgold answer:  Every cell performs all life functions.\n",
      "True\n",
      "Average Metric: 10.00 / 12 (83.3%):  46%|██████████████████████████████████████████████████████████████▎                                                                         | 11/24 [00:03<00:03,  3.65it/s]\u001b[34minspect reasoning >>>  The segregation of alleles during meiosis is the key event that contributes most to the variation within a species. This process results in the random distribution of parental alleles, or versions of a gene, into gametes (sperm or eggs). This random assortment increases the genetic diversity of the offspring and contributes to the overall variation within a species. False\n",
      "\u001b[36mstripped strange characters in pred if any : segregation of alleles\n",
      "\u001b[30mgold answer:  segregation of alleles \n",
      "True\n",
      "Average Metric: 11.00 / 13 (84.6%):  54%|█████████████████████████████████████████████████████████████████████████▋                                                              | 13/24 [00:05<00:03,  3.02it/s]\u001b[34minspect reasoning >>>  The process that transfers heat from the campfire to the student is likely radiation because heat from the campfire is transferred through electromagnetic waves, which do not require a medium to transfer heat. False\n",
      "\u001b[36mstripped strange characters in pred if any : radiation\n",
      "\u001b[30mgold answer:  radiation \n",
      "True\n",
      "Average Metric: 12.00 / 14 (85.7%):  58%|███████████████████████████████████████████████████████████████████████████████▎                                                        | 14/24 [00:05<00:03,  3.23it/s]\u001b[34minspect reasoning >>>  The beetle population is most likely to change its color according to the environment through a process called natural selection. In a dry environment with few trees, light brown beetles would blend in better with the surroundings and be less visible to predators. False\n",
      "\u001b[36mstripped strange characters in pred if any : It would be mostly light brown beetles.\n",
      "\u001b[30mgold answer:  It would be mostly light brown beetles. \n",
      "True\n",
      "Average Metric: 13.00 / 15 (86.7%):  62%|█████████████████████████████████████████████████████████████████████████████████████                                                   | 15/24 [00:05<00:02,  3.58it/s]\u001b[34minspect reasoning >>>  An assistive device is something that helps a person with a physical or cognitive disability complete tasks that would otherwise be difficult or impossible. Contact lenses are an example of an assistive device, as they help people with vision impairments see more clearly. The other options are not examples of assistive devices. False\n",
      "\u001b[36mstripped strange characters in pred if any : contact lens\n",
      "\u001b[30mgold answer:  contact lens \n",
      "True\n",
      "Average Metric: 14.00 / 16 (87.5%):  67%|██████████████████████████████████████████████████████████████████████████████████████████▋                                             | 16/24 [00:05<00:01,  4.05it/s]\u001b[34minspect reasoning >>>  The characteristic that most likely accounts for our limited knowledge of galaxies is their great distance from Earth. Galaxies are extremely far away from our planet, making it difficult to observe and study them in detail. This is due to the vast distances involved in space travel and the limitations of our current technology. False\n",
      "\u001b[36mstripped strange characters in pred if any : their great distance from Earth\n",
      "\u001b[30mgold answer:  their great distance from Earth\n",
      "True\n",
      "Average Metric: 15.00 / 17 (88.2%):  67%|██████████████████████████████████████████████████████████████████████████████████████████▋                                             | 16/24 [00:05<00:01,  4.05it/s]\u001b[34minspect reasoning >>>  Decomposers break down dead organisms and waste materials in the ecosystem, and in the process, they release nutrients back into the soil. These nutrients include nitrogen, phosphorus, and other essential elements. Decomposers, such as bacteria and fungi, play a crucial role in recycling nutrients and making them available for plants to use, which in turn increases the fertility of the soil. False\n",
      "\u001b[36mstripped strange characters in pred if any : by adding nitrogen\n",
      "\u001b[30mgold answer:  by adding nitrogen \n",
      "True\n",
      "Average Metric: 16.00 / 18 (88.9%):  75%|██████████████████████████████████████████████████████████████████████████████████████████████████████                                  | 18/24 [00:05<00:01,  4.72it/s]\u001b[34minspect reasoning >>>  When oxygen combines with hydrogen, the resulting substance is water. False\n",
      "\u001b[36mstripped strange characters in pred if any : water\n",
      "\u001b[30mgold answer:  water \n",
      "True\n",
      "Average Metric: 17.00 / 19 (89.5%):  79%|███████████████████████████████████████████████████████████████████████████████████████████████████████████▋                            | 19/24 [00:06<00:01,  4.64it/s]\u001b[34minspect reasoning >>>  The change in state of water particles that causes them to become arranged in a fixed position is freezing, as the water molecules slow down and form a crystalline structure. False\n",
      "\u001b[36mstripped strange characters in pred if any : freezing\n",
      "\u001b[30mgold answer:  freezing \n",
      "True\n",
      "Average Metric: 18.00 / 20 (90.0%):  83%|█████████████████████████████████████████████████████████████████████████████████████████████████████████████████▎                      | 20/24 [00:06<00:01,  3.48it/s]\u001b[34minspect reasoning >>>  The chemical symbol for magnesium is a well-known fact that can be verified by looking at any periodic table. False\n",
      "\u001b[36mstripped strange characters in pred if any : Mg\n",
      "\u001b[30mgold answer:  Mg \n",
      "True\n",
      "Average Metric: 19.00 / 21 (90.5%):  88%|███████████████████████████████████████████████████████████████████████████████████████████████████████████████████████                 | 21/24 [00:06<00:00,  3.45it/s]\u001b[34minspect reasoning >>>  The excretory system is responsible for the removal of waste materials from the body, which includes the release of urea, uric acid, and other waste products from the body through the kidneys, ureters, bladder, and urethra. False\n",
      "\u001b[36mstripped strange characters in pred if any : excretory system\n",
      "\u001b[30mgold answer:  excretory system\n",
      "True\n",
      "Average Metric: 20.00 / 22 (90.9%):  92%|████████████████████████████████████████████████████████████████████████████████████████████████████████████████████████████▋           | 22/24 [00:07<00:00,  3.90it/s]\u001b[34minspect reasoning >>>  White fur color provides camouflage in snowy environments. This can be seen in animals like polar bears, arctic foxes, and snowshoe hares. Therefore, white fur color is an advantage for survival in an environment with snow coverage. False\n",
      "\u001b[36mstripped strange characters in pred if any : arctic tundra\n",
      "\u001b[30mgold answer:  arctic tundra \n",
      "True\n",
      "Average Metric: 21.00 / 23 (91.3%):  92%|████████████████████████████████████████████████████████████████████████████████████████████████████████████████████████████▋           | 22/24 [00:07<00:00,  3.90it/s]\u001b[34minspect reasoning >>>  In a transverse wave, the particles of the medium move in a direction perpendicular to the wave's motion. As the wave passes from right to left, the particles of the medium move up and down, not along the direction of the wave's motion. False\n",
      "\u001b[36mstripped strange characters in pred if any : Particles move back and forth perpendicular to the wave.\n",
      "\u001b[30mgold answer:  Particles move back and forth perpendicular to the wave.\n",
      "True\n",
      "Average Metric: 22.00 / 24 (91.7%): 100%|████████████████████████████████████████████████████████████████████████████████████████████████████████████████████████████████████████| 24/24 [00:07<00:00,  3.41it/s]"
     ]
    },
    {
     "name": "stderr",
     "output_type": "stream",
     "text": [
      "2025/01/09 12:58:47 INFO dspy.evaluate.evaluate: Average Metric: 22 / 24 (91.7%)\n",
      "2025/01/09 12:58:47 INFO dspy.teleprompt.mipro_optimizer_v2: Score: 91.67 with parameters ['Predictor 0: Instruction 0', 'Predictor 0: Few-Shot Set 1'].\n",
      "2025/01/09 12:58:47 INFO dspy.teleprompt.mipro_optimizer_v2: Scores so far: [87.5, 91.67, 83.33, 83.33, 83.33, 91.67, 91.67]\n",
      "2025/01/09 12:58:47 INFO dspy.teleprompt.mipro_optimizer_v2: Best score so far: 91.67\n",
      "2025/01/09 12:58:47 INFO dspy.teleprompt.mipro_optimizer_v2: =======================\n",
      "\n",
      "\n",
      "2025/01/09 12:58:47 INFO dspy.teleprompt.mipro_optimizer_v2: ===== Trial 7 / 7 =====\n"
     ]
    },
    {
     "name": "stdout",
     "output_type": "stream",
     "text": [
      "\n",
      "  0%|                                                                                                                                                                                     | 0/24 [00:00<?, ?it/s]\u001b[34minspect reasoning >>>  New crust is formed at divergent plate boundaries, where two tectonic plates move away from each other. This movement allows magma to rise from the mantle and solidify into new crust, creating features such as mid-ocean ridges and rift valleys. False\n",
      "\u001b[36mstripped strange characters in pred if any : divergent\n",
      "\u001b[30mgold answer:  divergent\n",
      "True\n",
      "Average Metric: 1.00 / 1 (100.0%):   4%|█████▊                                                                                                                                    | 1/24 [00:02<00:48,  2.11s/it]\u001b[34minspect reasoning >>>  Rocks are classified into igneous, metamorphic, and sedimentary based on how they formed. Igneous rocks form from the cooling and solidification of molten magma or lava. Metamorphic rocks form through the transformation of existing rocks under extreme heat and pressure. Sedimentary rocks form from the accumulation and cementation of sediments, such as sand, silt, or mud, over time. False\n",
      "\u001b[36mstripped strange characters in pred if any : how they formed\n",
      "\u001b[30mgold answer:  how they formed \n",
      "True\n",
      "Average Metric: 2.00 / 2 (100.0%):   8%|███████████▌                                                                                                                              | 2/24 [00:02<00:26,  1.19s/it]\u001b[34minspect reasoning >>>  The formation of dark, fertile soil that is good for farming is most likely a result of plant decomposition. Plant decomposition contributes to soil formation by adding organic matter to the soil, improving its structure, and increasing its fertility. As plants decompose, they release nutrients back into the soil, making it more fertile and suitable for farming.\n",
      "\n",
      "Radioactive decay, water erosion, and wind erosion may affect soil composition and structure, but they are not primarily responsible for creating dark, fertile soil that is good for farming. False\n",
      "\u001b[36mstripped strange characters in pred if any : plant decomposition\n",
      "\u001b[30mgold answer:  plant decomposition \n",
      "True\n",
      "Average Metric: 3.00 / 3 (100.0%):  12%|█████████████████▎                                                                                                                        | 3/24 [00:02<00:16,  1.27it/s]\u001b[34minspect reasoning >>>  Calcium carbonate tablets are used to treat stomach discomfort primarily because calcium carbonate neutralizes digestive acid. The chewable tablets are made of calcium carbonate, which is a base, and it reacts with the excess stomach acid, which is an acid, to form water and carbon dioxide. This reaction helps to neutralize the acid and alleviate the discomfort caused by it. Calcium carbonate is not used for its flavor, inexpensiveness, or because it occurs naturally in the body. False\n",
      "\u001b[36mstripped strange characters in pred if any : neutralizes digestive acid\n",
      "\u001b[30mgold answer:  neutralizes digestive acid. \n",
      "False\n",
      "Average Metric: 3.00 / 4 (75.0%):  12%|█████████████████▍                                                                                                                         | 3/24 [00:02<00:16,  1.27it/s]\u001b[34minspect reasoning >>>  To separate a mixture of iron filings and black pepper, one needs to consider the properties of the substances in the mixture. Iron filings are magnetic, while black pepper is not. A magnet can be used to attract the iron filings, leaving behind the black pepper. The other options are not suitable for separating this particular mixture. False\n",
      "\u001b[36mstripped strange characters in pred if any : magnet\n",
      "\u001b[30mgold answer:  magnet \n",
      "True\n",
      "Average Metric: 4.00 / 5 (80.0%):  21%|████████████████████████████▉                                                                                                              | 5/24 [00:03<00:09,  1.97it/s]\u001b[34minspect reasoning >>>  Gas-efficient engines help reduce air pollution by minimizing the amount of fuel used and thus the number of harmful emissions released into the atmosphere. This is because burning less fuel results in a decrease in the production of pollutants such as carbon monoxide, nitrogen oxides, and particulate matter. False\n",
      "\u001b[36mstripped strange characters in pred if any : air pollution\n",
      "\u001b[30mgold answer:  air pollution. \n",
      "False\n",
      "Average Metric: 4.00 / 6 (66.7%):  25%|██████████████████████████████████▊                                                                                                        | 6/24 [00:04<00:13,  1.35it/s]\u001b[34minspect reasoning >>>  A fever is the body's natural response to fighting off an infection caused by foreign invaders such as bacteria and viruses. When a person has a bacterial population in the bloodstream, their immune system responds by releasing chemicals that cause the body's temperature to rise, leading to a fever. This helps the body to fight off the infection more effectively. In contrast, a leg muscle relaxing after exercise, viral particles on the skin, or carbohydrates being digested in the stomach are not likely to cause a fever. False\n",
      "\u001b[36mstripped strange characters in pred if any : a bacterial population in the bloodstream\n",
      "\u001b[30mgold answer:  a bacterial population in the bloodstream \n",
      "True\n",
      "Average Metric: 5.00 / 7 (71.4%):  25%|██████████████████████████████████▊                                                                                                        | 6/24 [00:04<00:13,  1.35it/s]\u001b[34minspect reasoning >>>  In snapdragon plants, red flowers are dominant to white flowers, and when crossed, they produce pink flowers. This indicates that the white flowers are recessive to red flowers, which means that both alleles for flower color must be recessive in order to produce white flowers. To produce plants with only white flowers, the parent plants must both have the recessive white allele, which means they must both have white flowers. False\n",
      "\u001b[36mstripped strange characters in pred if any : both white\n",
      "\u001b[30mgold answer:  both white \n",
      "True\n",
      "Average Metric: 6.00 / 8 (75.0%):  33%|██████████████████████████████████████████████▎                                                                                            | 8/24 [00:05<00:07,  2.05it/s]\u001b[34minspect reasoning >>>  The process of changing igneous rock into metamorphic rock involves heat, pressure, and chemical reactions, which are collectively known as metamorphism. The primary source of energy that drives this process is heat, which comes from the Earth's interior. This heat can be generated by various geological processes, such as tectonic plate movements, magma intrusions, or volcanic activity. The heat causes changes in the rock's mineral composition, crystal structure, and texture, transforming it into metamorphic rock. False\n",
      "\u001b[36mstripped strange characters in pred if any : heat\n",
      "\u001b[30mgold answer:  heat \n",
      "True\n",
      "Average Metric: 7.00 / 9 (77.8%):  38%|████████████████████████████████████████████████████▏                                                                                      | 9/24 [00:05<00:06,  2.37it/s]\u001b[34minspect reasoning >>>  Unicellular organisms are made up of a single cell that is capable of performing all life functions necessary for survival, including growth, reproduction, and metabolism. However, not all unicellular organisms can move on their own or make their own food. Therefore, the best description of all unicellular organisms is that every cell performs all life functions. False\n",
      "\u001b[36mstripped strange characters in pred if any : Every cell performs all life functions.\n",
      "\u001b[30mgold answer:  Every cell performs all life functions.\n",
      "True\n",
      "Average Metric: 8.00 / 10 (80.0%):  42%|█████████████████████████████████████████████████████████                                                                                | 10/24 [00:05<00:05,  2.51it/s]\u001b[34minspect reasoning >>>  An assistive device is any device or equipment that is used to help with a particular task or activity. Contact lenses are an example of an assistive device as they help people with visual impairments to see more clearly. Motorcycles, raincoats, and coffee pots do not serve the same purpose. False\n",
      "\u001b[36mstripped strange characters in pred if any : contact lens\n",
      "\u001b[30mgold answer:  contact lens \n",
      "True\n",
      "Average Metric: 9.00 / 11 (81.8%):  46%|██████████████████████████████████████████████████████████████▊                                                                          | 11/24 [00:07<00:10,  1.29it/s]\u001b[34minspect reasoning >>>  To prevent infections from occurring in small cuts and scrapes, it's important to clean the affected area and remove any bacteria or dirt that may have entered the wound. Applying pressure to stop bleeding does not directly address the prevention of infections. Washing the area with warm, soapy water helps to clean the wound and remove any potential sources of infection. Raising the injured area can help reduce swelling but does not address infection prevention. Applying a cold ice pack can help reduce inflammation but does not directly address the prevention of infections. False\n",
      "\u001b[36mstripped strange characters in pred if any : wash the area with warm, soapy water\n",
      "\u001b[30mgold answer:  wash the area with warm, soapy water\n",
      "True\n",
      "Average Metric: 10.00 / 12 (83.3%):  50%|████████████████████████████████████████████████████████████████████                                                                    | 12/24 [00:07<00:07,  1.61it/s]\u001b[34minspect reasoning >>>  Decomposers play a crucial role in the nutrient cycle by breaking down organic matter, such as dead organisms and plant debris, into simpler inorganic substances. In doing so, they release essential nutrients back into the soil, increasing its fertility. One of the most important nutrients released by decomposers is nitrogen, which is essential for plant growth and development. Decomposers break down proteins found in organic matter and convert them into ammonium or nitrate, which can be easily absorbed by plants. False\n",
      "\u001b[36mstripped strange characters in pred if any : by adding nitrogen\n",
      "\u001b[30mgold answer:  by adding nitrogen \n",
      "True\n",
      "Average Metric: 11.00 / 13 (84.6%):  50%|████████████████████████████████████████████████████████████████████                                                                    | 12/24 [00:07<00:07,  1.61it/s]\u001b[34minspect reasoning >>>  Meiosis is a cell division process that results in the creation of genetically diverse gametes, contributing to genetic variation within a species. The pairing of chromosomes, segregation of alleles, and separation of chromatids are all significant events during meiosis that contribute to genetic variation. However, the event that contributes most to variation is the segregation of alleles during meiosis I, which involves the independent assortment of homologous chromosomes, creating new combinations of alleles in each gamete. The creation of haploid gametes and the separation of chromatids are important steps in meiosis, but they do not directly contribute to the variation between gametes. False\n",
      "\u001b[36mstripped strange characters in pred if any : segregation of alleles\n",
      "\u001b[30mgold answer:  segregation of alleles \n",
      "True\n",
      "Average Metric: 12.00 / 14 (85.7%):  58%|███████████████████████████████████████████████████████████████████████████████▎                                                        | 14/24 [00:08<00:04,  2.07it/s]\u001b[34minspect reasoning >>>  Galaxies are immense structures made up of stars, dust, gas, and dark matter. Our knowledge of galaxies is limited due to their immense distance from Earth. The vast distances to galaxies make it challenging to observe them in detail and study their properties with current technology. False\n",
      "\u001b[36mstripped strange characters in pred if any : their great distance from Earth\n",
      "\u001b[30mgold answer:  their great distance from Earth\n",
      "True\n",
      "Average Metric: 13.00 / 15 (86.7%):  62%|█████████████████████████████████████████████████████████████████████████████████████                                                   | 15/24 [00:09<00:06,  1.50it/s]\u001b[34minspect reasoning >>>  When oxygen combines with hydrogen, the resulting substance is water (H2O). This reaction can occur spontaneously when hydrogen gas (H2) is exposed to oxygen (O2) in the presence of a catalyst, such as the enzyme catalase, or under certain conditions, such as high temperature or pressure. The reaction produces water and releases energy in the form of heat and light. False\n",
      "\u001b[36mstripped strange characters in pred if any : water\n",
      "\u001b[30mgold answer:  water \n",
      "True\n",
      "Average Metric: 14.00 / 16 (87.5%):  67%|██████████████████████████████████████████████████████████████████████████████████████████▋                                             | 16/24 [00:10<00:04,  1.63it/s]\u001b[34minspect reasoning >>>  The change in the state of water particles that causes them to become arranged in a fixed position is freezing. During freezing, water particles lose energy and slow down, allowing them to arrange themselves in a crystal lattice structure. This results in the formation of solid ice, where the particles are held in a fixed position. False\n",
      "\u001b[36mstripped strange characters in pred if any : freezing\n",
      "\u001b[30mgold answer:  freezing \n",
      "True\n",
      "Average Metric: 15.00 / 17 (88.2%):  71%|████████████████████████████████████████████████████████████████████████████████████████████████▎                                       | 17/24 [00:10<00:03,  2.04it/s]\u001b[34minspect reasoning >>>  The process that transfers heat from the campfire to the student is radiation. In this process, energy is transmitted in the form of electromagnetic waves, such as infrared radiation, which can travel through air and be absorbed by objects, warming them up.\n",
      "\n",
      "Conduction is the transfer of heat between objects that are in direct contact with each other. Convection is the transfer of heat by the movement of fluids or gases. Transformation is not a process by which heat is transferred. False\n",
      "\u001b[36mstripped strange characters in pred if any : radiation\n",
      "\u001b[30mgold answer:  radiation \n",
      "True\n",
      "Average Metric: 16.00 / 18 (88.9%):  71%|████████████████████████████████████████████████████████████████████████████████████████████████▎                                       | 17/24 [00:10<00:03,  2.04it/s]\u001b[34minspect reasoning >>>  In a transverse wave, the particles of the medium oscillate back and forth in a direction perpendicular to the direction of wave propagation. When a transverse wave passes from right to left, the particles of the medium move up and down or left and right, depending on the orientation of the wave. However, they do not travel along the wave in either direction. False\n",
      "\u001b[36mstripped strange characters in pred if any : Particles move back and forth perpendicular to the wave.\n",
      "\u001b[30mgold answer:  Particles move back and forth perpendicular to the wave.\n",
      "True\n",
      "Average Metric: 17.00 / 19 (89.5%):  79%|███████████████████████████████████████████████████████████████████████████████████████████████████████████▋                            | 19/24 [00:11<00:03,  1.57it/s]\u001b[34minspect reasoning >>>  White fur color provides camouflage in snowy environments by reflecting light, making it difficult for predators to spot animals with white fur. This is particularly useful in the arctic tundra, where snow covers the ground for most of the year. False\n",
      "\u001b[36mstripped strange characters in pred if any : arctic tundra\n",
      "\u001b[30mgold answer:  arctic tundra \n",
      "True\n",
      "Average Metric: 18.00 / 20 (90.0%):  79%|███████████████████████████████████████████████████████████████████████████████████████████████████████████▋                            | 19/24 [00:11<00:03,  1.57it/s]\u001b[34minspect reasoning >>>  The chemical symbol for magnesium is determined by its position on the periodic table. Magnesium, which has an atomic number of 12, is represented by the symbol \"Mg.\" The other options, \"Ma,\" \"Mn,\" and \"Mu,\" are not valid chemical symbols for any elements. False\n",
      "\u001b[36mstripped strange characters in pred if any : Mg\n",
      "\u001b[30mgold answer:  Mg \n",
      "True\n",
      "Average Metric: 19.00 / 21 (90.5%):  88%|███████████████████████████████████████████████████████████████████████████████████████████████████████████████████████                 | 21/24 [00:12<00:01,  2.34it/s]\u001b[34minspect reasoning >>>  The body system that is responsible for the removal of waste is the excretory system. This system consists of various organs such as the kidneys, liver, lungs, and skin that work together to remove waste products from the body. The kidneys are particularly important in this process, as they filter waste products from the blood and excrete them in the form of urine. False\n",
      "\u001b[36mstripped strange characters in pred if any : excretory system\n",
      "\u001b[30mgold answer:  excretory system\n",
      "True\n",
      "Average Metric: 20.00 / 22 (90.9%):  88%|███████████████████████████████████████████████████████████████████████████████████████████████████████████████████████                 | 21/24 [00:12<00:01,  2.34it/s]\u001b[34minspect reasoning >>>  All cells, whether prokaryotic or eukaryotic, share the need for energy to perform various functions such as growth, division, and maintaining homeostasis. This energy can be obtained through different means, such as photosynthesis or chemosynthesis in autotrophic cells, or by consuming organic molecules in heterotrophic cells. Reproduction, food production, and movement are not universal characteristics shared by all cells. False\n",
      "\u001b[36mstripped strange characters in pred if any : They need energy.\n",
      "\u001b[30mgold answer:  They need energy. \n",
      "True\n",
      "Average Metric: 21.00 / 23 (91.3%):  96%|██████████████████████████████████████████████████████████████████████████████████████████████████████████████████████████████████▎     | 23/24 [00:13<00:00,  2.12it/s]\u001b[34minspect reasoning >>>  In a population of small, plant-eating beetles, about half are light brown and the other half are dark green. Years of drought cause the area to become dry with few trees, making it more difficult for the beetles to survive. In this scenario, natural selection would favor the beetles that have a better chance of survival in the new environment. Since the environment is dry and has few trees, the light brown beetles would be better camouflaged and therefore have a better chance of survival. Over several generations, the population would most likely be dominated by light brown beetles. False\n",
      "\u001b[36mstripped strange characters in pred if any : It would be mostly light brown beetles.\n",
      "\u001b[30mgold answer:  It would be mostly light brown beetles. \n",
      "True\n",
      "Average Metric: 22.00 / 24 (91.7%): 100%|████████████████████████████████████████████████████████████████████████████████████████████████████████████████████████████████████████| 24/24 [00:18<00:00,  1.28it/s]"
     ]
    },
    {
     "name": "stderr",
     "output_type": "stream",
     "text": [
      "2025/01/09 12:59:06 INFO dspy.evaluate.evaluate: Average Metric: 22 / 24 (91.7%)\n",
      "2025/01/09 12:59:06 INFO dspy.teleprompt.mipro_optimizer_v2: Score: 91.67 with parameters ['Predictor 0: Instruction 4', 'Predictor 0: Few-Shot Set 4'].\n",
      "2025/01/09 12:59:06 INFO dspy.teleprompt.mipro_optimizer_v2: Scores so far: [87.5, 91.67, 83.33, 83.33, 83.33, 91.67, 91.67, 91.67]\n",
      "2025/01/09 12:59:06 INFO dspy.teleprompt.mipro_optimizer_v2: Best score so far: 91.67\n",
      "2025/01/09 12:59:06 INFO dspy.teleprompt.mipro_optimizer_v2: =======================\n",
      "\n",
      "\n",
      "2025/01/09 12:59:06 INFO dspy.teleprompt.mipro_optimizer_v2: Returning best identified program with score 91.67!\n"
     ]
    },
    {
     "name": "stdout",
     "output_type": "stream",
     "text": [
      "\n"
     ]
    }
   ],
   "source": [
    "kwargs = dict(teacher_settings=dict(lm=mixtral8x22b), prompt_model=mixtral8x22b, max_errors=999)\n",
    "# Import the optimizer\n",
    "from dspy.teleprompt import MIPROv2\n",
    "\n",
    "# Initialize optimizer\n",
    "teleprompter = MIPROv2(\n",
    "    metric=validate_answer,\n",
    "    auto=\"light\", # Can choose between light, medium, and heavy optimization runs\n",
    ")\n",
    "\n",
    "# Optimize program\n",
    "print(f\"Optimizing zero-shot program with MIPRO...\")\n",
    "optimized_program = teleprompter.compile(\n",
    "    MultiChoices(trainset).deepcopy(),\n",
    "    trainset=trainset,\n",
    "    max_bootstrapped_demos=3, # ZERO FEW-SHOT EXAMPLES\n",
    "    max_labeled_demos=1, # ZERO FEW-SHOT EXAMPLES\n",
    "    requires_permission_to_run=False,\n",
    ")"
   ]
  },
  {
   "cell_type": "code",
   "execution_count": 78,
   "id": "1a1600f3",
   "metadata": {},
   "outputs": [],
   "source": [
    "## saving the optimized program\n",
    "optimized_program.save(f\"/workspace/nvdata/mipro_optimized.json\")\n"
   ]
  }
 ],
 "metadata": {
  "kernelspec": {
   "display_name": "Python 3 (ipykernel)",
   "language": "python",
   "name": "python3"
  },
  "language_info": {
   "codemirror_mode": {
    "name": "ipython",
    "version": 3
   },
   "file_extension": ".py",
   "mimetype": "text/x-python",
   "name": "python",
   "nbconvert_exporter": "python",
   "pygments_lexer": "ipython3",
   "version": "3.10.12"
  }
 },
 "nbformat": 4,
 "nbformat_minor": 5
}
