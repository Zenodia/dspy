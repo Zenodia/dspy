{
 "cells": [
  {
   "cell_type": "code",
   "execution_count": null,
   "id": "c5ed1ec6",
   "metadata": {},
   "outputs": [],
   "source": [
    "!pip install -U --pre dspy "
   ]
  },
  {
   "cell_type": "code",
   "execution_count": null,
   "id": "fe690b06",
   "metadata": {},
   "outputs": [],
   "source": [
    "!pip install -U alfworld==0.3.5 multiprocess\n",
    "alfworld-download\n"
   ]
  },
  {
   "cell_type": "code",
   "execution_count": null,
   "id": "760d29ee",
   "metadata": {},
   "outputs": [],
   "source": []
  },
  {
   "cell_type": "code",
   "execution_count": null,
   "id": "3fd38ec5",
   "metadata": {},
   "outputs": [],
   "source": []
  },
  {
   "cell_type": "code",
   "execution_count": null,
   "id": "c3c5e1c6",
   "metadata": {},
   "outputs": [],
   "source": [
    "from dspy.datasets.alfworld import AlfWorld\n",
    "\n",
    "alfworld = AlfWorld()\n",
    "trainset, devset = alfworld.trainset[:200], alfworld.devset[-200:]\n",
    "len(trainset), len(devset)"
   ]
  },
  {
   "cell_type": "code",
   "execution_count": null,
   "id": "333ccc46",
   "metadata": {},
   "outputs": [],
   "source": [
    "\n",
    "import dspy\n",
    "import os\n",
    "from dotenv import load_dotenv\n",
    "load_dotenv()\n",
    "base_url = 'https://integrate.api.nvidia.com/v1'\n",
    "model = \"meta/llama-3.3-70b-instruct\"\n",
    "\n",
    "llama33_70b = dspy.LM(f'openai/{model}', api_key=os.environ[\"NVIDIA_API_KEY\"], api_base=base_url)\n",
    "\n",
    "mixtral8x22b = dspy.LM('openai/nvdev/mistralai/mixtral-8x22b-instruct-v0.1', api_key=os.environ[\"NV_DEV_API_KEY\"], api_base=base_url, temperature=0.7)\n",
    "\n",
    "dspy.configure(lm=mixtral8x22b)"
   ]
  },
  {
   "cell_type": "code",
   "execution_count": null,
   "id": "85c9662c",
   "metadata": {},
   "outputs": [],
   "source": []
  }
 ],
 "metadata": {
  "kernelspec": {
   "display_name": "Python 3 (ipykernel)",
   "language": "python",
   "name": "python3"
  },
  "language_info": {
   "codemirror_mode": {
    "name": "ipython",
    "version": 3
   },
   "file_extension": ".py",
   "mimetype": "text/x-python",
   "name": "python",
   "nbconvert_exporter": "python",
   "pygments_lexer": "ipython3",
   "version": "3.10.12"
  }
 },
 "nbformat": 4,
 "nbformat_minor": 5
}
